{
  "nbformat": 4,
  "nbformat_minor": 0,
  "metadata": {
    "colab": {
      "name": "GRU4Rec c/DT.ipynb",
      "provenance": [],
      "collapsed_sections": []
    },
    "kernelspec": {
      "name": "python3",
      "display_name": "Python 3"
    },
    "accelerator": "GPU"
  },
  "cells": [
    {
      "cell_type": "markdown",
      "metadata": {
        "id": "bcrDor7CR1SO"
      },
      "source": [
        "# Gated Recurrent Units for session-based next item prediction\n",
        "\n",
        "Patricio Cerda, Bastián Mavrakis, Denis Parra\n",
        "\n",
        "### Ambiente: Python3 + GPU\n",
        "\n",
        "## Descargar datos y repositorio"
      ]
    },
    {
      "cell_type": "code",
      "metadata": {
        "id": "nCAQDIrOPUQP",
        "colab": {
          "base_uri": "https://localhost:8080/"
        },
        "outputId": "efa79e7a-835f-4a5a-e16c-f59f7ce127a5"
      },
      "source": [
        "# Clone repo\n",
        "!git clone https://github.com/pcerdam/KerasGRU4Rec --single-branch src"
      ],
      "execution_count": 1,
      "outputs": [
        {
          "output_type": "stream",
          "name": "stdout",
          "text": [
            "Cloning into 'src'...\n",
            "remote: Enumerating objects: 219, done.\u001b[K\n",
            "remote: Counting objects: 100% (28/28), done.\u001b[K\n",
            "remote: Compressing objects: 100% (21/21), done.\u001b[K\n",
            "remote: Total 219 (delta 10), reused 9 (delta 5), pack-reused 191\u001b[K\n",
            "Receiving objects: 100% (219/219), 10.58 MiB | 12.63 MiB/s, done.\n",
            "Resolving deltas: 100% (92/92), done.\n"
          ]
        }
      ]
    },
    {
      "cell_type": "code",
      "metadata": {
        "id": "BpccDqjDPbjI",
        "colab": {
          "base_uri": "https://localhost:8080/"
        },
        "outputId": "dac9eea9-c12d-46fc-ffc1-fa9b4a32e7c7"
      },
      "source": [
        "# Download RecSys Challenge 2015 dataset\n",
        "!rm -r sample_data\n",
        "!curl https://s3-eu-west-1.amazonaws.com/yc-rdata/yoochoose-data.7z --output data.7z"
      ],
      "execution_count": 2,
      "outputs": [
        {
          "output_type": "stream",
          "name": "stdout",
          "text": [
            "  % Total    % Received % Xferd  Average Speed   Time    Time     Time  Current\n",
            "                                 Dload  Upload   Total   Spent    Left  Speed\n",
            "100  273M  100  273M    0     0  24.4M      0  0:00:11  0:00:11 --:--:-- 28.1M\n"
          ]
        }
      ]
    },
    {
      "cell_type": "code",
      "metadata": {
        "id": "AJkLaRyqPp-z",
        "colab": {
          "base_uri": "https://localhost:8080/"
        },
        "outputId": "80c207d7-f393-4f9e-96df-0f420307811a"
      },
      "source": [
        "# Extract dataset\n",
        "!7z e data.7z -o./rsc15\n",
        "!rm data.7z\n",
        "!mkdir data"
      ],
      "execution_count": 3,
      "outputs": [
        {
          "output_type": "stream",
          "name": "stdout",
          "text": [
            "\n",
            "7-Zip [64] 16.02 : Copyright (c) 1999-2016 Igor Pavlov : 2016-05-21\n",
            "p7zip Version 16.02 (locale=en_US.UTF-8,Utf16=on,HugeFiles=on,64 bits,2 CPUs Intel(R) Xeon(R) CPU @ 2.30GHz (306F0),ASM,AES-NI)\n",
            "\n",
            "Scanning the drive for archives:\n",
            "  0M Scan\b\b\b\b\b\b\b\b\b         \b\b\b\b\b\b\b\b\b1 file, 287211932 bytes (274 MiB)\n",
            "\n",
            "Extracting archive: data.7z\n",
            "--\n",
            "Path = data.7z\n",
            "Type = 7z\n",
            "Physical Size = 287211932\n",
            "Headers Size = 255\n",
            "Method = LZMA:24\n",
            "Solid = +\n",
            "Blocks = 2\n",
            "\n",
            "  0%\b\b\b\b    \b\b\b\b  0% - yoochoose-buys.dat\b\b\b\b\b\b\b\b\b\b\b\b\b\b\b\b\b\b\b\b\b\b\b\b\b                         \b\b\b\b\b\b\b\b\b\b\b\b\b\b\b\b\b\b\b\b\b\b\b\b\b  1% - yoochoose-buys.dat\b\b\b\b\b\b\b\b\b\b\b\b\b\b\b\b\b\b\b\b\b\b\b\b\b                         \b\b\b\b\b\b\b\b\b\b\b\b\b\b\b\b\b\b\b\b\b\b\b\b\b  2% - yoochoose-buys.dat\b\b\b\b\b\b\b\b\b\b\b\b\b\b\b\b\b\b\b\b\b\b\b\b\b                         \b\b\b\b\b\b\b\b\b\b\b\b\b\b\b\b\b\b\b\b\b\b\b\b\b  2% 1 - yoochoose-clicks.dat\b\b\b\b\b\b\b\b\b\b\b\b\b\b\b\b\b\b\b\b\b\b\b\b\b\b\b\b\b                             \b\b\b\b\b\b\b\b\b\b\b\b\b\b\b\b\b\b\b\b\b\b\b\b\b\b\b\b\b  3% 1 - yoochoose-clicks.dat\b\b\b\b\b\b\b\b\b\b\b\b\b\b\b\b\b\b\b\b\b\b\b\b\b\b\b\b\b                             \b\b\b\b\b\b\b\b\b\b\b\b\b\b\b\b\b\b\b\b\b\b\b\b\b\b\b\b\b  4% 1 - yoochoose-clicks.dat\b\b\b\b\b\b\b\b\b\b\b\b\b\b\b\b\b\b\b\b\b\b\b\b\b\b\b\b\b                             \b\b\b\b\b\b\b\b\b\b\b\b\b\b\b\b\b\b\b\b\b\b\b\b\b\b\b\b\b  5% 1 - yoochoose-clicks.dat\b\b\b\b\b\b\b\b\b\b\b\b\b\b\b\b\b\b\b\b\b\b\b\b\b\b\b\b\b                             \b\b\b\b\b\b\b\b\b\b\b\b\b\b\b\b\b\b\b\b\b\b\b\b\b\b\b\b\b  6% 1 - yoochoose-clicks.dat\b\b\b\b\b\b\b\b\b\b\b\b\b\b\b\b\b\b\b\b\b\b\b\b\b\b\b\b\b                             \b\b\b\b\b\b\b\b\b\b\b\b\b\b\b\b\b\b\b\b\b\b\b\b\b\b\b\b\b  7% 1 - yoochoose-clicks.dat\b\b\b\b\b\b\b\b\b\b\b\b\b\b\b\b\b\b\b\b\b\b\b\b\b\b\b\b\b                             \b\b\b\b\b\b\b\b\b\b\b\b\b\b\b\b\b\b\b\b\b\b\b\b\b\b\b\b\b  8% 1 - yoochoose-clicks.dat\b\b\b\b\b\b\b\b\b\b\b\b\b\b\b\b\b\b\b\b\b\b\b\b\b\b\b\b\b                             \b\b\b\b\b\b\b\b\b\b\b\b\b\b\b\b\b\b\b\b\b\b\b\b\b\b\b\b\b  9% 1 - yoochoose-clicks.dat\b\b\b\b\b\b\b\b\b\b\b\b\b\b\b\b\b\b\b\b\b\b\b\b\b\b\b\b\b                             \b\b\b\b\b\b\b\b\b\b\b\b\b\b\b\b\b\b\b\b\b\b\b\b\b\b\b\b\b 10% 1 - yoochoose-clicks.dat\b\b\b\b\b\b\b\b\b\b\b\b\b\b\b\b\b\b\b\b\b\b\b\b\b\b\b\b\b                             \b\b\b\b\b\b\b\b\b\b\b\b\b\b\b\b\b\b\b\b\b\b\b\b\b\b\b\b\b 11% 1 - yoochoose-clicks.dat\b\b\b\b\b\b\b\b\b\b\b\b\b\b\b\b\b\b\b\b\b\b\b\b\b\b\b\b\b                             \b\b\b\b\b\b\b\b\b\b\b\b\b\b\b\b\b\b\b\b\b\b\b\b\b\b\b\b\b 12% 1 - yoochoose-clicks.dat\b\b\b\b\b\b\b\b\b\b\b\b\b\b\b\b\b\b\b\b\b\b\b\b\b\b\b\b\b                             \b\b\b\b\b\b\b\b\b\b\b\b\b\b\b\b\b\b\b\b\b\b\b\b\b\b\b\b\b 13% 1 - yoochoose-clicks.dat\b\b\b\b\b\b\b\b\b\b\b\b\b\b\b\b\b\b\b\b\b\b\b\b\b\b\b\b\b                             \b\b\b\b\b\b\b\b\b\b\b\b\b\b\b\b\b\b\b\b\b\b\b\b\b\b\b\b\b 14% 1 - yoochoose-clicks.dat\b\b\b\b\b\b\b\b\b\b\b\b\b\b\b\b\b\b\b\b\b\b\b\b\b\b\b\b\b                             \b\b\b\b\b\b\b\b\b\b\b\b\b\b\b\b\b\b\b\b\b\b\b\b\b\b\b\b\b 15% 1 - yoochoose-clicks.dat\b\b\b\b\b\b\b\b\b\b\b\b\b\b\b\b\b\b\b\b\b\b\b\b\b\b\b\b\b                             \b\b\b\b\b\b\b\b\b\b\b\b\b\b\b\b\b\b\b\b\b\b\b\b\b\b\b\b\b 16% 1 - yoochoose-clicks.dat\b\b\b\b\b\b\b\b\b\b\b\b\b\b\b\b\b\b\b\b\b\b\b\b\b\b\b\b\b                             \b\b\b\b\b\b\b\b\b\b\b\b\b\b\b\b\b\b\b\b\b\b\b\b\b\b\b\b\b 17% 1 - yoochoose-clicks.dat\b\b\b\b\b\b\b\b\b\b\b\b\b\b\b\b\b\b\b\b\b\b\b\b\b\b\b\b\b                             \b\b\b\b\b\b\b\b\b\b\b\b\b\b\b\b\b\b\b\b\b\b\b\b\b\b\b\b\b 18% 1 - yoochoose-clicks.dat\b\b\b\b\b\b\b\b\b\b\b\b\b\b\b\b\b\b\b\b\b\b\b\b\b\b\b\b\b                             \b\b\b\b\b\b\b\b\b\b\b\b\b\b\b\b\b\b\b\b\b\b\b\b\b\b\b\b\b 19% 1 - yoochoose-clicks.dat\b\b\b\b\b\b\b\b\b\b\b\b\b\b\b\b\b\b\b\b\b\b\b\b\b\b\b\b\b                             \b\b\b\b\b\b\b\b\b\b\b\b\b\b\b\b\b\b\b\b\b\b\b\b\b\b\b\b\b 20% 1 - yoochoose-clicks.dat\b\b\b\b\b\b\b\b\b\b\b\b\b\b\b\b\b\b\b\b\b\b\b\b\b\b\b\b\b                             \b\b\b\b\b\b\b\b\b\b\b\b\b\b\b\b\b\b\b\b\b\b\b\b\b\b\b\b\b 21% 1 - yoochoose-clicks.dat\b\b\b\b\b\b\b\b\b\b\b\b\b\b\b\b\b\b\b\b\b\b\b\b\b\b\b\b\b                             \b\b\b\b\b\b\b\b\b\b\b\b\b\b\b\b\b\b\b\b\b\b\b\b\b\b\b\b\b 22% 1 - yoochoose-clicks.dat\b\b\b\b\b\b\b\b\b\b\b\b\b\b\b\b\b\b\b\b\b\b\b\b\b\b\b\b\b                             \b\b\b\b\b\b\b\b\b\b\b\b\b\b\b\b\b\b\b\b\b\b\b\b\b\b\b\b\b 23% 1 - yoochoose-clicks.dat\b\b\b\b\b\b\b\b\b\b\b\b\b\b\b\b\b\b\b\b\b\b\b\b\b\b\b\b\b                             \b\b\b\b\b\b\b\b\b\b\b\b\b\b\b\b\b\b\b\b\b\b\b\b\b\b\b\b\b 24% 1 - yoochoose-clicks.dat\b\b\b\b\b\b\b\b\b\b\b\b\b\b\b\b\b\b\b\b\b\b\b\b\b\b\b\b\b                             \b\b\b\b\b\b\b\b\b\b\b\b\b\b\b\b\b\b\b\b\b\b\b\b\b\b\b\b\b 25% 1 - yoochoose-clicks.dat\b\b\b\b\b\b\b\b\b\b\b\b\b\b\b\b\b\b\b\b\b\b\b\b\b\b\b\b\b                             \b\b\b\b\b\b\b\b\b\b\b\b\b\b\b\b\b\b\b\b\b\b\b\b\b\b\b\b\b 26% 1 - yoochoose-clicks.dat\b\b\b\b\b\b\b\b\b\b\b\b\b\b\b\b\b\b\b\b\b\b\b\b\b\b\b\b\b                             \b\b\b\b\b\b\b\b\b\b\b\b\b\b\b\b\b\b\b\b\b\b\b\b\b\b\b\b\b 27% 1 - yoochoose-clicks.dat\b\b\b\b\b\b\b\b\b\b\b\b\b\b\b\b\b\b\b\b\b\b\b\b\b\b\b\b\b                             \b\b\b\b\b\b\b\b\b\b\b\b\b\b\b\b\b\b\b\b\b\b\b\b\b\b\b\b\b 28% 1 - yoochoose-clicks.dat\b\b\b\b\b\b\b\b\b\b\b\b\b\b\b\b\b\b\b\b\b\b\b\b\b\b\b\b\b                             \b\b\b\b\b\b\b\b\b\b\b\b\b\b\b\b\b\b\b\b\b\b\b\b\b\b\b\b\b 29% 1 - yoochoose-clicks.dat\b\b\b\b\b\b\b\b\b\b\b\b\b\b\b\b\b\b\b\b\b\b\b\b\b\b\b\b\b                             \b\b\b\b\b\b\b\b\b\b\b\b\b\b\b\b\b\b\b\b\b\b\b\b\b\b\b\b\b 30% 1 - yoochoose-clicks.dat\b\b\b\b\b\b\b\b\b\b\b\b\b\b\b\b\b\b\b\b\b\b\b\b\b\b\b\b\b                             \b\b\b\b\b\b\b\b\b\b\b\b\b\b\b\b\b\b\b\b\b\b\b\b\b\b\b\b\b 31% 1 - yoochoose-clicks.dat\b\b\b\b\b\b\b\b\b\b\b\b\b\b\b\b\b\b\b\b\b\b\b\b\b\b\b\b\b                             \b\b\b\b\b\b\b\b\b\b\b\b\b\b\b\b\b\b\b\b\b\b\b\b\b\b\b\b\b 32% 1 - yoochoose-clicks.dat\b\b\b\b\b\b\b\b\b\b\b\b\b\b\b\b\b\b\b\b\b\b\b\b\b\b\b\b\b                             \b\b\b\b\b\b\b\b\b\b\b\b\b\b\b\b\b\b\b\b\b\b\b\b\b\b\b\b\b 33% 1 - yoochoose-clicks.dat\b\b\b\b\b\b\b\b\b\b\b\b\b\b\b\b\b\b\b\b\b\b\b\b\b\b\b\b\b                             \b\b\b\b\b\b\b\b\b\b\b\b\b\b\b\b\b\b\b\b\b\b\b\b\b\b\b\b\b 34% 1 - yoochoose-clicks.dat\b\b\b\b\b\b\b\b\b\b\b\b\b\b\b\b\b\b\b\b\b\b\b\b\b\b\b\b\b                             \b\b\b\b\b\b\b\b\b\b\b\b\b\b\b\b\b\b\b\b\b\b\b\b\b\b\b\b\b 35% 1 - yoochoose-clicks.dat\b\b\b\b\b\b\b\b\b\b\b\b\b\b\b\b\b\b\b\b\b\b\b\b\b\b\b\b\b                             \b\b\b\b\b\b\b\b\b\b\b\b\b\b\b\b\b\b\b\b\b\b\b\b\b\b\b\b\b 36% 1 - yoochoose-clicks.dat\b\b\b\b\b\b\b\b\b\b\b\b\b\b\b\b\b\b\b\b\b\b\b\b\b\b\b\b\b                             \b\b\b\b\b\b\b\b\b\b\b\b\b\b\b\b\b\b\b\b\b\b\b\b\b\b\b\b\b 37% 1 - yoochoose-clicks.dat\b\b\b\b\b\b\b\b\b\b\b\b\b\b\b\b\b\b\b\b\b\b\b\b\b\b\b\b\b                             \b\b\b\b\b\b\b\b\b\b\b\b\b\b\b\b\b\b\b\b\b\b\b\b\b\b\b\b\b 38% 1 - yoochoose-clicks.dat\b\b\b\b\b\b\b\b\b\b\b\b\b\b\b\b\b\b\b\b\b\b\b\b\b\b\b\b\b                             \b\b\b\b\b\b\b\b\b\b\b\b\b\b\b\b\b\b\b\b\b\b\b\b\b\b\b\b\b 39% 1 - yoochoose-clicks.dat\b\b\b\b\b\b\b\b\b\b\b\b\b\b\b\b\b\b\b\b\b\b\b\b\b\b\b\b\b                             \b\b\b\b\b\b\b\b\b\b\b\b\b\b\b\b\b\b\b\b\b\b\b\b\b\b\b\b\b 40% 1 - yoochoose-clicks.dat\b\b\b\b\b\b\b\b\b\b\b\b\b\b\b\b\b\b\b\b\b\b\b\b\b\b\b\b\b                             \b\b\b\b\b\b\b\b\b\b\b\b\b\b\b\b\b\b\b\b\b\b\b\b\b\b\b\b\b 41% 1 - yoochoose-clicks.dat\b\b\b\b\b\b\b\b\b\b\b\b\b\b\b\b\b\b\b\b\b\b\b\b\b\b\b\b\b                             \b\b\b\b\b\b\b\b\b\b\b\b\b\b\b\b\b\b\b\b\b\b\b\b\b\b\b\b\b 42% 1 - yoochoose-clicks.dat\b\b\b\b\b\b\b\b\b\b\b\b\b\b\b\b\b\b\b\b\b\b\b\b\b\b\b\b\b                             \b\b\b\b\b\b\b\b\b\b\b\b\b\b\b\b\b\b\b\b\b\b\b\b\b\b\b\b\b 43% 1 - yoochoose-clicks.dat\b\b\b\b\b\b\b\b\b\b\b\b\b\b\b\b\b\b\b\b\b\b\b\b\b\b\b\b\b                             \b\b\b\b\b\b\b\b\b\b\b\b\b\b\b\b\b\b\b\b\b\b\b\b\b\b\b\b\b 44% 1 - yoochoose-clicks.dat\b\b\b\b\b\b\b\b\b\b\b\b\b\b\b\b\b\b\b\b\b\b\b\b\b\b\b\b\b                             \b\b\b\b\b\b\b\b\b\b\b\b\b\b\b\b\b\b\b\b\b\b\b\b\b\b\b\b\b 45% 1 - yoochoose-clicks.dat\b\b\b\b\b\b\b\b\b\b\b\b\b\b\b\b\b\b\b\b\b\b\b\b\b\b\b\b\b                             \b\b\b\b\b\b\b\b\b\b\b\b\b\b\b\b\b\b\b\b\b\b\b\b\b\b\b\b\b 46% 1 - yoochoose-clicks.dat\b\b\b\b\b\b\b\b\b\b\b\b\b\b\b\b\b\b\b\b\b\b\b\b\b\b\b\b\b                             \b\b\b\b\b\b\b\b\b\b\b\b\b\b\b\b\b\b\b\b\b\b\b\b\b\b\b\b\b 47% 1 - yoochoose-clicks.dat\b\b\b\b\b\b\b\b\b\b\b\b\b\b\b\b\b\b\b\b\b\b\b\b\b\b\b\b\b                             \b\b\b\b\b\b\b\b\b\b\b\b\b\b\b\b\b\b\b\b\b\b\b\b\b\b\b\b\b 48% 1 - yoochoose-clicks.dat\b\b\b\b\b\b\b\b\b\b\b\b\b\b\b\b\b\b\b\b\b\b\b\b\b\b\b\b\b                             \b\b\b\b\b\b\b\b\b\b\b\b\b\b\b\b\b\b\b\b\b\b\b\b\b\b\b\b\b 49% 1 - yoochoose-clicks.dat\b\b\b\b\b\b\b\b\b\b\b\b\b\b\b\b\b\b\b\b\b\b\b\b\b\b\b\b\b                             \b\b\b\b\b\b\b\b\b\b\b\b\b\b\b\b\b\b\b\b\b\b\b\b\b\b\b\b\b 50% 1 - yoochoose-clicks.dat\b\b\b\b\b\b\b\b\b\b\b\b\b\b\b\b\b\b\b\b\b\b\b\b\b\b\b\b\b                             \b\b\b\b\b\b\b\b\b\b\b\b\b\b\b\b\b\b\b\b\b\b\b\b\b\b\b\b\b 51% 1 - yoochoose-clicks.dat\b\b\b\b\b\b\b\b\b\b\b\b\b\b\b\b\b\b\b\b\b\b\b\b\b\b\b\b\b                             \b\b\b\b\b\b\b\b\b\b\b\b\b\b\b\b\b\b\b\b\b\b\b\b\b\b\b\b\b 52% 1 - yoochoose-clicks.dat\b\b\b\b\b\b\b\b\b\b\b\b\b\b\b\b\b\b\b\b\b\b\b\b\b\b\b\b\b                             \b\b\b\b\b\b\b\b\b\b\b\b\b\b\b\b\b\b\b\b\b\b\b\b\b\b\b\b\b 53% 1 - yoochoose-clicks.dat\b\b\b\b\b\b\b\b\b\b\b\b\b\b\b\b\b\b\b\b\b\b\b\b\b\b\b\b\b                             \b\b\b\b\b\b\b\b\b\b\b\b\b\b\b\b\b\b\b\b\b\b\b\b\b\b\b\b\b 54% 1 - yoochoose-clicks.dat\b\b\b\b\b\b\b\b\b\b\b\b\b\b\b\b\b\b\b\b\b\b\b\b\b\b\b\b\b                             \b\b\b\b\b\b\b\b\b\b\b\b\b\b\b\b\b\b\b\b\b\b\b\b\b\b\b\b\b 55% 1 - yoochoose-clicks.dat\b\b\b\b\b\b\b\b\b\b\b\b\b\b\b\b\b\b\b\b\b\b\b\b\b\b\b\b\b                             \b\b\b\b\b\b\b\b\b\b\b\b\b\b\b\b\b\b\b\b\b\b\b\b\b\b\b\b\b 56% 1 - yoochoose-clicks.dat\b\b\b\b\b\b\b\b\b\b\b\b\b\b\b\b\b\b\b\b\b\b\b\b\b\b\b\b\b                             \b\b\b\b\b\b\b\b\b\b\b\b\b\b\b\b\b\b\b\b\b\b\b\b\b\b\b\b\b 57% 1 - yoochoose-clicks.dat\b\b\b\b\b\b\b\b\b\b\b\b\b\b\b\b\b\b\b\b\b\b\b\b\b\b\b\b\b                             \b\b\b\b\b\b\b\b\b\b\b\b\b\b\b\b\b\b\b\b\b\b\b\b\b\b\b\b\b 58% 1 - yoochoose-clicks.dat\b\b\b\b\b\b\b\b\b\b\b\b\b\b\b\b\b\b\b\b\b\b\b\b\b\b\b\b\b                             \b\b\b\b\b\b\b\b\b\b\b\b\b\b\b\b\b\b\b\b\b\b\b\b\b\b\b\b\b 59% 1 - yoochoose-clicks.dat\b\b\b\b\b\b\b\b\b\b\b\b\b\b\b\b\b\b\b\b\b\b\b\b\b\b\b\b\b                             \b\b\b\b\b\b\b\b\b\b\b\b\b\b\b\b\b\b\b\b\b\b\b\b\b\b\b\b\b 60% 1 - yoochoose-clicks.dat\b\b\b\b\b\b\b\b\b\b\b\b\b\b\b\b\b\b\b\b\b\b\b\b\b\b\b\b\b                             \b\b\b\b\b\b\b\b\b\b\b\b\b\b\b\b\b\b\b\b\b\b\b\b\b\b\b\b\b 61% 1 - yoochoose-clicks.dat\b\b\b\b\b\b\b\b\b\b\b\b\b\b\b\b\b\b\b\b\b\b\b\b\b\b\b\b\b                             \b\b\b\b\b\b\b\b\b\b\b\b\b\b\b\b\b\b\b\b\b\b\b\b\b\b\b\b\b 62% 1 - yoochoose-clicks.dat\b\b\b\b\b\b\b\b\b\b\b\b\b\b\b\b\b\b\b\b\b\b\b\b\b\b\b\b\b                             \b\b\b\b\b\b\b\b\b\b\b\b\b\b\b\b\b\b\b\b\b\b\b\b\b\b\b\b\b 63% 1 - yoochoose-clicks.dat\b\b\b\b\b\b\b\b\b\b\b\b\b\b\b\b\b\b\b\b\b\b\b\b\b\b\b\b\b                             \b\b\b\b\b\b\b\b\b\b\b\b\b\b\b\b\b\b\b\b\b\b\b\b\b\b\b\b\b 64% 1 - yoochoose-clicks.dat\b\b\b\b\b\b\b\b\b\b\b\b\b\b\b\b\b\b\b\b\b\b\b\b\b\b\b\b\b                             \b\b\b\b\b\b\b\b\b\b\b\b\b\b\b\b\b\b\b\b\b\b\b\b\b\b\b\b\b 65% 1 - yoochoose-clicks.dat\b\b\b\b\b\b\b\b\b\b\b\b\b\b\b\b\b\b\b\b\b\b\b\b\b\b\b\b\b                             \b\b\b\b\b\b\b\b\b\b\b\b\b\b\b\b\b\b\b\b\b\b\b\b\b\b\b\b\b 66% 1 - yoochoose-clicks.dat\b\b\b\b\b\b\b\b\b\b\b\b\b\b\b\b\b\b\b\b\b\b\b\b\b\b\b\b\b                             \b\b\b\b\b\b\b\b\b\b\b\b\b\b\b\b\b\b\b\b\b\b\b\b\b\b\b\b\b 67% 1 - yoochoose-clicks.dat\b\b\b\b\b\b\b\b\b\b\b\b\b\b\b\b\b\b\b\b\b\b\b\b\b\b\b\b\b                             \b\b\b\b\b\b\b\b\b\b\b\b\b\b\b\b\b\b\b\b\b\b\b\b\b\b\b\b\b 68% 1 - yoochoose-clicks.dat\b\b\b\b\b\b\b\b\b\b\b\b\b\b\b\b\b\b\b\b\b\b\b\b\b\b\b\b\b                             \b\b\b\b\b\b\b\b\b\b\b\b\b\b\b\b\b\b\b\b\b\b\b\b\b\b\b\b\b 69% 1 - yoochoose-clicks.dat\b\b\b\b\b\b\b\b\b\b\b\b\b\b\b\b\b\b\b\b\b\b\b\b\b\b\b\b\b                             \b\b\b\b\b\b\b\b\b\b\b\b\b\b\b\b\b\b\b\b\b\b\b\b\b\b\b\b\b 70% 1 - yoochoose-clicks.dat\b\b\b\b\b\b\b\b\b\b\b\b\b\b\b\b\b\b\b\b\b\b\b\b\b\b\b\b\b                             \b\b\b\b\b\b\b\b\b\b\b\b\b\b\b\b\b\b\b\b\b\b\b\b\b\b\b\b\b 71% 1 - yoochoose-clicks.dat\b\b\b\b\b\b\b\b\b\b\b\b\b\b\b\b\b\b\b\b\b\b\b\b\b\b\b\b\b                             \b\b\b\b\b\b\b\b\b\b\b\b\b\b\b\b\b\b\b\b\b\b\b\b\b\b\b\b\b 72% 1 - yoochoose-clicks.dat\b\b\b\b\b\b\b\b\b\b\b\b\b\b\b\b\b\b\b\b\b\b\b\b\b\b\b\b\b                             \b\b\b\b\b\b\b\b\b\b\b\b\b\b\b\b\b\b\b\b\b\b\b\b\b\b\b\b\b 73% 1 - yoochoose-clicks.dat\b\b\b\b\b\b\b\b\b\b\b\b\b\b\b\b\b\b\b\b\b\b\b\b\b\b\b\b\b                             \b\b\b\b\b\b\b\b\b\b\b\b\b\b\b\b\b\b\b\b\b\b\b\b\b\b\b\b\b 74% 1 - yoochoose-clicks.dat\b\b\b\b\b\b\b\b\b\b\b\b\b\b\b\b\b\b\b\b\b\b\b\b\b\b\b\b\b                             \b\b\b\b\b\b\b\b\b\b\b\b\b\b\b\b\b\b\b\b\b\b\b\b\b\b\b\b\b 75% 1 - yoochoose-clicks.dat\b\b\b\b\b\b\b\b\b\b\b\b\b\b\b\b\b\b\b\b\b\b\b\b\b\b\b\b\b                             \b\b\b\b\b\b\b\b\b\b\b\b\b\b\b\b\b\b\b\b\b\b\b\b\b\b\b\b\b 76% 1 - yoochoose-clicks.dat\b\b\b\b\b\b\b\b\b\b\b\b\b\b\b\b\b\b\b\b\b\b\b\b\b\b\b\b\b                             \b\b\b\b\b\b\b\b\b\b\b\b\b\b\b\b\b\b\b\b\b\b\b\b\b\b\b\b\b 77% 1 - yoochoose-clicks.dat\b\b\b\b\b\b\b\b\b\b\b\b\b\b\b\b\b\b\b\b\b\b\b\b\b\b\b\b\b                             \b\b\b\b\b\b\b\b\b\b\b\b\b\b\b\b\b\b\b\b\b\b\b\b\b\b\b\b\b 78% 1 - yoochoose-clicks.dat\b\b\b\b\b\b\b\b\b\b\b\b\b\b\b\b\b\b\b\b\b\b\b\b\b\b\b\b\b                             \b\b\b\b\b\b\b\b\b\b\b\b\b\b\b\b\b\b\b\b\b\b\b\b\b\b\b\b\b 79% 1 - yoochoose-clicks.dat\b\b\b\b\b\b\b\b\b\b\b\b\b\b\b\b\b\b\b\b\b\b\b\b\b\b\b\b\b                             \b\b\b\b\b\b\b\b\b\b\b\b\b\b\b\b\b\b\b\b\b\b\b\b\b\b\b\b\b 80% 1 - yoochoose-clicks.dat\b\b\b\b\b\b\b\b\b\b\b\b\b\b\b\b\b\b\b\b\b\b\b\b\b\b\b\b\b                             \b\b\b\b\b\b\b\b\b\b\b\b\b\b\b\b\b\b\b\b\b\b\b\b\b\b\b\b\b 80% 2 - yoochoose-test.dat\b\b\b\b\b\b\b\b\b\b\b\b\b\b\b\b\b\b\b\b\b\b\b\b\b\b\b                           \b\b\b\b\b\b\b\b\b\b\b\b\b\b\b\b\b\b\b\b\b\b\b\b\b\b\b 81% 2 - yoochoose-test.dat\b\b\b\b\b\b\b\b\b\b\b\b\b\b\b\b\b\b\b\b\b\b\b\b\b\b\b                           \b\b\b\b\b\b\b\b\b\b\b\b\b\b\b\b\b\b\b\b\b\b\b\b\b\b\b 82% 2 - yoochoose-test.dat\b\b\b\b\b\b\b\b\b\b\b\b\b\b\b\b\b\b\b\b\b\b\b\b\b\b\b                           \b\b\b\b\b\b\b\b\b\b\b\b\b\b\b\b\b\b\b\b\b\b\b\b\b\b\b 83% 2 - yoochoose-test.dat\b\b\b\b\b\b\b\b\b\b\b\b\b\b\b\b\b\b\b\b\b\b\b\b\b\b\b                           \b\b\b\b\b\b\b\b\b\b\b\b\b\b\b\b\b\b\b\b\b\b\b\b\b\b\b 84% 2 - yoochoose-test.dat\b\b\b\b\b\b\b\b\b\b\b\b\b\b\b\b\b\b\b\b\b\b\b\b\b\b\b                           \b\b\b\b\b\b\b\b\b\b\b\b\b\b\b\b\b\b\b\b\b\b\b\b\b\b\b 85% 2 - yoochoose-test.dat\b\b\b\b\b\b\b\b\b\b\b\b\b\b\b\b\b\b\b\b\b\b\b\b\b\b\b                           \b\b\b\b\b\b\b\b\b\b\b\b\b\b\b\b\b\b\b\b\b\b\b\b\b\b\b 86% 2 - yoochoose-test.dat\b\b\b\b\b\b\b\b\b\b\b\b\b\b\b\b\b\b\b\b\b\b\b\b\b\b\b                           \b\b\b\b\b\b\b\b\b\b\b\b\b\b\b\b\b\b\b\b\b\b\b\b\b\b\b 87% 2 - yoochoose-test.dat\b\b\b\b\b\b\b\b\b\b\b\b\b\b\b\b\b\b\b\b\b\b\b\b\b\b\b                           \b\b\b\b\b\b\b\b\b\b\b\b\b\b\b\b\b\b\b\b\b\b\b\b\b\b\b 88% 2 - yoochoose-test.dat\b\b\b\b\b\b\b\b\b\b\b\b\b\b\b\b\b\b\b\b\b\b\b\b\b\b\b                           \b\b\b\b\b\b\b\b\b\b\b\b\b\b\b\b\b\b\b\b\b\b\b\b\b\b\b 89% 2 - yoochoose-test.dat\b\b\b\b\b\b\b\b\b\b\b\b\b\b\b\b\b\b\b\b\b\b\b\b\b\b\b                           \b\b\b\b\b\b\b\b\b\b\b\b\b\b\b\b\b\b\b\b\b\b\b\b\b\b\b 90% 2 - yoochoose-test.dat\b\b\b\b\b\b\b\b\b\b\b\b\b\b\b\b\b\b\b\b\b\b\b\b\b\b\b                           \b\b\b\b\b\b\b\b\b\b\b\b\b\b\b\b\b\b\b\b\b\b\b\b\b\b\b 91% 2 - yoochoose-test.dat\b\b\b\b\b\b\b\b\b\b\b\b\b\b\b\b\b\b\b\b\b\b\b\b\b\b\b                           \b\b\b\b\b\b\b\b\b\b\b\b\b\b\b\b\b\b\b\b\b\b\b\b\b\b\b 92% 2 - yoochoose-test.dat\b\b\b\b\b\b\b\b\b\b\b\b\b\b\b\b\b\b\b\b\b\b\b\b\b\b\b                           \b\b\b\b\b\b\b\b\b\b\b\b\b\b\b\b\b\b\b\b\b\b\b\b\b\b\b 93% 2 - yoochoose-test.dat\b\b\b\b\b\b\b\b\b\b\b\b\b\b\b\b\b\b\b\b\b\b\b\b\b\b\b                           \b\b\b\b\b\b\b\b\b\b\b\b\b\b\b\b\b\b\b\b\b\b\b\b\b\b\b 94% 2 - yoochoose-test.dat\b\b\b\b\b\b\b\b\b\b\b\b\b\b\b\b\b\b\b\b\b\b\b\b\b\b\b                           \b\b\b\b\b\b\b\b\b\b\b\b\b\b\b\b\b\b\b\b\b\b\b\b\b\b\b 95% 2 - yoochoose-test.dat\b\b\b\b\b\b\b\b\b\b\b\b\b\b\b\b\b\b\b\b\b\b\b\b\b\b\b                           \b\b\b\b\b\b\b\b\b\b\b\b\b\b\b\b\b\b\b\b\b\b\b\b\b\b\b 96% 2 - yoochoose-test.dat\b\b\b\b\b\b\b\b\b\b\b\b\b\b\b\b\b\b\b\b\b\b\b\b\b\b\b                           \b\b\b\b\b\b\b\b\b\b\b\b\b\b\b\b\b\b\b\b\b\b\b\b\b\b\b 97% 2 - yoochoose-test.dat\b\b\b\b\b\b\b\b\b\b\b\b\b\b\b\b\b\b\b\b\b\b\b\b\b\b\b                           \b\b\b\b\b\b\b\b\b\b\b\b\b\b\b\b\b\b\b\b\b\b\b\b\b\b\b 98% 2 - yoochoose-test.dat\b\b\b\b\b\b\b\b\b\b\b\b\b\b\b\b\b\b\b\b\b\b\b\b\b\b\b                           \b\b\b\b\b\b\b\b\b\b\b\b\b\b\b\b\b\b\b\b\b\b\b\b\b\b\b 99% 2 - yoochoose-test.dat\b\b\b\b\b\b\b\b\b\b\b\b\b\b\b\b\b\b\b\b\b\b\b\b\b\b\b                           \b\b\b\b\b\b\b\b\b\b\b\b\b\b\b\b\b\b\b\b\b\b\b\b\b\b\b 99% 3\b\b\b\b\b\b      \b\b\b\b\b\bEverything is Ok\n",
            "\n",
            "Files: 4\n",
            "Size:       1914111754\n",
            "Compressed: 287211932\n"
          ]
        }
      ]
    },
    {
      "cell_type": "markdown",
      "metadata": {
        "id": "gpjJOcqDR945"
      },
      "source": [
        "# Preprocesar dataset"
      ]
    },
    {
      "cell_type": "code",
      "metadata": {
        "id": "7E3mSmYQR9k-"
      },
      "source": [
        "import os\n",
        "import numpy as np\n",
        "import pandas as pd\n",
        "import datetime as dt\n",
        "from matplotlib import pyplot as plt\n",
        "os.environ['TF_CPP_MIN_LOG_LEVEL'] = '3'"
      ],
      "execution_count": 4,
      "outputs": []
    },
    {
      "cell_type": "code",
      "metadata": {
        "id": "WwNyFUAHRssj"
      },
      "source": [
        "src_path = './rsc15/'\n",
        "dst_path   = './data/'"
      ],
      "execution_count": 5,
      "outputs": []
    },
    {
      "cell_type": "code",
      "metadata": {
        "id": "om43PXTNSoLu"
      },
      "source": [
        "def process(src_path, dst_path):\n",
        "  data = pd.read_csv(src_path + 'yoochoose-clicks.dat', sep=',', header=None, usecols=[0,1,2], dtype={0:np.int32, 1:str, 2:np.int64})\n",
        "  data.columns = ['SessionId', 'TimeStr', 'ItemId']\n",
        "\n",
        "  # Add timestamp\n",
        "  data['Time'] = data.TimeStr.apply(lambda x: dt.datetime.strptime(x, '%Y-%m-%dT%H:%M:%S.%fZ').timestamp())\n",
        "  del(data['TimeStr'])\n",
        "\n",
        "  # Filter by session size > 1\n",
        "  session_lengths = data.groupby('SessionId').size()  \n",
        "  data = data[np.in1d(data.SessionId, session_lengths[session_lengths>1].index)]\n",
        "  \n",
        "  # Filter by \"known\" (appears >= 5) items\n",
        "  item_supports = data.groupby('ItemId').size()\n",
        "  data = data[np.in1d(data.ItemId, item_supports[item_supports>=5].index)]\n",
        "  \n",
        "  # Filter by session size > 2\n",
        "  session_lengths = data.groupby('SessionId').size()\n",
        "  data = data[np.in1d(data.SessionId, session_lengths[session_lengths>=2].index)]\n",
        "\n",
        "  # Test split is entire last day\n",
        "  tmax = data.Time.max()\n",
        "  session_max_times = data.groupby('SessionId').Time.max()\n",
        "  \n",
        "  session_train = session_max_times[session_max_times < tmax-86400].index\n",
        "  train = data[np.in1d(data.SessionId, session_train)]\n",
        "  \n",
        "  session_test = session_max_times[session_max_times >= tmax-86400].index\n",
        "  test = data[np.in1d(data.SessionId, session_test)]\n",
        "  test = test[np.in1d(test.ItemId, train.ItemId)]\n",
        "  tslength = test.groupby('SessionId').size()\n",
        "  test = test[np.in1d(test.SessionId, tslength[tslength>=2].index)]\n",
        "  print('Test set\\n\\tEvents: {}\\n\\tSessions: {}\\n\\tItems: {}'.format(len(test), test.SessionId.nunique(), test.ItemId.nunique()))\n",
        "  test.to_csv(dst_path + 'test.tsv', sep='\\t', index=False)\n",
        "\n",
        "  # Validation: second to last day. Train: remainder\n",
        "  tmax = train.Time.max()\n",
        "  session_max_times = train.groupby('SessionId').Time.max()\n",
        "  session_train = session_max_times[session_max_times < tmax-86400].index\n",
        "  session_valid = session_max_times[session_max_times >= tmax-86400].index\n",
        "\n",
        "  train_tr = train[np.in1d(train.SessionId, session_train)]\n",
        "  valid = train[np.in1d(train.SessionId, session_valid)]\n",
        "  valid = valid[np.in1d(valid.ItemId, train_tr.ItemId)]\n",
        "  tslength = valid.groupby('SessionId').size()\n",
        "  valid = valid[np.in1d(valid.SessionId, tslength[tslength>=2].index)]\n",
        "  print('Validation set\\n\\tEvents: {}\\n\\tSessions: {}\\n\\tItems: {}'.format(len(valid), valid.SessionId.nunique(), valid.ItemId.nunique()))\n",
        "  valid.to_csv(dst_path + 'validation.tsv', sep='\\t', index=False)\n",
        "  \n",
        "  \n",
        "  print('Train set\\n\\tEvents: {}\\n\\tSessions: {}\\n\\tItems: {}'.format(len(train_tr), train_tr.SessionId.nunique(), train_tr.ItemId.nunique()))\n",
        "  train_tr.to_csv(dst_path + 'train.tsv', sep='\\t', index=False)\n"
      ],
      "execution_count": 6,
      "outputs": []
    },
    {
      "cell_type": "code",
      "metadata": {
        "id": "nc6wy4phS1v2",
        "colab": {
          "base_uri": "https://localhost:8080/"
        },
        "outputId": "b1ce92ab-4880-4cea-9d93-b3f5bf4893b5"
      },
      "source": [
        "process(src_path, dst_path)  # Takes ~10 minutes"
      ],
      "execution_count": 7,
      "outputs": [
        {
          "output_type": "stream",
          "name": "stdout",
          "text": [
            "Test set\n",
            "\tEvents: 71222\n",
            "\tSessions: 15324\n",
            "\tItems: 6751\n",
            "Validation set\n",
            "\tEvents: 58233\n",
            "\tSessions: 12372\n",
            "\tItems: 6359\n",
            "Train set\n",
            "\tEvents: 31579006\n",
            "\tSessions: 7953885\n",
            "\tItems: 37483\n"
          ]
        }
      ]
    },
    {
      "cell_type": "code",
      "metadata": {
        "id": "kx_HdipUDS2z"
      },
      "source": [
        "def train_fraction(df, fraction, prefix=\"train\", path=\"./data/\"):\n",
        "    \n",
        "    length = len(df['ItemId'])\n",
        "    first_session = df.iloc[length - length//fraction].SessionId\n",
        "    df = df.loc[df['SessionId'] >= first_session]\n",
        "    itemids = df['ItemId'].unique()\n",
        "    n_items = len(itemids)\n",
        "\n",
        "    print('Fractioned data set\\n\\tEvents: {}\\n\\tSessions: {}\\n\\tItems: {}'.format(len(df), df.SessionId.nunique(), df.ItemId.nunique()))\n",
        "    filename = path + '{}_{}.tsv'.format(prefix, fraction)\n",
        "    df.to_csv(filename, sep='\\t', index=False)\n",
        "    print(\"Saved as {}\".format(filename))"
      ],
      "execution_count": 8,
      "outputs": []
    },
    {
      "cell_type": "code",
      "metadata": {
        "id": "4r1tWG1gh7eX",
        "colab": {
          "base_uri": "https://localhost:8080/"
        },
        "outputId": "c2580743-5c86-4b2b-a704-996b009fd858"
      },
      "source": [
        "# Obtain most recent 1/nth fraction of train for demo purposes\n",
        "fraction = 64\n",
        "train = pd.read_csv(dst_path + 'train.tsv', sep='\\t', dtype={'ItemId':np.int64})\n",
        "train_fraction(train, fraction)\n"
      ],
      "execution_count": 9,
      "outputs": [
        {
          "output_type": "stream",
          "name": "stdout",
          "text": [
            "Fractioned data set\n",
            "\tEvents: 71391\n",
            "\tSessions: 17450\n",
            "\tItems: 8724\n",
            "Saved as ./data/train_64.tsv\n"
          ]
        }
      ]
    },
    {
      "cell_type": "markdown",
      "metadata": {
        "id": "ZWgvazVufHs6"
      },
      "source": [
        "# Entrenamiento"
      ]
    },
    {
      "cell_type": "code",
      "metadata": {
        "id": "PSPwVh4AS_GW",
        "colab": {
          "base_uri": "https://localhost:8080/"
        },
        "outputId": "069cd29c-64f6-4806-8cd0-15742481653f"
      },
      "source": [
        "!python src/model/gru4rec.py --epochs 200 --train-path ./data/train_64.tsv --dev-path ./data/validation.tsv --test-path ./data/test.tsv"
      ],
      "execution_count": 10,
      "outputs": [
        {
          "output_type": "stream",
          "name": "stdout",
          "text": [
            "/usr/local/lib/python3.7/dist-packages/keras/optimizer_v2/adam.py:105: UserWarning: The `lr` argument is deprecated, use `learning_rate` instead.\n",
            "  super(Adam, self).__init__(name, **kwargs)\n",
            "Model: \"model\"\n",
            "_________________________________________________________________\n",
            " Layer (type)                Output Shape              Param #   \n",
            "=================================================================\n",
            " input_1 (InputLayer)        [(512, 1, 8725)]          0         \n",
            "                                                                 \n",
            " GRU (GRU)                   [(512, 100),              2648100   \n",
            "                              (512, 100)]                        \n",
            "                                                                 \n",
            " dropout (Dropout)           (512, 100)                0         \n",
            "                                                                 \n",
            " dense (Dense)               (512, 8725)               881225    \n",
            "                                                                 \n",
            "=================================================================\n",
            "Total params: 3,529,325\n",
            "Trainable params: 3,529,325\n",
            "Non-trainable params: 0\n",
            "_________________________________________________________________\n",
            "Epoch 1. Loss: 8.37544:  97% 16929/17451 [00:13<00:00, 1211.31it/s]\n",
            "Epoch 2. Loss: 7.92256:  97% 16929/17451 [00:08<00:00, 1924.71it/s]\n",
            "Epoch 3. Loss: 7.66830:  97% 16929/17451 [00:08<00:00, 1903.68it/s]\n",
            "Epoch 4. Loss: 7.48253:  97% 16929/17451 [00:08<00:00, 1903.96it/s]\n",
            "Epoch 5. Loss: 7.33743:  97% 16929/17451 [00:08<00:00, 1907.57it/s]\n",
            "Epoch 6. Loss: 7.21241:  97% 16929/17451 [00:08<00:00, 1887.10it/s]\n",
            "Epoch 7. Loss: 7.07854:  97% 16929/17451 [00:08<00:00, 1899.23it/s]\n",
            "Epoch 8. Loss: 6.92943:  97% 16929/17451 [00:08<00:00, 1910.85it/s]\n",
            "Epoch 9. Loss: 6.70902:  97% 16929/17451 [00:08<00:00, 1906.35it/s]\n",
            "Epoch 10. Loss: 6.52262:  97% 16929/17451 [00:08<00:00, 1916.76it/s]\n",
            "Epoch 11. Loss: 6.31555:  97% 16929/17451 [00:08<00:00, 1922.02it/s]\n",
            "Epoch 12. Loss: 6.16118:  97% 16929/17451 [00:08<00:00, 1924.76it/s]\n",
            "Epoch 13. Loss: 5.95057:  97% 16929/17451 [00:08<00:00, 1890.49it/s]\n",
            "Epoch 14. Loss: 5.78927:  97% 16929/17451 [00:08<00:00, 1897.92it/s]\n",
            "Epoch 15. Loss: 5.63224:  97% 16929/17451 [00:08<00:00, 1901.22it/s]\n",
            "Epoch 16. Loss: 5.46826:  97% 16929/17451 [00:08<00:00, 1895.89it/s]\n",
            "Epoch 17. Loss: 5.31873:  97% 16929/17451 [00:08<00:00, 1903.16it/s]\n",
            "Epoch 18. Loss: 5.19490:  97% 16929/17451 [00:08<00:00, 1899.61it/s]\n",
            "Epoch 19. Loss: 5.03550:  97% 16929/17451 [00:08<00:00, 1909.21it/s]\n",
            "Epoch 20. Loss: 4.85414:  97% 16929/17451 [00:08<00:00, 1886.16it/s]\n",
            "Epoch 21. Loss: 4.78014:  97% 16929/17451 [00:08<00:00, 1901.32it/s]\n",
            "Epoch 22. Loss: 4.64391:  97% 16929/17451 [00:08<00:00, 1886.66it/s]\n",
            "Epoch 23. Loss: 4.50337:  97% 16929/17451 [00:09<00:00, 1860.48it/s]\n",
            "Epoch 24. Loss: 4.37040:  97% 16929/17451 [00:09<00:00, 1860.37it/s]\n",
            "Epoch 25. Loss: 4.22460:  97% 16929/17451 [00:08<00:00, 1929.16it/s]\n",
            "Epoch 26. Loss: 4.10522:  97% 16929/17451 [00:08<00:00, 1912.34it/s]\n",
            "Epoch 27. Loss: 4.04913:  97% 16929/17451 [00:08<00:00, 1918.97it/s]\n",
            "Epoch 28. Loss: 3.91089:  97% 16929/17451 [00:08<00:00, 1914.69it/s]\n",
            "Epoch 29. Loss: 3.83565:  97% 16929/17451 [00:08<00:00, 1911.55it/s]\n",
            "Epoch 30. Loss: 3.70992:  97% 16929/17451 [00:08<00:00, 1890.86it/s]\n",
            "Epoch 31. Loss: 3.63056:  97% 16929/17451 [00:08<00:00, 1889.05it/s]\n",
            "Epoch 32. Loss: 3.53010:  97% 16929/17451 [00:08<00:00, 1919.94it/s]\n",
            "Epoch 33. Loss: 3.45363:  97% 16929/17451 [00:08<00:00, 1905.69it/s]\n",
            "Epoch 34. Loss: 3.34938:  97% 16929/17451 [00:08<00:00, 1921.80it/s]\n",
            "Epoch 35. Loss: 3.27516:  97% 16929/17451 [00:08<00:00, 1901.40it/s]\n",
            "Epoch 36. Loss: 3.18301:  97% 16929/17451 [00:08<00:00, 1917.09it/s]\n",
            "Epoch 37. Loss: 3.13114:  97% 16929/17451 [00:08<00:00, 1909.53it/s]\n",
            "Epoch 38. Loss: 3.06743:  97% 16929/17451 [00:08<00:00, 1933.30it/s]\n",
            "Epoch 39. Loss: 2.99382:  97% 16929/17451 [00:08<00:00, 1932.21it/s]\n",
            "Epoch 40. Loss: 2.94587:  97% 16929/17451 [00:08<00:00, 1904.79it/s]\n",
            "Epoch 41. Loss: 2.87375:  97% 16929/17451 [00:08<00:00, 1919.27it/s]\n",
            "Epoch 42. Loss: 2.81689:  97% 16929/17451 [00:08<00:00, 1925.28it/s]\n",
            "Epoch 43. Loss: 2.75991:  97% 16929/17451 [00:08<00:00, 1922.70it/s]\n",
            "Epoch 44. Loss: 2.66427:  97% 16929/17451 [00:08<00:00, 1948.82it/s]\n",
            "Epoch 45. Loss: 2.65969:  97% 16929/17451 [00:08<00:00, 1939.54it/s]\n",
            "Epoch 46. Loss: 2.60190:  97% 16929/17451 [00:08<00:00, 1934.95it/s]\n",
            "Epoch 47. Loss: 2.55255:  97% 16929/17451 [00:08<00:00, 1946.22it/s]\n",
            "Epoch 48. Loss: 2.54873:  97% 16929/17451 [00:08<00:00, 1943.05it/s]\n",
            "Epoch 49. Loss: 2.55274:  97% 16929/17451 [00:08<00:00, 1932.99it/s]\n",
            "Epoch 50. Loss: 2.45023:  97% 16929/17451 [00:08<00:00, 1922.95it/s]\n",
            "Epoch 51. Loss: 2.44868:  97% 16929/17451 [00:08<00:00, 1950.11it/s]\n",
            "Epoch 52. Loss: 2.42708:  97% 16929/17451 [00:08<00:00, 1955.02it/s]\n",
            "Epoch 53. Loss: 2.36475:  97% 16929/17451 [00:08<00:00, 1953.41it/s]\n",
            "Epoch 54. Loss: 2.36991:  97% 16929/17451 [00:08<00:00, 1932.72it/s]\n",
            "Epoch 55. Loss: 2.35500:  97% 16929/17451 [00:08<00:00, 1917.26it/s]\n",
            "Epoch 56. Loss: 2.29376:  97% 16929/17451 [00:08<00:00, 1900.56it/s]\n",
            "Epoch 57. Loss: 2.34184:  97% 16929/17451 [00:08<00:00, 1917.82it/s]\n",
            "Epoch 58. Loss: 2.27762:  97% 16929/17451 [00:08<00:00, 1924.63it/s]\n",
            "Epoch 59. Loss: 2.27212:  97% 16929/17451 [00:08<00:00, 1924.17it/s]\n",
            "Epoch 60. Loss: 2.24008:  97% 16929/17451 [00:08<00:00, 1927.22it/s]\n",
            "Epoch 61. Loss: 2.23514:  97% 16929/17451 [00:08<00:00, 1911.95it/s]\n",
            "Epoch 62. Loss: 2.21727:  97% 16929/17451 [00:08<00:00, 1929.13it/s]\n",
            "Epoch 63. Loss: 2.21654:  97% 16929/17451 [00:08<00:00, 1913.87it/s]\n",
            "Epoch 64. Loss: 2.17258:  97% 16929/17451 [00:08<00:00, 1924.01it/s]\n",
            "Epoch 65. Loss: 2.22557:  97% 16929/17451 [00:08<00:00, 1938.83it/s]\n",
            "Epoch 66. Loss: 2.19860:  97% 16929/17451 [00:08<00:00, 1927.78it/s]\n",
            "Epoch 67. Loss: 2.18874:  97% 16929/17451 [00:08<00:00, 1913.84it/s]\n",
            "Epoch 68. Loss: 2.10063:  97% 16929/17451 [00:08<00:00, 1925.17it/s]\n",
            "Epoch 69. Loss: 2.15046:  97% 16929/17451 [00:08<00:00, 1936.26it/s]\n",
            "Epoch 70. Loss: 2.15434:  97% 16929/17451 [00:08<00:00, 1929.24it/s]\n",
            "Epoch 71. Loss: 2.12802:  97% 16929/17451 [00:08<00:00, 1912.09it/s]\n",
            "Epoch 72. Loss: 2.15316:  97% 16929/17451 [00:08<00:00, 1927.64it/s]\n",
            "Epoch 73. Loss: 2.17780:  97% 16929/17451 [00:08<00:00, 1943.71it/s]\n",
            "Epoch 74. Loss: 2.06232:  97% 16929/17451 [00:08<00:00, 1924.63it/s]\n",
            "Epoch 75. Loss: 2.09726:  97% 16929/17451 [00:08<00:00, 1936.06it/s]\n",
            "Epoch 76. Loss: 2.05462:  97% 16929/17451 [00:08<00:00, 1935.79it/s]\n",
            "Epoch 77. Loss: 2.10725:  97% 16929/17451 [00:08<00:00, 1912.93it/s]\n",
            "Epoch 78. Loss: 2.10153:  97% 16929/17451 [00:08<00:00, 1949.76it/s]\n",
            "Epoch 79. Loss: 2.07298:  97% 16929/17451 [00:08<00:00, 1932.36it/s]\n",
            "Epoch 80. Loss: 1.98841:  97% 16929/17451 [00:08<00:00, 1926.63it/s]\n",
            "Epoch 81. Loss: 2.04109:  97% 16929/17451 [00:08<00:00, 1934.97it/s]\n",
            "Epoch 82. Loss: 1.98827:  97% 16929/17451 [00:08<00:00, 1947.68it/s]\n",
            "Epoch 83. Loss: 2.00874:  97% 16929/17451 [00:08<00:00, 1924.41it/s]\n",
            "Epoch 84. Loss: 1.99056:  97% 16929/17451 [00:08<00:00, 1928.40it/s]\n",
            "Epoch 85. Loss: 1.98849:  97% 16929/17451 [00:08<00:00, 1907.33it/s]\n",
            "Epoch 86. Loss: 1.93101:  97% 16929/17451 [00:08<00:00, 1937.31it/s]\n",
            "Epoch 87. Loss: 1.96496:  97% 16929/17451 [00:08<00:00, 1917.22it/s]\n",
            "Epoch 88. Loss: 1.96967:  97% 16929/17451 [00:08<00:00, 1952.62it/s]\n",
            "Epoch 89. Loss: 1.97163:  97% 16929/17451 [00:08<00:00, 1931.43it/s]\n",
            "Epoch 90. Loss: 1.96354:  97% 16929/17451 [00:08<00:00, 1884.88it/s]\n",
            "Epoch 91. Loss: 1.94770:  97% 16929/17451 [00:08<00:00, 1929.84it/s]\n",
            "Epoch 92. Loss: 1.94853:  97% 16929/17451 [00:08<00:00, 1934.83it/s]\n",
            "Epoch 93. Loss: 2.00599:  97% 16929/17451 [00:08<00:00, 1945.92it/s]\n",
            "Epoch 94. Loss: 1.98902:  97% 16929/17451 [00:08<00:00, 1917.66it/s]\n",
            "Epoch 95. Loss: 1.91459:  97% 16929/17451 [00:08<00:00, 1936.27it/s]\n",
            "Epoch 96. Loss: 1.90937:  97% 16929/17451 [00:08<00:00, 1934.04it/s]\n",
            "Epoch 97. Loss: 1.89364:  97% 16929/17451 [00:08<00:00, 1935.08it/s]\n",
            "Epoch 98. Loss: 1.88733:  97% 16929/17451 [00:08<00:00, 1916.80it/s]\n",
            "Epoch 99. Loss: 1.86509:  97% 16929/17451 [00:08<00:00, 1932.71it/s]\n",
            "Epoch 100. Loss: 1.88163:  97% 16929/17451 [00:08<00:00, 1924.21it/s]\n",
            "Epoch 101. Loss: 1.87302:  97% 16929/17451 [00:08<00:00, 1934.06it/s]\n",
            "Epoch 102. Loss: 1.89263:  97% 16929/17451 [00:08<00:00, 1941.90it/s]\n",
            "Epoch 103. Loss: 1.83880:  97% 16929/17451 [00:08<00:00, 1933.21it/s]\n",
            "Epoch 104. Loss: 1.86516:  97% 16929/17451 [00:08<00:00, 1940.49it/s]\n",
            "Epoch 105. Loss: 1.89148:  97% 16929/17451 [00:08<00:00, 1915.15it/s]\n",
            "Epoch 106. Loss: 1.82469:  97% 16929/17451 [00:08<00:00, 1900.81it/s]\n",
            "Epoch 107. Loss: 1.85435:  97% 16929/17451 [00:08<00:00, 1932.60it/s]\n",
            "Epoch 108. Loss: 1.85463:  97% 16929/17451 [00:08<00:00, 1926.51it/s]\n",
            "Epoch 109. Loss: 1.82462:  97% 16929/17451 [00:08<00:00, 1913.77it/s]\n",
            "Epoch 110. Loss: 1.85098:  97% 16929/17451 [00:08<00:00, 1925.60it/s]\n",
            "Epoch 111. Loss: 1.83897:  97% 16929/17451 [00:08<00:00, 1933.67it/s]\n",
            "Epoch 112. Loss: 1.80067:  97% 16929/17451 [00:08<00:00, 1955.13it/s]\n",
            "Epoch 113. Loss: 1.84751:  97% 16929/17451 [00:08<00:00, 1929.12it/s]\n",
            "Epoch 114. Loss: 1.80510:  97% 16929/17451 [00:08<00:00, 1925.68it/s]\n",
            "Epoch 115. Loss: 1.74267:  97% 16929/17451 [00:08<00:00, 1920.51it/s]\n",
            "Epoch 116. Loss: 1.77710:  97% 16929/17451 [00:08<00:00, 1919.14it/s]\n",
            "Epoch 117. Loss: 1.80450:  97% 16929/17451 [00:08<00:00, 1945.53it/s]\n",
            "Epoch 118. Loss: 1.79702:  97% 16929/17451 [00:08<00:00, 1942.75it/s]\n",
            "Epoch 119. Loss: 1.77367:  97% 16929/17451 [00:08<00:00, 1927.64it/s]\n",
            "Epoch 120. Loss: 1.75458:  97% 16929/17451 [00:08<00:00, 1893.33it/s]\n",
            "Epoch 121. Loss: 1.74608:  97% 16929/17451 [00:08<00:00, 1929.96it/s]\n",
            "Epoch 122. Loss: 1.78328:  97% 16929/17451 [00:08<00:00, 1947.34it/s]\n",
            "Epoch 123. Loss: 1.73358:  97% 16929/17451 [00:08<00:00, 1942.27it/s]\n",
            "Epoch 124. Loss: 1.71266:  97% 16929/17451 [00:08<00:00, 1944.64it/s]\n",
            "Epoch 125. Loss: 1.79864:  97% 16929/17451 [00:08<00:00, 1933.67it/s]\n",
            "Epoch 126. Loss: 1.71443:  97% 16929/17451 [00:08<00:00, 1908.32it/s]\n",
            "Epoch 127. Loss: 1.71775:  97% 16929/17451 [00:08<00:00, 1906.59it/s]\n",
            "Epoch 128. Loss: 1.76892:  97% 16929/17451 [00:08<00:00, 1932.28it/s]\n",
            "Epoch 129. Loss: 1.75513:  97% 16929/17451 [00:08<00:00, 1938.57it/s]\n",
            "Epoch 130. Loss: 1.73859:  97% 16929/17451 [00:08<00:00, 1937.56it/s]\n",
            "Epoch 131. Loss: 1.74477:  97% 16929/17451 [00:08<00:00, 1912.10it/s]\n",
            "Epoch 132. Loss: 1.70907:  97% 16929/17451 [00:08<00:00, 1950.02it/s]\n",
            "Epoch 133. Loss: 1.76878:  97% 16929/17451 [00:08<00:00, 1938.90it/s]\n",
            "Epoch 134. Loss: 1.73501:  97% 16929/17451 [00:08<00:00, 1930.47it/s]\n",
            "Epoch 135. Loss: 1.74713:  97% 16929/17451 [00:08<00:00, 1956.74it/s]\n",
            "Epoch 136. Loss: 1.69478:  97% 16929/17451 [00:08<00:00, 1941.00it/s]\n",
            "Epoch 137. Loss: 1.73061:  97% 16929/17451 [00:08<00:00, 1947.32it/s]\n",
            "Epoch 138. Loss: 1.67612:  97% 16929/17451 [00:08<00:00, 1955.87it/s]\n",
            "Epoch 139. Loss: 1.70036:  97% 16929/17451 [00:08<00:00, 1954.08it/s]\n",
            "Epoch 140. Loss: 1.70585:  97% 16929/17451 [00:08<00:00, 1949.14it/s]\n",
            "Epoch 141. Loss: 1.66716:  97% 16929/17451 [00:08<00:00, 1956.10it/s]\n",
            "Epoch 142. Loss: 1.65671:  97% 16929/17451 [00:08<00:00, 1935.29it/s]\n",
            "Epoch 143. Loss: 1.67841:  97% 16929/17451 [00:08<00:00, 1955.99it/s]\n",
            "Epoch 144. Loss: 1.69372:  97% 16929/17451 [00:08<00:00, 1967.75it/s]\n",
            "Epoch 145. Loss: 1.64755:  97% 16929/17451 [00:08<00:00, 1943.58it/s]\n",
            "Epoch 146. Loss: 1.60196:  97% 16929/17451 [00:08<00:00, 1924.84it/s]\n",
            "Epoch 147. Loss: 1.63744:  97% 16929/17451 [00:08<00:00, 1931.68it/s]\n",
            "Epoch 148. Loss: 1.63058:  97% 16929/17451 [00:08<00:00, 1914.77it/s]\n",
            "Epoch 149. Loss: 1.60707:  97% 16929/17451 [00:08<00:00, 1891.77it/s]\n",
            "Epoch 150. Loss: 1.66540:  97% 16929/17451 [00:08<00:00, 1897.74it/s]\n",
            "Epoch 151. Loss: 1.62763:  97% 16929/17451 [00:08<00:00, 1915.56it/s]\n",
            "Epoch 152. Loss: 1.62267:  97% 16929/17451 [00:08<00:00, 1937.70it/s]\n",
            "Epoch 153. Loss: 1.65697:  97% 16929/17451 [00:08<00:00, 1907.44it/s]\n",
            "Epoch 154. Loss: 1.62985:  97% 16929/17451 [00:08<00:00, 1885.75it/s]\n",
            "Epoch 155. Loss: 1.65461:  97% 16929/17451 [00:08<00:00, 1923.08it/s]\n",
            "Epoch 156. Loss: 1.62276:  97% 16929/17451 [00:08<00:00, 1940.75it/s]\n",
            "Epoch 157. Loss: 1.65572:  97% 16929/17451 [00:08<00:00, 1927.66it/s]\n",
            "Epoch 158. Loss: 1.60858:  97% 16929/17451 [00:08<00:00, 1927.94it/s]\n",
            "Epoch 159. Loss: 1.64213:  97% 16929/17451 [00:08<00:00, 1929.27it/s]\n",
            "Epoch 160. Loss: 1.67899:  97% 16929/17451 [00:08<00:00, 1942.71it/s]\n",
            "Epoch 161. Loss: 1.65384:  97% 16929/17451 [00:08<00:00, 1913.62it/s]\n",
            "Epoch 162. Loss: 1.60799:  97% 16929/17451 [00:08<00:00, 1928.51it/s]\n",
            "Epoch 163. Loss: 1.70775:  97% 16929/17451 [00:08<00:00, 1921.18it/s]\n",
            "Epoch 164. Loss: 1.59782:  97% 16929/17451 [00:08<00:00, 1914.53it/s]\n",
            "Epoch 165. Loss: 1.59822:  97% 16929/17451 [00:08<00:00, 1927.83it/s]\n",
            "Epoch 166. Loss: 1.59867:  97% 16929/17451 [00:08<00:00, 1947.17it/s]\n",
            "Epoch 167. Loss: 1.60134:  97% 16929/17451 [00:08<00:00, 1926.99it/s]\n",
            "Epoch 168. Loss: 1.60652:  97% 16929/17451 [00:08<00:00, 1988.17it/s]\n",
            "Epoch 169. Loss: 1.61075:  97% 16929/17451 [00:08<00:00, 1952.04it/s]\n",
            "Epoch 170. Loss: 1.62753:  97% 16929/17451 [00:08<00:00, 1989.89it/s]\n",
            "Epoch 171. Loss: 1.57993:  97% 16929/17451 [00:08<00:00, 1981.95it/s]\n",
            "Epoch 172. Loss: 1.64263:  97% 16929/17451 [00:08<00:00, 1963.77it/s]\n",
            "Epoch 173. Loss: 1.62947:  97% 16929/17451 [00:08<00:00, 1973.20it/s]\n",
            "Epoch 174. Loss: 1.58777:  97% 16929/17451 [00:08<00:00, 1977.17it/s]\n",
            "Epoch 175. Loss: 1.58765:  97% 16929/17451 [00:08<00:00, 1921.41it/s]\n",
            "Epoch 176. Loss: 1.62014:  97% 16929/17451 [00:08<00:00, 1957.82it/s]\n",
            "Epoch 177. Loss: 1.54182:  97% 16929/17451 [00:08<00:00, 1979.20it/s]\n",
            "Epoch 178. Loss: 1.56554:  97% 16929/17451 [00:08<00:00, 1972.80it/s]\n",
            "Epoch 179. Loss: 1.59806:  97% 16929/17451 [00:08<00:00, 1938.21it/s]\n",
            "Epoch 180. Loss: 1.56318:  97% 16929/17451 [00:08<00:00, 1957.93it/s]\n",
            "Epoch 181. Loss: 1.62360:  97% 16929/17451 [00:08<00:00, 1953.71it/s]\n",
            "Epoch 182. Loss: 1.56565:  97% 16929/17451 [00:08<00:00, 1944.18it/s]\n",
            "Epoch 183. Loss: 1.52207:  97% 16929/17451 [00:08<00:00, 1956.67it/s]\n",
            "Epoch 184. Loss: 1.56508:  97% 16929/17451 [00:08<00:00, 1938.90it/s]\n",
            "Epoch 185. Loss: 1.57676:  97% 16929/17451 [00:08<00:00, 1964.62it/s]\n",
            "Epoch 186. Loss: 1.51327:  97% 16929/17451 [00:08<00:00, 1943.64it/s]\n",
            "Epoch 187. Loss: 1.59708:  97% 16929/17451 [00:08<00:00, 1933.34it/s]\n",
            "Epoch 188. Loss: 1.58300:  97% 16929/17451 [00:08<00:00, 1896.16it/s]\n",
            "Epoch 189. Loss: 1.62184:  97% 16929/17451 [00:08<00:00, 1929.16it/s]\n",
            "Epoch 190. Loss: 1.56333:  97% 16929/17451 [00:08<00:00, 1932.39it/s]\n",
            "Epoch 191. Loss: 1.50895:  97% 16929/17451 [00:08<00:00, 1917.46it/s]\n",
            "Epoch 192. Loss: 1.57793:  97% 16929/17451 [00:08<00:00, 1901.10it/s]\n",
            "Epoch 193. Loss: 1.55530:  97% 16929/17451 [00:08<00:00, 1911.77it/s]\n",
            "Epoch 194. Loss: 1.54822:  97% 16929/17451 [00:08<00:00, 1910.62it/s]\n",
            "Epoch 195. Loss: 1.56221:  97% 16929/17451 [00:08<00:00, 1928.24it/s]\n",
            "Epoch 196. Loss: 1.53343:  97% 16929/17451 [00:08<00:00, 1942.77it/s]\n",
            "Epoch 197. Loss: 1.58007:  97% 16929/17451 [00:08<00:00, 1908.83it/s]\n",
            "Epoch 198. Loss: 1.64358:  97% 16929/17451 [00:08<00:00, 1929.05it/s]\n",
            "Epoch 199. Loss: 1.58986:  97% 16929/17451 [00:08<00:00, 1938.11it/s]\n",
            "Evaluating model...\n",
            "\t - Recall@20 epoch 200: 0.460260\n",
            "\t - MRR@20    epoch 200: 0.162422\n",
            "\n"
          ]
        }
      ]
    },
    {
      "cell_type": "markdown",
      "metadata": {
        "id": "tk9EgsON-8Sr"
      },
      "source": [
        "## Resultados\n",
        "\n",
        "Luego de 200 épocas, deberías obtener un desempeño similar al siguiente:\n",
        "\n",
        "\t - Recall@20: 0.47\n",
        "\t - MRR@20   : 0.16\n",
        "\n",
        "\n",
        "Para replicar resultados del paper, utiliza el set de entrenamiento completo"
      ]
    },
    {
      "cell_type": "markdown",
      "metadata": {
        "id": "njfQIzqi_KK8"
      },
      "source": [
        "## Aprovechando información implícita: Dwell Time\n",
        "\n",
        "Podemos utilizar el tiempo que cada item fue visitado por cada usuario para realizar mejores recomendaciones.\n",
        "\n",
        "El supuesto es: a mayor tiempo de permanencia (dwell time) en un item, más interesado está el usuario en dicho item.\n",
        "\n",
        "Se hará item boosting en el set de entrenamiento."
      ]
    },
    {
      "cell_type": "code",
      "metadata": {
        "id": "lh9fruDcuVYg"
      },
      "source": [
        "def preprocess_df(df):    \n",
        "    n_items = len(df['ItemId'].unique())\n",
        "    aux = list(df['ItemId'].unique())\n",
        "    itemids = np.array(aux)\n",
        "    itemidmap = pd.Series(data=np.arange(n_items), index=itemids)  # (id_item => (0, n_items))\n",
        "    \n",
        "    item_key = 'ItemId'\n",
        "    session_key = 'SessionId'\n",
        "    time_key = 'Time'\n",
        "    \n",
        "    data = pd.merge(df, pd.DataFrame({item_key:itemids, 'ItemIdx':itemidmap[itemids].values}), on=item_key, how='inner')\n",
        "    data.sort_values([session_key, time_key], inplace=True)\n",
        "\n",
        "    length = len(data['ItemId'])\n",
        "        \n",
        "    return data"
      ],
      "execution_count": 11,
      "outputs": []
    },
    {
      "cell_type": "code",
      "metadata": {
        "id": "j5O-1YDR_vNY"
      },
      "source": [
        "def compute_dwell_time(df):\n",
        "    times_t = np.roll(df['Time'], -1) # Take time row\n",
        "    times_dt  = df['Time']            # Copy, then displace by one\n",
        "    diffs = np.subtract(times_t, times_dt) # Take pairwise difference\n",
        "    length = len(df['ItemId'])\n",
        "    \n",
        "    # cummulative offset start for each session\n",
        "    offset_sessions = np.zeros(df['SessionId'].nunique()+1, dtype=np.int32)\n",
        "    offset_sessions[1:] = df.groupby('SessionId').size().cumsum() \n",
        "    offset_sessions = offset_sessions - 1\n",
        "    offset_sessions = np.roll(offset_sessions, -1)\n",
        "    \n",
        "    np.put(diffs.values, offset_sessions, np.zeros((offset_sessions.shape)), mode='raise')\n",
        "\n",
        "    return diffs"
      ],
      "execution_count": 12,
      "outputs": []
    },
    {
      "cell_type": "code",
      "metadata": {
        "id": "7vFvOPH9Bfeq"
      },
      "source": [
        "def get_distribution(dts):\n",
        "    filtered = np.array(list(filter(lambda x: int(x) != 0, dts)))\n",
        "    pd_dts = pd.DataFrame(filtered)\n",
        "    pd_dts.boxplot(vert=False, showfliers=False)\n",
        "    plt.xlabel(\"Seconds\")\n",
        "    plt.yticks([])\n",
        "    plt.title(\"Dwell time distribution for RSC15 dataset\")\n",
        "    plt.show()\n",
        "    pd_dts.describe()"
      ],
      "execution_count": 13,
      "outputs": []
    },
    {
      "cell_type": "code",
      "metadata": {
        "id": "pPxWD0xPBfVE"
      },
      "source": [
        "def join_dwell_reps(df, dt, threshold=2000):\n",
        "    # Calculate d_ti/threshold + 1 then add column to dataFrame\n",
        "    dt //= threshold\n",
        "    dt += 1   \n",
        "    df['DwellReps'] = pd.Series(dt.astype(np.int64), index=dt.index)"
      ],
      "execution_count": 14,
      "outputs": []
    },
    {
      "cell_type": "code",
      "metadata": {
        "id": "jYX1RjhQ_wZG"
      },
      "source": [
        "def augment(df):    \n",
        "    col_names = list(df.columns.values)[:3]\n",
        "    augmented = np.repeat(df.values, df['DwellReps'], axis=0) \n",
        "    augmented = pd.DataFrame(data=augmented[:,:3],\n",
        "                             columns=col_names)\n",
        "    dtype = {'SessionId': np.int64, \n",
        "             'ItemId': np.int64, \n",
        "             'Time': np.float32}\n",
        "    \n",
        "    for k, v in dtype.items():\n",
        "        augmented[k] = augmented[k].astype(v)                  \n",
        "    \n",
        "    return augmented"
      ],
      "execution_count": 15,
      "outputs": []
    },
    {
      "cell_type": "code",
      "metadata": {
        "id": "veILDG2X_yJm"
      },
      "source": [
        "new_df = preprocess_df(train)\n",
        "dts = compute_dwell_time(new_df)"
      ],
      "execution_count": 16,
      "outputs": []
    },
    {
      "cell_type": "code",
      "metadata": {
        "id": "7xIJMF5aABmF",
        "colab": {
          "base_uri": "https://localhost:8080/",
          "height": 295
        },
        "outputId": "3348234d-60bf-44e2-d51d-f65a26a6454d"
      },
      "source": [
        "# Visualize\n",
        "get_distribution(dts)"
      ],
      "execution_count": 17,
      "outputs": [
        {
          "output_type": "display_data",
          "data": {
            "image/png": "[encoded data removed]",
            "text/plain": [
              "<Figure size 432x288 with 1 Axes>"
            ]
          },
          "metadata": {
            "needs_background": "light"
          }
        }
      ]
    },
    {
      "cell_type": "code",
      "metadata": {
        "id": "Y4mZ3YB0Ai4q"
      },
      "source": [
        "# threshold is a hyperparameter\n",
        "join_dwell_reps(new_df, dts, threshold=75)\n",
        "\n",
        "# augment the sessions copying each entry an additional (dwellReps[i]-1) times\n",
        "df_aug = augment(new_df)\n",
        "df_aug.to_csv(\"./data/augmented_train.csv\", index=False, sep='\\t')"
      ],
      "execution_count": 18,
      "outputs": []
    },
    {
      "cell_type": "code",
      "metadata": {
        "id": "X1N36STyCrrs",
        "colab": {
          "base_uri": "https://localhost:8080/"
        },
        "outputId": "89166728-f06d-4e2b-d999-4228afdedf51"
      },
      "source": [
        "# retrieve 1/n most recent fraction for demo purposes \n",
        "# (note it is a smaller fraction due to the inflation process)\n",
        "fraction = 64*7\n",
        "train_fraction(df_aug, fraction, prefix='aug_train')"
      ],
      "execution_count": 19,
      "outputs": [
        {
          "output_type": "stream",
          "name": "stdout",
          "text": [
            "Fractioned data set\n",
            "\tEvents: 151923\n",
            "\tSessions: 16351\n",
            "\tItems: 8484\n",
            "Saved as ./data/aug_train_448.tsv\n"
          ]
        }
      ]
    },
    {
      "cell_type": "markdown",
      "metadata": {
        "id": "v2E2q1ArD5Sr"
      },
      "source": [
        "## Entrenamiento con Dwell Time"
      ]
    },
    {
      "cell_type": "code",
      "metadata": {
        "id": "HNq8lpRADWZ2",
        "colab": {
          "base_uri": "https://localhost:8080/"
        },
        "outputId": "e576c6ce-0365-44a7-cfc2-418fa7c10bf0"
      },
      "source": [
        "!python src/model/gru4rec.py --epochs 200 --train-path ./data/aug_train_448.tsv --dev-path ./data/validation.tsv --test-path ./data/test.tsv"
      ],
      "execution_count": 20,
      "outputs": [
        {
          "output_type": "stream",
          "name": "stdout",
          "text": [
            "/usr/local/lib/python3.7/dist-packages/keras/optimizer_v2/adam.py:105: UserWarning: The `lr` argument is deprecated, use `learning_rate` instead.\n",
            "  super(Adam, self).__init__(name, **kwargs)\n",
            "Model: \"model\"\n",
            "_________________________________________________________________\n",
            " Layer (type)                Output Shape              Param #   \n",
            "=================================================================\n",
            " input_1 (InputLayer)        [(512, 1, 8485)]          0         \n",
            "                                                                 \n",
            " GRU (GRU)                   [(512, 100),              2576100   \n",
            "                              (512, 100)]                        \n",
            "                                                                 \n",
            " dropout (Dropout)           (512, 100)                0         \n",
            "                                                                 \n",
            " dense (Dense)               (512, 8485)               856985    \n",
            "                                                                 \n",
            "=================================================================\n",
            "Total params: 3,433,085\n",
            "Trainable params: 3,433,085\n",
            "Non-trainable params: 0\n",
            "_________________________________________________________________\n",
            "Epoch 1. Loss: 7.62074:  97% 15835/16352 [00:25<00:00, 614.61it/s]\n",
            "Epoch 2. Loss: 6.90226:  97% 15835/16352 [00:20<00:00, 759.79it/s]\n",
            "Epoch 3. Loss: 6.07544:  97% 15835/16352 [00:20<00:00, 763.03it/s]\n",
            "Epoch 4. Loss: 5.23365:  97% 15835/16352 [00:20<00:00, 762.18it/s]\n",
            "Epoch 5. Loss: 4.58337:  97% 15835/16352 [00:20<00:00, 762.95it/s]\n",
            "Epoch 6. Loss: 4.09003:  97% 15835/16352 [00:20<00:00, 761.71it/s]\n",
            "Epoch 7. Loss: 3.65777:  97% 15835/16352 [00:20<00:00, 756.63it/s]\n",
            "Epoch 8. Loss: 3.39888:  97% 15835/16352 [00:20<00:00, 761.66it/s]\n",
            "Epoch 9. Loss: 3.13413:  97% 15835/16352 [00:20<00:00, 763.29it/s]\n",
            "Epoch 10. Loss: 2.94663:  97% 15835/16352 [00:20<00:00, 760.08it/s]\n",
            "Epoch 11. Loss: 2.77041:  97% 15835/16352 [00:20<00:00, 762.69it/s]\n",
            "Epoch 12. Loss: 2.58504:  97% 15835/16352 [00:20<00:00, 757.17it/s]\n",
            "Epoch 13. Loss: 2.44238:  97% 15835/16352 [00:20<00:00, 763.98it/s]\n",
            "Epoch 14. Loss: 2.38083:  97% 15835/16352 [00:20<00:00, 759.19it/s]\n",
            "Epoch 15. Loss: 2.24855:  97% 15835/16352 [00:20<00:00, 758.46it/s]\n",
            "Epoch 16. Loss: 2.17545:  97% 15835/16352 [00:20<00:00, 761.94it/s]\n",
            "Epoch 17. Loss: 2.06818:  97% 15835/16352 [00:20<00:00, 757.12it/s]\n",
            "Epoch 18. Loss: 1.99153:  97% 15835/16352 [00:20<00:00, 763.11it/s]\n",
            "Epoch 19. Loss: 1.93118:  97% 15835/16352 [00:20<00:00, 757.30it/s]\n",
            "Epoch 20. Loss: 1.91090:  97% 15835/16352 [00:20<00:00, 760.74it/s]\n",
            "Epoch 21. Loss: 1.82621:  97% 15835/16352 [00:20<00:00, 762.73it/s]\n",
            "Epoch 22. Loss: 1.78823:  97% 15835/16352 [00:20<00:00, 760.05it/s]\n",
            "Epoch 23. Loss: 1.73588:  97% 15835/16352 [00:20<00:00, 763.09it/s]\n",
            "Epoch 24. Loss: 1.67728:  97% 15835/16352 [00:20<00:00, 764.31it/s]\n",
            "Epoch 25. Loss: 1.65959:  97% 15835/16352 [00:20<00:00, 756.86it/s]\n",
            "Epoch 26. Loss: 1.64499:  97% 15835/16352 [00:21<00:00, 749.23it/s]\n",
            "Epoch 27. Loss: 1.58061:  97% 15835/16352 [00:20<00:00, 757.12it/s]\n",
            "Epoch 28. Loss: 1.53400:  97% 15835/16352 [00:20<00:00, 754.86it/s]\n",
            "Epoch 29. Loss: 1.48894:  97% 15835/16352 [00:20<00:00, 759.33it/s]\n",
            "Epoch 30. Loss: 1.50135:  97% 15835/16352 [00:21<00:00, 748.70it/s]\n",
            "Epoch 31. Loss: 1.47717:  97% 15835/16352 [00:20<00:00, 762.73it/s]\n",
            "Epoch 32. Loss: 1.47682:  97% 15835/16352 [00:20<00:00, 760.91it/s]\n",
            "Epoch 33. Loss: 1.42272:  97% 15835/16352 [00:20<00:00, 759.66it/s]\n",
            "Epoch 34. Loss: 1.39969:  97% 15835/16352 [00:20<00:00, 769.77it/s]\n",
            "Epoch 35. Loss: 1.39877:  97% 15835/16352 [00:20<00:00, 768.15it/s]\n",
            "Epoch 36. Loss: 1.36121:  97% 15835/16352 [00:20<00:00, 761.34it/s]\n",
            "Epoch 37. Loss: 1.37469:  97% 15835/16352 [00:20<00:00, 765.14it/s]\n",
            "Epoch 38. Loss: 1.32691:  97% 15835/16352 [00:20<00:00, 758.96it/s]\n",
            "Epoch 39. Loss: 1.33117:  97% 15835/16352 [00:20<00:00, 759.89it/s]\n",
            "Epoch 40. Loss: 1.32797:  97% 15835/16352 [00:20<00:00, 763.42it/s]\n",
            "Epoch 41. Loss: 1.31499:  97% 15835/16352 [00:20<00:00, 756.02it/s]\n",
            "Epoch 42. Loss: 1.28640:  97% 15835/16352 [00:20<00:00, 758.64it/s]\n",
            "Epoch 43. Loss: 1.29030:  97% 15835/16352 [00:20<00:00, 771.76it/s]\n",
            "Epoch 44. Loss: 1.25672:  97% 15835/16352 [00:20<00:00, 757.25it/s]\n",
            "Epoch 45. Loss: 1.25734:  97% 15835/16352 [00:20<00:00, 769.81it/s]\n",
            "Epoch 46. Loss: 1.27749:  97% 15835/16352 [00:20<00:00, 773.50it/s]\n",
            "Epoch 47. Loss: 1.23397:  97% 15835/16352 [00:20<00:00, 761.23it/s]\n",
            "Epoch 48. Loss: 1.24601:  97% 15835/16352 [00:20<00:00, 769.07it/s]\n",
            "Epoch 49. Loss: 1.25033:  97% 15835/16352 [00:20<00:00, 765.65it/s]\n",
            "Epoch 50. Loss: 1.26761:  97% 15835/16352 [00:20<00:00, 764.03it/s]\n",
            "Epoch 51. Loss: 1.19109:  97% 15835/16352 [00:20<00:00, 764.21it/s]\n",
            "Epoch 52. Loss: 1.18178:  97% 15835/16352 [00:20<00:00, 767.86it/s]\n",
            "Epoch 53. Loss: 1.23052:  97% 15835/16352 [00:20<00:00, 758.36it/s]\n",
            "Epoch 54. Loss: 1.19528:  97% 15835/16352 [00:20<00:00, 762.02it/s]\n",
            "Epoch 55. Loss: 1.22872:  97% 15835/16352 [00:20<00:00, 763.63it/s]\n",
            "Epoch 56. Loss: 1.17028:  97% 15835/16352 [00:20<00:00, 756.58it/s]\n",
            "Epoch 57. Loss: 1.17474:  97% 15835/16352 [00:20<00:00, 765.93it/s]\n",
            "Epoch 58. Loss: 1.18529:  97% 15835/16352 [00:20<00:00, 761.18it/s]\n",
            "Epoch 59. Loss: 1.17549:  97% 15835/16352 [00:20<00:00, 760.89it/s]\n",
            "Epoch 60. Loss: 1.19310:  97% 15835/16352 [00:20<00:00, 763.68it/s]\n",
            "Epoch 61. Loss: 1.19880:  97% 15835/16352 [00:20<00:00, 760.71it/s]\n",
            "Epoch 62. Loss: 1.17163:  97% 15835/16352 [00:20<00:00, 757.44it/s]\n",
            "Epoch 63. Loss: 1.17888:  97% 15835/16352 [00:20<00:00, 761.09it/s]\n",
            "Epoch 64. Loss: 1.16384:  97% 15835/16352 [00:20<00:00, 760.15it/s]\n",
            "Epoch 65. Loss: 1.16136:  97% 15835/16352 [00:20<00:00, 765.21it/s]\n",
            "Epoch 66. Loss: 1.15259:  97% 15835/16352 [00:20<00:00, 768.80it/s]\n",
            "Epoch 67. Loss: 1.12696:  97% 15835/16352 [00:20<00:00, 760.95it/s]\n",
            "Epoch 68. Loss: 1.12581:  97% 15835/16352 [00:20<00:00, 762.65it/s]\n",
            "Epoch 69. Loss: 1.16843:  97% 15835/16352 [00:20<00:00, 761.09it/s]\n",
            "Epoch 70. Loss: 1.11173:  97% 15835/16352 [00:21<00:00, 742.86it/s]\n",
            "Epoch 71. Loss: 1.10534:  97% 15835/16352 [00:22<00:00, 713.93it/s]\n",
            "Epoch 72. Loss: 1.09260:  97% 15835/16352 [00:21<00:00, 744.19it/s]\n",
            "Epoch 73. Loss: 1.08617:  97% 15835/16352 [00:21<00:00, 747.82it/s]\n",
            "Epoch 74. Loss: 1.04569:  97% 15835/16352 [00:21<00:00, 747.87it/s]\n",
            "Epoch 75. Loss: 1.11648:  97% 15835/16352 [00:21<00:00, 746.57it/s]\n",
            "Epoch 76. Loss: 1.13935:  97% 15835/16352 [00:21<00:00, 747.03it/s]\n",
            "Epoch 77. Loss: 1.10799:  97% 15835/16352 [00:21<00:00, 750.72it/s]\n",
            "Epoch 78. Loss: 1.11965:  97% 15835/16352 [00:20<00:00, 759.24it/s]\n",
            "Epoch 79. Loss: 1.04323:  97% 15835/16352 [00:20<00:00, 756.92it/s]\n",
            "Epoch 80. Loss: 1.09161:  97% 15835/16352 [00:20<00:00, 758.42it/s]\n",
            "Epoch 81. Loss: 1.05293:  97% 15835/16352 [00:21<00:00, 752.20it/s]\n",
            "Epoch 82. Loss: 1.10233:  97% 15835/16352 [00:20<00:00, 762.82it/s]\n",
            "Epoch 83. Loss: 1.09789:  97% 15835/16352 [00:20<00:00, 776.20it/s]\n",
            "Epoch 84. Loss: 1.10630:  97% 15835/16352 [00:20<00:00, 770.20it/s]\n",
            "Epoch 85. Loss: 1.06665:  97% 15835/16352 [00:20<00:00, 768.60it/s]\n",
            "Epoch 86. Loss: 1.07379:  97% 15835/16352 [00:20<00:00, 765.34it/s]\n",
            "Epoch 87. Loss: 1.06828:  97% 15835/16352 [00:20<00:00, 766.77it/s]\n",
            "Epoch 88. Loss: 1.06691:  97% 15835/16352 [00:20<00:00, 767.05it/s]\n",
            "Epoch 89. Loss: 1.10367:  97% 15835/16352 [00:20<00:00, 760.90it/s]\n",
            "Epoch 90. Loss: 1.07673:  97% 15835/16352 [00:20<00:00, 765.50it/s]\n",
            "Epoch 91. Loss: 1.07277:  97% 15835/16352 [00:20<00:00, 759.07it/s]\n",
            "Epoch 92. Loss: 1.08439:  97% 15835/16352 [00:20<00:00, 766.94it/s]\n",
            "Epoch 93. Loss: 1.11867:  97% 15835/16352 [00:20<00:00, 762.87it/s]\n",
            "Epoch 94. Loss: 1.08149:  97% 15835/16352 [00:20<00:00, 762.31it/s]\n",
            "Epoch 95. Loss: 1.04846:  97% 15835/16352 [00:20<00:00, 763.61it/s]\n",
            "Epoch 96. Loss: 1.04235:  97% 15835/16352 [00:20<00:00, 763.80it/s]\n",
            "Epoch 97. Loss: 1.03964:  97% 15835/16352 [00:20<00:00, 774.16it/s]\n",
            "Epoch 98. Loss: 1.04200:  97% 15835/16352 [00:20<00:00, 762.25it/s]\n",
            "Epoch 99. Loss: 1.02420:  97% 15835/16352 [00:20<00:00, 762.85it/s]\n",
            "Epoch 100. Loss: 1.05735:  97% 15835/16352 [00:20<00:00, 765.38it/s]\n",
            "Epoch 101. Loss: 1.02515:  97% 15835/16352 [00:20<00:00, 767.01it/s]\n",
            "Epoch 102. Loss: 1.02528:  97% 15835/16352 [00:20<00:00, 766.26it/s]\n",
            "Epoch 103. Loss: 1.02003:  97% 15835/16352 [00:20<00:00, 767.40it/s]\n",
            "Epoch 104. Loss: 1.04557:  97% 15835/16352 [00:20<00:00, 770.12it/s]\n",
            "Epoch 105. Loss: 1.05017:  97% 15835/16352 [00:20<00:00, 769.77it/s]\n",
            "Epoch 106. Loss: 0.98164:  97% 15835/16352 [00:20<00:00, 774.13it/s]\n",
            "Epoch 107. Loss: 1.06219:  97% 15835/16352 [00:20<00:00, 772.80it/s]\n",
            "Epoch 108. Loss: 1.04443:  97% 15835/16352 [00:20<00:00, 766.64it/s]\n",
            "Epoch 109. Loss: 1.04332:  97% 15835/16352 [00:20<00:00, 768.82it/s]\n",
            "Epoch 110. Loss: 0.98953:  97% 15835/16352 [00:20<00:00, 763.92it/s]\n",
            "Epoch 111. Loss: 1.02984:  97% 15835/16352 [00:20<00:00, 769.57it/s]\n",
            "Epoch 112. Loss: 1.00724:  97% 15835/16352 [00:20<00:00, 771.38it/s]\n",
            "Epoch 113. Loss: 1.01323:  97% 15835/16352 [00:20<00:00, 768.56it/s]\n",
            "Epoch 114. Loss: 1.02127:  97% 15835/16352 [00:20<00:00, 764.25it/s]\n",
            "Epoch 115. Loss: 1.02937:  97% 15835/16352 [00:20<00:00, 773.62it/s]\n",
            "Epoch 116. Loss: 0.93364:  97% 15835/16352 [00:20<00:00, 766.25it/s]\n",
            "Epoch 117. Loss: 0.99374:  97% 15835/16352 [00:20<00:00, 773.63it/s]\n",
            "Epoch 118. Loss: 0.99543:  97% 15835/16352 [00:20<00:00, 764.24it/s]\n",
            "Epoch 119. Loss: 0.96050:  97% 15835/16352 [00:20<00:00, 773.70it/s]\n",
            "Epoch 120. Loss: 0.97512:  97% 15835/16352 [00:20<00:00, 773.67it/s]\n",
            "Epoch 121. Loss: 0.99211:  97% 15835/16352 [00:20<00:00, 774.99it/s]\n",
            "Epoch 122. Loss: 0.97826:  97% 15835/16352 [00:20<00:00, 763.55it/s]\n",
            "Epoch 123. Loss: 1.02650:  97% 15835/16352 [00:20<00:00, 761.72it/s]\n",
            "Epoch 124. Loss: 0.95463:  97% 15835/16352 [00:20<00:00, 766.54it/s]\n",
            "Epoch 125. Loss: 0.97793:  97% 15835/16352 [00:20<00:00, 761.74it/s]\n",
            "Epoch 126. Loss: 0.98744:  97% 15835/16352 [00:20<00:00, 759.44it/s]\n",
            "Epoch 127. Loss: 0.91955:  97% 15835/16352 [00:20<00:00, 766.68it/s]\n",
            "Epoch 128. Loss: 0.97719:  97% 15835/16352 [00:20<00:00, 759.18it/s]\n",
            "Epoch 129. Loss: 0.97869:  97% 15835/16352 [00:20<00:00, 760.44it/s]\n",
            "Epoch 130. Loss: 0.93311:  97% 15835/16352 [00:21<00:00, 751.68it/s]\n",
            "Epoch 131. Loss: 0.99599:  97% 15835/16352 [00:20<00:00, 758.28it/s]\n",
            "Epoch 132. Loss: 0.95857:  97% 15835/16352 [00:20<00:00, 757.62it/s]\n",
            "Epoch 133. Loss: 0.94483:  97% 15835/16352 [00:22<00:00, 719.52it/s]\n",
            "Epoch 134. Loss: 0.99727:  97% 15835/16352 [00:21<00:00, 739.75it/s]\n",
            "Epoch 135. Loss: 1.00871:  97% 15835/16352 [00:20<00:00, 755.93it/s]\n",
            "Epoch 136. Loss: 1.02341:  97% 15835/16352 [00:21<00:00, 748.52it/s]\n",
            "Epoch 137. Loss: 0.99804:  97% 15835/16352 [00:21<00:00, 744.60it/s]\n",
            "Epoch 138. Loss: 0.99039:  97% 15835/16352 [00:21<00:00, 753.10it/s]\n",
            "Epoch 139. Loss: 0.94098:  97% 15835/16352 [00:21<00:00, 751.13it/s]\n",
            "Epoch 140. Loss: 0.96902:  97% 15835/16352 [00:20<00:00, 760.01it/s]\n",
            "Epoch 141. Loss: 0.98576:  97% 15835/16352 [00:20<00:00, 756.88it/s]\n",
            "Epoch 142. Loss: 0.93434:  97% 15835/16352 [00:21<00:00, 753.84it/s]\n",
            "Epoch 143. Loss: 0.95082:  97% 15835/16352 [00:21<00:00, 753.45it/s]\n",
            "Epoch 144. Loss: 0.94405:  97% 15835/16352 [00:20<00:00, 756.30it/s]\n",
            "Epoch 145. Loss: 0.94616:  97% 15835/16352 [00:20<00:00, 757.83it/s]\n",
            "Epoch 146. Loss: 0.98309:  97% 15835/16352 [00:20<00:00, 768.29it/s]\n",
            "Epoch 147. Loss: 0.98090:  97% 15835/16352 [00:20<00:00, 761.14it/s]\n",
            "Epoch 148. Loss: 0.95217:  97% 15835/16352 [00:20<00:00, 764.65it/s]\n",
            "Epoch 149. Loss: 0.93760:  97% 15835/16352 [00:20<00:00, 772.40it/s]\n",
            "Epoch 150. Loss: 0.97410:  97% 15835/16352 [00:20<00:00, 760.79it/s]\n",
            "Epoch 151. Loss: 0.96894:  97% 15835/16352 [00:20<00:00, 762.06it/s]\n",
            "Epoch 152. Loss: 0.95929:  97% 15835/16352 [00:20<00:00, 758.44it/s]\n",
            "Epoch 153. Loss: 0.95926:  97% 15835/16352 [00:20<00:00, 765.78it/s]\n",
            "Epoch 154. Loss: 0.91368:  97% 15835/16352 [00:20<00:00, 768.67it/s]\n",
            "Epoch 155. Loss: 0.95604:  97% 15835/16352 [00:20<00:00, 760.69it/s]\n",
            "Epoch 156. Loss: 0.97785:  97% 15835/16352 [00:20<00:00, 754.35it/s]\n",
            "Epoch 157. Loss: 0.98443:  97% 15835/16352 [00:21<00:00, 749.05it/s]\n",
            "Epoch 158. Loss: 0.97488:  97% 15835/16352 [00:20<00:00, 757.11it/s]\n",
            "Epoch 159. Loss: 0.97777:  97% 15835/16352 [00:20<00:00, 758.46it/s]\n",
            "Epoch 160. Loss: 0.95082:  97% 15835/16352 [00:20<00:00, 755.62it/s]\n",
            "Epoch 161. Loss: 0.94136:  97% 15835/16352 [00:20<00:00, 758.00it/s]\n",
            "Epoch 162. Loss: 0.95795:  97% 15835/16352 [00:20<00:00, 762.66it/s]\n",
            "Epoch 163. Loss: 0.94711:  97% 15835/16352 [00:20<00:00, 758.97it/s]\n",
            "Epoch 164. Loss: 0.94029:  97% 15835/16352 [00:20<00:00, 765.70it/s]\n",
            "Epoch 165. Loss: 0.94433:  97% 15835/16352 [00:20<00:00, 771.00it/s]\n",
            "Epoch 166. Loss: 0.90316:  97% 15835/16352 [00:20<00:00, 758.41it/s]\n",
            "Epoch 167. Loss: 0.94143:  97% 15835/16352 [00:20<00:00, 760.82it/s]\n",
            "Epoch 168. Loss: 0.92314:  97% 15835/16352 [00:20<00:00, 762.99it/s]\n",
            "Epoch 169. Loss: 0.97997:  97% 15835/16352 [00:20<00:00, 763.02it/s]\n",
            "Epoch 170. Loss: 0.98121:  97% 15835/16352 [00:20<00:00, 755.17it/s]\n",
            "Epoch 171. Loss: 0.92582:  97% 15835/16352 [00:20<00:00, 761.76it/s]\n",
            "Epoch 172. Loss: 0.95902:  97% 15835/16352 [00:20<00:00, 760.91it/s]\n",
            "Epoch 173. Loss: 0.92198:  97% 15835/16352 [00:20<00:00, 762.97it/s]\n",
            "Epoch 174. Loss: 0.95673:  97% 15835/16352 [00:20<00:00, 759.12it/s]\n",
            "Epoch 175. Loss: 0.88177:  97% 15835/16352 [00:21<00:00, 751.88it/s]\n",
            "Epoch 176. Loss: 0.96217:  97% 15835/16352 [00:20<00:00, 759.75it/s]\n",
            "Epoch 177. Loss: 0.92773:  97% 15835/16352 [00:20<00:00, 759.46it/s]\n",
            "Epoch 178. Loss: 0.96687:  97% 15835/16352 [00:21<00:00, 749.35it/s]\n",
            "Epoch 179. Loss: 0.91423:  97% 15835/16352 [00:21<00:00, 752.69it/s]\n",
            "Epoch 180. Loss: 0.96704:  97% 15835/16352 [00:20<00:00, 755.43it/s]\n",
            "Epoch 181. Loss: 1.01949:  97% 15835/16352 [00:20<00:00, 763.52it/s]\n",
            "Epoch 182. Loss: 0.97784:  97% 15835/16352 [00:21<00:00, 747.42it/s]\n",
            "Epoch 183. Loss: 0.93349:  97% 15835/16352 [00:20<00:00, 754.48it/s]\n",
            "Epoch 184. Loss: 0.95748:  97% 15835/16352 [00:21<00:00, 743.80it/s]\n",
            "Epoch 185. Loss: 0.97678:  97% 15835/16352 [00:21<00:00, 744.05it/s]\n",
            "Epoch 186. Loss: 0.91764:  97% 15835/16352 [00:21<00:00, 751.30it/s]\n",
            "Epoch 187. Loss: 0.94113:  97% 15835/16352 [00:20<00:00, 761.67it/s]\n",
            "Epoch 188. Loss: 0.89358:  97% 15835/16352 [00:20<00:00, 763.42it/s]\n",
            "Epoch 189. Loss: 0.90942:  97% 15835/16352 [00:20<00:00, 765.26it/s]\n",
            "Epoch 190. Loss: 0.94556:  97% 15835/16352 [00:20<00:00, 760.90it/s]\n",
            "Epoch 191. Loss: 0.96456:  97% 15835/16352 [00:20<00:00, 765.72it/s]\n",
            "Epoch 192. Loss: 0.96785:  97% 15835/16352 [00:20<00:00, 766.76it/s]\n",
            "Epoch 193. Loss: 0.99228:  97% 15835/16352 [00:21<00:00, 740.95it/s]\n",
            "Epoch 194. Loss: 0.97158:  97% 15835/16352 [00:21<00:00, 744.97it/s]\n",
            "Epoch 195. Loss: 0.90823:  97% 15835/16352 [00:21<00:00, 745.45it/s]\n",
            "Epoch 196. Loss: 0.87186:  97% 15835/16352 [00:20<00:00, 762.09it/s]\n",
            "Epoch 197. Loss: 0.90393:  97% 15835/16352 [00:20<00:00, 763.44it/s]\n",
            "Epoch 198. Loss: 0.90772:  97% 15835/16352 [00:20<00:00, 769.95it/s]\n",
            "Epoch 199. Loss: 0.89332:  97% 15835/16352 [00:20<00:00, 761.87it/s]\n",
            "Evaluating model...\n",
            "\t - Recall@20 epoch 200: 0.508769\n",
            "\t - MRR@20    epoch 200: 0.206987\n",
            "\n"
          ]
        }
      ]
    },
    {
      "cell_type": "markdown",
      "metadata": {
        "id": "YdMFiWFK65w1"
      },
      "source": [
        "Indique el resultado del modelo con Dwell Time. \n",
        "\n",
        "Después de varias horas corriendo el programa, por fin tenemos los resultados que queremos. Al entrenar gru4rec con dwell time, podemos ver que por cada época, el valor de pérdida va disminuyendo (el cual es esperado ya que este está tratando de optimizar este valor y disminuirlo), llegando a un valor mínimo de 0.89332. Esto es mucho mejor que la versión sin dwell time, el cual llegó a un valor de pérdida de 1.58986. \\\\\n",
        "Al comparar recall y MMR, notamos que en la versión con dwell time son mejores. Para recall, entrenar con dwell time nos dió un valor de 0.508769, comparado con 0.460260. Y para MMR@20, el entrenamiento con dwell time nos dió 0.206987, una mejora comparado con 0.162422.  \\\\\n",
        "Estos valores parecen ser pequeños, pero el recall mejoró en 27.68% y el MMR en 27.43%, los cuales son cantidades tremendas. \n",
        "\n"
      ]
    },
    {
      "cell_type": "code",
      "metadata": {
        "id": "w_VDXn_3v6nF"
      },
      "source": [
        ""
      ],
      "execution_count": null,
      "outputs": []
    }
  ]
}