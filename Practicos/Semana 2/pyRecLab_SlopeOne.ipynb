{
  "nbformat": 4,
  "nbformat_minor": 0,
  "metadata": {
    "colab": {
      "name": "pyRecLab_SlopeOne.ipynb",
      "provenance": []
    },
    "kernelspec": {
      "display_name": "Python 3",
      "language": "python",
      "name": "python3"
    },
    "language_info": {
      "codemirror_mode": {
        "name": "ipython",
        "version": 3
      },
      "file_extension": ".py",
      "mimetype": "text/x-python",
      "name": "python",
      "nbconvert_exporter": "python",
      "pygments_lexer": "ipython3",
      "version": "3.6.0"
    },
    "toc": {
      "base_numbering": 1,
      "nav_menu": {},
      "number_sections": true,
      "sideBar": true,
      "skip_h1_title": false,
      "title_cell": "Table of Contents",
      "title_sidebar": "Contents",
      "toc_cell": false,
      "toc_position": {},
      "toc_section_display": true,
      "toc_window_display": false
    }
  },
  "cells": [
    {
      "cell_type": "markdown",
      "metadata": {
        "id": "view-in-github"
      },
      "source": [
        "<a href=\"https://colab.research.google.com/github/PUC-RecSys-Class/RecSysPUC-2020/blob/master/practicos/pyRecLab_SlopeOne.ipynb\" target=\"_parent\"><img src=\"https://colab.research.google.com/assets/colab-badge.svg\" alt=\"Open In Colab\"/></a>\n"
      ]
    },
    {
      "cell_type": "markdown",
      "metadata": {
        "id": "view-in-youtube"
      },
      "source": [
        "<a href=\"https://youtu.be/A2euuevpYis\" target=\"_parent\"><img src=\"https://upload.wikimedia.org/wikipedia/commons/thumb/0/09/YouTube_full-color_icon_%282017%29.svg/71px-YouTube_full-color_icon_%282017%29.svg.png\" alt=\"Open In Colab\"/></a>\n"
      ]
    },
    {
      "cell_type": "markdown",
      "metadata": {
        "id": "0kY7Xfgi84HC"
      },
      "source": [
        "# **Práctico Sistemas Recomendadores: pyreclab - Slope One**\n",
        "\n",
        "En este práctico seguiremos utilizando [pyreclab](https://github.com/gasevi/pyreclab), con el cual estamos aprendiendo distintas técnicas de recomendación. Seguiremos usando la misma base de datos de los prácticos anteriores, para que puedan comparar los métodos y sus implementaciones. Este práctico está acompañado de un [video comentando la actividad](https://youtu.be/A2euuevpYis).\n",
        "\n",
        "En esta oportunidad exploraremos el recomendador de Pendiente Uno o **Slope One** [1].\n",
        "\n",
        "**Adaptado y preparado por:** Francisca Cattan 📩 fpcattan@uc.cl\n",
        "\n",
        "Referencias 📖\n",
        "------\n",
        "[1] *Lemire, D., & Maclachlan, A. (2005, April). Slope One Predictors for Online Rating-Based Collaborative Filtering. In SDM (Vol. 5, pp. 1-5).*\n"
      ]
    },
    {
      "cell_type": "markdown",
      "metadata": {
        "id": "1s6Ac_Kh9qiH"
      },
      "source": [
        "**Nombre**:  Clemente Sepúlveda"
      ]
    },
    {
      "cell_type": "markdown",
      "metadata": {
        "id": "Z4Jr74pP-4gt"
      },
      "source": [
        "## Actividad 1 👓\n",
        "\n",
        "Antes de empezar con el práctico, responde la siguiente pregunta con lo visto en clases.\n",
        "\n",
        "**Pregunta:** Explique cómo funciona Slope One (como modelo teórico, no piense en la implementación). En particular explique:\n",
        "\n",
        "- Repasemos: ¿Por qué este recomendador es un algoritmo de Filtrado Colaborativo?\n",
        "- Este Filtrado Colaborativo, ¿está basado en el usuario o en los items? ¿Por qué?\n",
        "- ¿Qué datos recibe Slope One y qué hace con ellos? (qué tipo de columnas y qué calculo)\n",
        "- ¿Qué pasaría si se agrega un nuevo rating a la base de datos?\n",
        "- Opcional: ¿Cómo crees que le iría al recomendador con un usuario que acaba de entrar al sistema y ha asignado muy pocos ratings?\n",
        "\n",
        "💡 *Hint: La bibliografía todo lo puede.*\n",
        "\n",
        "**Respuesta:** \\\\\n",
        "Este recomendador es un algoritmo de Filtrado Colaborativo debido a que necesita ratings que han hecho otros usuarios para poder predecir (o recomendar) algún item a un usuario en específico (por eso es 'colaborativo'). \\\\\n",
        " Los datos que se necesitan son ratings $r_{ui}$, que significa un rating que el usuario $u$ hizo al item $i$. Esto se puede visualizar como una matriz con los usuarios en las filas y los items en las columnas. Lo que hace slope one es encontrar las diferencias entre dos ratings de dos items, para muchos usuarios. Esto se puede ver como encontrar el $b$ de la función $f(x) = x + b$, $x$ siendo el rating de un item1, $f(x)$ siendo la predicción para un item2, y b siendo el promedio de las diferencia entre item2 e item1 para los usuarios que dieron ratings a esos items.\\\\\n",
        "Al agregar un nuevo rating a la base de datos, se tendría que recalcular algunas de estas diferencias para este usuario. Esto significa que se puede tener otra base de datos con las diferencias entre items para los usuarios ya precalculados. Esto ayudaría en que no hay que hacer todos los cálculos todo de nuevo al momento de tener un nuevo rating, y solamente cambiar los ratings nuevos del usuario, y usar esta base de datos para generar una predicción.\\\\\n",
        "Al tener un usuario que ha dado pocos ratings, el recomendador no le va a ir muy bien debido a que se necesita encontrar pares de items en el cual este usuario dió calificaciones y otros usuarios también dieron calificaciones. Podría pasar que un usuario ha dado solamente una calificación, el cual solo tiene ese rating. Lo que pasa en ese caso es que no se puede comparar con otros usarios (ya que nadie más ha visto ese item), y por ende, no se le puede predecir para otras películas.\n",
        "\n"
      ]
    },
    {
      "cell_type": "markdown",
      "metadata": {
        "id": "HaFY1qNzHyCD"
      },
      "source": [
        "# **Configuración Inicial**"
      ]
    },
    {
      "cell_type": "markdown",
      "metadata": {
        "id": "MvGNsjiIIC6G"
      },
      "source": [
        "## Paso 1:\n",
        "Descargue directamente a Colab los archivos del dataset ejecutando las siguientes 3 celdas:\n"
      ]
    },
    {
      "cell_type": "code",
      "metadata": {
        "colab": {
          "base_uri": "https://localhost:8080/"
        },
        "id": "_7M_ehHq8ti2",
        "outputId": "207ca05f-ab02-4759-a4fa-e8d1e0a813b4"
      },
      "source": [
        "!curl -L -o \"u1.base\" \"https://drive.google.com/uc?export=download&id=1bGweNw7NbOHoJz11v6ld7ymLR8MLvBsA\""
      ],
      "execution_count": 1,
      "outputs": [
        {
          "output_type": "stream",
          "name": "stdout",
          "text": [
            "  % Total    % Received % Xferd  Average Speed   Time    Time     Time  Current\n",
            "                                 Dload  Upload   Total   Spent    Left  Speed\n",
            "100   388    0   388    0     0    568      0 --:--:-- --:--:-- --:--:--   568\n",
            "100 1546k  100 1546k    0     0  1567k      0 --:--:-- --:--:-- --:--:--  107M\n"
          ]
        }
      ]
    },
    {
      "cell_type": "code",
      "metadata": {
        "colab": {
          "base_uri": "https://localhost:8080/"
        },
        "id": "CSdhurW1InVW",
        "outputId": "225acc33-ed13-41f7-a6de-5ad287018a64"
      },
      "source": [
        "!curl -L -o \"u1.test\" \"https://drive.google.com/uc?export=download&id=1f_HwJWC_1HFzgAjKAWKwkuxgjkhkXrVg\""
      ],
      "execution_count": 2,
      "outputs": [
        {
          "output_type": "stream",
          "name": "stdout",
          "text": [
            "  % Total    % Received % Xferd  Average Speed   Time    Time     Time  Current\n",
            "                                 Dload  Upload   Total   Spent    Left  Speed\n",
            "100   388    0   388    0     0    783      0 --:--:-- --:--:-- --:--:--   783\n",
            "100  385k  100  385k    0     0   552k      0 --:--:-- --:--:-- --:--:--  552k\n"
          ]
        }
      ]
    },
    {
      "cell_type": "code",
      "metadata": {
        "colab": {
          "base_uri": "https://localhost:8080/"
        },
        "id": "QoGzmPG2InzM",
        "outputId": "90255bd9-ec2e-4849-b92a-53744ab006ea"
      },
      "source": [
        "!curl -L -o \"u.item\" \"https://drive.google.com/uc?export=download&id=10YLhxkO2-M_flQtyo9OYV4nT9IvSESuz\""
      ],
      "execution_count": 3,
      "outputs": [
        {
          "output_type": "stream",
          "name": "stdout",
          "text": [
            "  % Total    % Received % Xferd  Average Speed   Time    Time     Time  Current\n",
            "                                 Dload  Upload   Total   Spent    Left  Speed\n",
            "100   388    0   388    0     0    930      0 --:--:-- --:--:-- --:--:--   930\n",
            "100  230k  100  230k    0     0   370k      0 --:--:-- --:--:-- --:--:--  370k\n"
          ]
        }
      ]
    },
    {
      "cell_type": "markdown",
      "metadata": {
        "id": "kluVF2eJIyjq"
      },
      "source": [
        "Los archivos **u1.base** y **u1.test** tienen tuplas {usuario, item, rating, timestamp}, que es la información de preferencias de usuarios sobre películas en una muestra del dataset [movielens](https://grouplens.org/datasets/movielens/)."
      ]
    },
    {
      "cell_type": "markdown",
      "metadata": {
        "id": "uopKG59rJWM9"
      },
      "source": [
        "## Paso 2:\n",
        "\n",
        "Instalamos pyreclab utilizando pip."
      ]
    },
    {
      "cell_type": "code",
      "metadata": {
        "colab": {
          "base_uri": "https://localhost:8080/"
        },
        "id": "hi9L5FZdJWfI",
        "outputId": "26bd2eff-57ee-4f75-ad19-443e748e3d52"
      },
      "source": [
        "!pip install pyreclab --upgrade"
      ],
      "execution_count": 4,
      "outputs": [
        {
          "output_type": "stream",
          "name": "stdout",
          "text": [
            "Collecting pyreclab\n",
            "  Downloading pyreclab-0.1.15-cp37-cp37m-manylinux2010_x86_64.whl (234 kB)\n",
            "\u001b[K     |████████████████████████████████| 234 kB 6.1 MB/s \n",
            "\u001b[?25hInstalling collected packages: pyreclab\n",
            "Successfully installed pyreclab-0.1.15\n"
          ]
        }
      ]
    },
    {
      "cell_type": "markdown",
      "metadata": {
        "id": "M28DoBHtN5qD"
      },
      "source": [
        "## Paso 3:\n",
        "\n",
        "Hacemos los imports necesarios para este práctico."
      ]
    },
    {
      "cell_type": "code",
      "metadata": {
        "id": "KQ0jQ_JcN3el"
      },
      "source": [
        "import pyreclab\n",
        "import numpy as np\n",
        "import pandas as pd"
      ],
      "execution_count": 5,
      "outputs": []
    },
    {
      "cell_type": "markdown",
      "metadata": {
        "id": "bmxNQtXvfJy3"
      },
      "source": [
        "# **El dataset**\n",
        "\n",
        "💡 *En prácticos anteriores, vimos como analizar este dataset. Puedes revisarlos en caso de dudas.*"
      ]
    },
    {
      "cell_type": "markdown",
      "metadata": {
        "id": "nAdXLT7haQe1"
      },
      "source": [
        "## Paso 4:\n",
        "\n",
        "Ya que queremos crear una lista de recomendación de items para un usuario en especifico, necesitamos obtener información adicional de cada película tal como título, fecha de lanzamiento, género, etc. Cargaremos el archivo de items descargado \"u.item\" para poder mapear cada identificador de ítem al conjunto de datos que lo describe."
      ]
    },
    {
      "cell_type": "code",
      "metadata": {
        "id": "p0vHiGJheUkB"
      },
      "source": [
        "# Definimos el orden de las columnas\n",
        "info_cols = [ 'movieid', 'title', 'release_date', 'video_release_date', 'IMDb_URL', \\\n",
        "              'unknown', 'Action', 'Adventure', 'Animation', 'Children', 'Comedy', \\\n",
        "              'Crime', 'Documentary', 'Drama', 'Fantasy', 'Film-Noir', 'Horror', \\\n",
        "              'Musical', 'Mystery', 'Romance', 'Sci-Fi', 'Thriller', 'War', 'Western' ]\n",
        "\n",
        "# Asignamos a una variable la estructura de datos de los items\n",
        "info_file = pd.read_csv('u.item', sep='|', index_col = 0, names = info_cols, header=None, encoding='latin-1')"
      ],
      "execution_count": 6,
      "outputs": []
    },
    {
      "cell_type": "markdown",
      "metadata": {
        "id": "z4pjNDlMOOdo"
      },
      "source": [
        "# **Slope One**"
      ]
    },
    {
      "cell_type": "markdown",
      "metadata": {
        "id": "H5sx7xkfQE6W"
      },
      "source": [
        "## Paso 5:\n",
        "\n",
        "Seguiremos un camino muy similar a los ejercicios de User KNN e Item KNN. Crearemos una instancia del algoritmo de recomendación y luego pasaremos a la fase de entrenamiento."
      ]
    },
    {
      "cell_type": "code",
      "metadata": {
        "id": "v3D7CAoyPfko"
      },
      "source": [
        "# Declaramos la instancia SlopeOne\n",
        "mySlopeOne = pyreclab.SlopeOne(dataset='u1.base', dlmchar=b'\\t', header=False, usercol=0, itemcol=1, ratingcol=2)"
      ],
      "execution_count": 7,
      "outputs": []
    },
    {
      "cell_type": "code",
      "metadata": {
        "id": "EhacKomkTs51"
      },
      "source": [
        "# Y entrenamos\n",
        "mySlopeOne.train()"
      ],
      "execution_count": 9,
      "outputs": []
    },
    {
      "cell_type": "markdown",
      "metadata": {
        "id": "Wnb3DkVVTttZ"
      },
      "source": [
        "## Actividad 2 👓\n",
        "\n",
        "**Pregunta:** Explique qué hace el método `train()` en este caso, dado el modelo teórico. ¿Calcula información?, ¿no hace nada?, ¿ordena los datos? \n",
        "\n",
        "**Respuesta:** \\\\\n",
        "En el paper, lo que se trata de hacer es encontrar una función $f(x) = x + b$; en el cual $b$ es una constante, y $x$ es una variable que representa a valores de ratings. Para cada par de items, se trata de encontrar una función igual a la mencionada que busca predecir el valor de un rating de un item a base de los ratings del otro. Por lo tanto, al momento de ejecutar `train()`, se genera un modelo con todas estas funciones para poder predecir los ratings que haría un usuario a una película. Por lo tanto, al momento de querer predecir, solamente consultamos la función que está almacenada en este modelo, y nos da una predicción. "
      ]
    },
    {
      "cell_type": "markdown",
      "metadata": {
        "id": "XqR8bZB2VboJ"
      },
      "source": [
        "## Paso 6:\n",
        "\n",
        "Llego la hora de predecir el rating."
      ]
    },
    {
      "cell_type": "code",
      "metadata": {
        "colab": {
          "base_uri": "https://localhost:8080/"
        },
        "id": "H9yigNx9VYZ3",
        "outputId": "0b547870-42dd-42d2-f39a-3ff33b02f4ad"
      },
      "source": [
        "# Esta es la predicción de rating que el usuario ID:457 otorgaría al ítem ID:37\n",
        "# De esta forma podemos comparar el resultado con los prácticos anteriores\n",
        "mySlopeOne.predict(\"457\", \"37\")"
      ],
      "execution_count": 10,
      "outputs": [
        {
          "output_type": "execute_result",
          "data": {
            "text/plain": [
              "3.5898244380950928"
            ]
          },
          "metadata": {},
          "execution_count": 10
        }
      ]
    },
    {
      "cell_type": "code",
      "metadata": {
        "id": "-0ShLi6gYhh_"
      },
      "source": [
        "# También podemos guardar la predicción en una variable\n",
        "prediction = mySlopeOne.predict(\"457\", \"37\")"
      ],
      "execution_count": 11,
      "outputs": []
    },
    {
      "cell_type": "code",
      "metadata": {
        "colab": {
          "base_uri": "https://localhost:8080/",
          "height": 512
        },
        "id": "2yFtdiVcUcKW",
        "outputId": "69bb8bbc-6b48-4bf6-fb76-d2f685017cd6"
      },
      "source": [
        "# Podemos comprobar las peliculas rankeadas por el usuario ID:457\n",
        "# Que ciertamente ha participado activamente (¡156 items!)\n",
        "train_file = pd.read_csv('u1.base', sep='\\t', names = ['userid', 'itemid', 'rating', 'timestamp'], header=None)\n",
        "train_file[train_file['userid'] == 457].sort_values(by=['rating']).tail(15)"
      ],
      "execution_count": 17,
      "outputs": [
        {
          "output_type": "execute_result",
          "data": {
            "text/html": [
              "<div>\n",
              "<style scoped>\n",
              "    .dataframe tbody tr th:only-of-type {\n",
              "        vertical-align: middle;\n",
              "    }\n",
              "\n",
              "    .dataframe tbody tr th {\n",
              "        vertical-align: top;\n",
              "    }\n",
              "\n",
              "    .dataframe thead th {\n",
              "        text-align: right;\n",
              "    }\n",
              "</style>\n",
              "<table border=\"1\" class=\"dataframe\">\n",
              "  <thead>\n",
              "    <tr style=\"text-align: right;\">\n",
              "      <th></th>\n",
              "      <th>userid</th>\n",
              "      <th>itemid</th>\n",
              "      <th>rating</th>\n",
              "      <th>timestamp</th>\n",
              "    </tr>\n",
              "  </thead>\n",
              "  <tbody>\n",
              "    <tr>\n",
              "      <th>37311</th>\n",
              "      <td>457</td>\n",
              "      <td>176</td>\n",
              "      <td>5</td>\n",
              "      <td>882397542</td>\n",
              "    </tr>\n",
              "    <tr>\n",
              "      <th>37309</th>\n",
              "      <td>457</td>\n",
              "      <td>169</td>\n",
              "      <td>5</td>\n",
              "      <td>882396935</td>\n",
              "    </tr>\n",
              "    <tr>\n",
              "      <th>37308</th>\n",
              "      <td>457</td>\n",
              "      <td>162</td>\n",
              "      <td>5</td>\n",
              "      <td>882548793</td>\n",
              "    </tr>\n",
              "    <tr>\n",
              "      <th>37382</th>\n",
              "      <td>457</td>\n",
              "      <td>528</td>\n",
              "      <td>5</td>\n",
              "      <td>882397543</td>\n",
              "    </tr>\n",
              "    <tr>\n",
              "      <th>37326</th>\n",
              "      <td>457</td>\n",
              "      <td>200</td>\n",
              "      <td>5</td>\n",
              "      <td>882396799</td>\n",
              "    </tr>\n",
              "    <tr>\n",
              "      <th>37305</th>\n",
              "      <td>457</td>\n",
              "      <td>154</td>\n",
              "      <td>5</td>\n",
              "      <td>882397058</td>\n",
              "    </tr>\n",
              "    <tr>\n",
              "      <th>37304</th>\n",
              "      <td>457</td>\n",
              "      <td>151</td>\n",
              "      <td>5</td>\n",
              "      <td>882394010</td>\n",
              "    </tr>\n",
              "    <tr>\n",
              "      <th>37388</th>\n",
              "      <td>457</td>\n",
              "      <td>582</td>\n",
              "      <td>5</td>\n",
              "      <td>882548350</td>\n",
              "    </tr>\n",
              "    <tr>\n",
              "      <th>37389</th>\n",
              "      <td>457</td>\n",
              "      <td>588</td>\n",
              "      <td>5</td>\n",
              "      <td>882397411</td>\n",
              "    </tr>\n",
              "    <tr>\n",
              "      <th>37302</th>\n",
              "      <td>457</td>\n",
              "      <td>147</td>\n",
              "      <td>5</td>\n",
              "      <td>882395400</td>\n",
              "    </tr>\n",
              "    <tr>\n",
              "      <th>37300</th>\n",
              "      <td>457</td>\n",
              "      <td>135</td>\n",
              "      <td>5</td>\n",
              "      <td>882397240</td>\n",
              "    </tr>\n",
              "    <tr>\n",
              "      <th>37329</th>\n",
              "      <td>457</td>\n",
              "      <td>204</td>\n",
              "      <td>5</td>\n",
              "      <td>882397699</td>\n",
              "    </tr>\n",
              "    <tr>\n",
              "      <th>37393</th>\n",
              "      <td>457</td>\n",
              "      <td>632</td>\n",
              "      <td>5</td>\n",
              "      <td>882397543</td>\n",
              "    </tr>\n",
              "    <tr>\n",
              "      <th>37310</th>\n",
              "      <td>457</td>\n",
              "      <td>175</td>\n",
              "      <td>5</td>\n",
              "      <td>882547139</td>\n",
              "    </tr>\n",
              "    <tr>\n",
              "      <th>37343</th>\n",
              "      <td>457</td>\n",
              "      <td>238</td>\n",
              "      <td>5</td>\n",
              "      <td>882392976</td>\n",
              "    </tr>\n",
              "  </tbody>\n",
              "</table>\n",
              "</div>"
            ],
            "text/plain": [
              "       userid  itemid  rating  timestamp\n",
              "37311     457     176       5  882397542\n",
              "37309     457     169       5  882396935\n",
              "37308     457     162       5  882548793\n",
              "37382     457     528       5  882397543\n",
              "37326     457     200       5  882396799\n",
              "37305     457     154       5  882397058\n",
              "37304     457     151       5  882394010\n",
              "37388     457     582       5  882548350\n",
              "37389     457     588       5  882397411\n",
              "37302     457     147       5  882395400\n",
              "37300     457     135       5  882397240\n",
              "37329     457     204       5  882397699\n",
              "37393     457     632       5  882397543\n",
              "37310     457     175       5  882547139\n",
              "37343     457     238       5  882392976"
            ]
          },
          "metadata": {},
          "execution_count": 17
        }
      ]
    },
    {
      "cell_type": "code",
      "metadata": {
        "colab": {
          "base_uri": "https://localhost:8080/",
          "height": 265
        },
        "id": "liVoMHlAYhH_",
        "outputId": "a6c8b816-cec4-4a3a-dcd9-0214a7f152ed"
      },
      "source": [
        "# Y también cuáles usuarios han rankeado la pelicula ID:37\n",
        "train_file[train_file['itemid'] == 37]"
      ],
      "execution_count": 13,
      "outputs": [
        {
          "output_type": "execute_result",
          "data": {
            "text/html": [
              "<div>\n",
              "<style scoped>\n",
              "    .dataframe tbody tr th:only-of-type {\n",
              "        vertical-align: middle;\n",
              "    }\n",
              "\n",
              "    .dataframe tbody tr th {\n",
              "        vertical-align: top;\n",
              "    }\n",
              "\n",
              "    .dataframe thead th {\n",
              "        text-align: right;\n",
              "    }\n",
              "</style>\n",
              "<table border=\"1\" class=\"dataframe\">\n",
              "  <thead>\n",
              "    <tr style=\"text-align: right;\">\n",
              "      <th></th>\n",
              "      <th>userid</th>\n",
              "      <th>itemid</th>\n",
              "      <th>rating</th>\n",
              "      <th>timestamp</th>\n",
              "    </tr>\n",
              "  </thead>\n",
              "  <tbody>\n",
              "    <tr>\n",
              "      <th>1302</th>\n",
              "      <td>13</td>\n",
              "      <td>37</td>\n",
              "      <td>1</td>\n",
              "      <td>882397011</td>\n",
              "    </tr>\n",
              "    <tr>\n",
              "      <th>14851</th>\n",
              "      <td>201</td>\n",
              "      <td>37</td>\n",
              "      <td>2</td>\n",
              "      <td>884114635</td>\n",
              "    </tr>\n",
              "    <tr>\n",
              "      <th>19670</th>\n",
              "      <td>268</td>\n",
              "      <td>37</td>\n",
              "      <td>3</td>\n",
              "      <td>876514002</td>\n",
              "    </tr>\n",
              "    <tr>\n",
              "      <th>29489</th>\n",
              "      <td>363</td>\n",
              "      <td>37</td>\n",
              "      <td>2</td>\n",
              "      <td>891498510</td>\n",
              "    </tr>\n",
              "    <tr>\n",
              "      <th>31084</th>\n",
              "      <td>385</td>\n",
              "      <td>37</td>\n",
              "      <td>4</td>\n",
              "      <td>880013483</td>\n",
              "    </tr>\n",
              "    <tr>\n",
              "      <th>32996</th>\n",
              "      <td>405</td>\n",
              "      <td>37</td>\n",
              "      <td>1</td>\n",
              "      <td>885548384</td>\n",
              "    </tr>\n",
              "    <tr>\n",
              "      <th>62777</th>\n",
              "      <td>773</td>\n",
              "      <td>37</td>\n",
              "      <td>3</td>\n",
              "      <td>888540352</td>\n",
              "    </tr>\n",
              "  </tbody>\n",
              "</table>\n",
              "</div>"
            ],
            "text/plain": [
              "       userid  itemid  rating  timestamp\n",
              "1302       13      37       1  882397011\n",
              "14851     201      37       2  884114635\n",
              "19670     268      37       3  876514002\n",
              "29489     363      37       2  891498510\n",
              "31084     385      37       4  880013483\n",
              "32996     405      37       1  885548384\n",
              "62777     773      37       3  888540352"
            ]
          },
          "metadata": {},
          "execution_count": 13
        }
      ]
    },
    {
      "cell_type": "markdown",
      "metadata": {
        "id": "u2P14hwFXytK"
      },
      "source": [
        "## Actividad 3 👓\n",
        "\n",
        "Haremos un pequeño experimento para entender mejor como funciona Slope One. Gracias al ejercicio anterior, sabemos que el usuario 457 ya ha asignado el mejor rating (5 ⭐) a las dos peliculas ID:9 e ID:1168. Comparemos.\n",
        "\n",
        "**Pregunta:** ¿Cómo se explican estos resultados?  \n",
        "\n",
        "**Respuesta:** \\\\\n",
        "Lo que puede estar pasando es que el modelo de SlopeOne no esté guardando el valor de un rating si es que existe, pero igual se calcula una función (anteriormente mencionado) que se usa para predecir su valor. Por lo tanto, al momento de querer predecir el valor de un rating ya existente, igual se va a recurrir al modelo el cual tiene una función precalculada gracias a los otros ratings de los datos, y este dará un valor (el cual puede estar cerca a ya existente, o no)\\\\\n",
        "Podría pasar que a alguien le ha gustado las mismas películas que al resto, pero para una película en específico al resto le cargó pero a este usuario le encantó. Nuestro modelo tal vez predecería que no le gustaría, mientras que nosotros sabemos que ese no es el caso."
      ]
    },
    {
      "cell_type": "code",
      "metadata": {
        "colab": {
          "base_uri": "https://localhost:8080/"
        },
        "id": "gaqUjAQaVseB",
        "outputId": "a02a7303-10bf-447b-cef2-4906be6f22fe"
      },
      "source": [
        "prediction_id9 = mySlopeOne.predict(\"457\", \"9\")\n",
        "prediction_id1168 = mySlopeOne.predict(\"457\", \"1168\")\n",
        "\n",
        "print('Prediction for ID:9 :', prediction_id9)\n",
        "print('Prediction for ID:1168 :', prediction_id1168)"
      ],
      "execution_count": 18,
      "outputs": [
        {
          "output_type": "stream",
          "name": "stdout",
          "text": [
            "Prediction for ID:9 : 4.385906219482422\n",
            "Prediction for ID:1168 : 4.206681251525879\n"
          ]
        }
      ]
    },
    {
      "cell_type": "markdown",
      "metadata": {
        "id": "N8dIE2n_YYnV"
      },
      "source": [
        "## Paso 7:\n",
        "\n",
        "Generaremos ahora una lista ordenada de las top-N recomendaciones, dado un usuario.\n",
        "\n"
      ]
    },
    {
      "cell_type": "code",
      "metadata": {
        "colab": {
          "base_uri": "https://localhost:8080/"
        },
        "id": "CVcJ1I1nZaK1",
        "outputId": "52af9a7d-2b54-4c92-9f8e-1eb2d063e72f"
      },
      "source": [
        "# Mediante el método recommend() genereremos una lista top-5 recomendaciones para el usuario ID:457\n",
        "reclist_slopeone = mySlopeOne.recommend(\"457\", 5)\n",
        "\n",
        "# Y visualizaremos el resultado\n",
        "print('Lista de items según ID:', reclist_slopeone)"
      ],
      "execution_count": 19,
      "outputs": [
        {
          "output_type": "stream",
          "name": "stdout",
          "text": [
            "Lista de items según ID: ['1592', '1589', '1656', '1431', '1653']\n"
          ]
        }
      ]
    },
    {
      "cell_type": "code",
      "metadata": {
        "colab": {
          "base_uri": "https://localhost:8080/"
        },
        "id": "BFdRZKQcZtHE",
        "outputId": "1abe5b6d-b9b4-4484-dd98-62fc958ff88e"
      },
      "source": [
        "# Lo convertimos a numpy array\n",
        "recmovies_slopeone = np.array(reclist_slopeone).astype(int)\n",
        "\n",
        "# Utilizamos la estructura de datos de los items para encontrar los títulos recomendados\n",
        "print('Lista de items por nombre:')\n",
        "info_file.loc[recmovies_slopeone]['title']"
      ],
      "execution_count": 20,
      "outputs": [
        {
          "output_type": "stream",
          "name": "stdout",
          "text": [
            "Lista de items por nombre:\n"
          ]
        },
        {
          "output_type": "execute_result",
          "data": {
            "text/plain": [
              "movieid\n",
              "1592                               Magic Hour, The (1998)\n",
              "1589                                   Schizopolis (1996)\n",
              "1656                                   Little City (1998)\n",
              "1431                                  Legal Deceit (1997)\n",
              "1653    Entertaining Angels: The Dorothy Day Story (1996)\n",
              "Name: title, dtype: object"
            ]
          },
          "metadata": {},
          "execution_count": 20
        }
      ]
    },
    {
      "cell_type": "markdown",
      "metadata": {
        "id": "NlX6FLTxdPRm"
      },
      "source": [
        "## Actividad 4 👩🏻‍💻\n",
        "\n",
        "Genera una nueva recomendacion, modificando los hiperparametros de usuario y topN a tu elección.\n",
        "\n",
        "**Pregunta:** ¿Ves una diferencia en la recomendación entre el nuevo usuario y el usuario ID:457?\n",
        "\n",
        "**Respuesta:** \\\\\n",
        "Al revisar algunos usuarios, se puede ver que hay unas películas en común. Por ejemplo, para los usuarios con id 457,69,128 y 150, se puede ver que hay varias películas en común. Esto puede estar pasando debido a que hay mucha gente viendo estas películas y dándole un rating mayor a las otras películas que ellos ven, y por lo tanto, al momento de predecir un rating de esta película a un usuario en específico, se tienda a predecir un rating mayor a los que ese usuario tiene (y finalmente, tener una mayor probabilidad a recomendar esa película). "
      ]
    },
    {
      "cell_type": "code",
      "metadata": {
        "colab": {
          "base_uri": "https://localhost:8080/"
        },
        "id": "YQM7mfwDdY3j",
        "outputId": "ca0e8325-d1fe-4969-a633-ad893ad3503c"
      },
      "source": [
        "# Escribe el nuevo codigo aqui\n",
        "for u in [\"65\", \"69\", \"130\"]:\n",
        "  reclist_slopeone = mySlopeOne.recommend(u, 7)\n",
        "  recmovies_slopeone = np.array(reclist_slopeone).astype(int)\n",
        "\n",
        "  print(\"         Peliculas de usuario\", u)\n",
        "  print(info_file.loc[recmovies_slopeone]['title'])\n",
        "  print(\"\")"
      ],
      "execution_count": 42,
      "outputs": [
        {
          "output_type": "stream",
          "name": "stdout",
          "text": [
            "         Peliculas de usuario 65\n",
            "movieid\n",
            "1589              Schizopolis (1996)\n",
            "1656              Little City (1998)\n",
            "1651    Spanish Prisoner, The (1997)\n",
            "1650         Butcher Boy, The (1998)\n",
            "1645         Butcher Boy, The (1998)\n",
            "1642        Some Mother's Son (1996)\n",
            "1636      Brothers in Trouble (1995)\n",
            "Name: title, dtype: object\n",
            "\n",
            "         Peliculas de usuario 69\n",
            "movieid\n",
            "1653    Entertaining Angels: The Dorothy Day Story (1996)\n",
            "1064                                     Crossfire (1947)\n",
            "1651                         Spanish Prisoner, The (1997)\n",
            "1650                              Butcher Boy, The (1998)\n",
            "1645                              Butcher Boy, The (1998)\n",
            "1642                             Some Mother's Son (1996)\n",
            "1636                           Brothers in Trouble (1995)\n",
            "Name: title, dtype: object\n",
            "\n",
            "         Peliculas de usuario 130\n",
            "movieid\n",
            "1592                               Magic Hour, The (1998)\n",
            "1589                                   Schizopolis (1996)\n",
            "1656                                   Little City (1998)\n",
            "1653    Entertaining Angels: The Dorothy Day Story (1996)\n",
            "1064                                     Crossfire (1947)\n",
            "1651                         Spanish Prisoner, The (1997)\n",
            "1650                              Butcher Boy, The (1998)\n",
            "Name: title, dtype: object\n",
            "\n"
          ]
        }
      ]
    },
    {
      "cell_type": "markdown",
      "metadata": {
        "id": "iU2NlezaiIur"
      },
      "source": [
        "## Actividad 5 👩🏻‍💻\n",
        "\n",
        "Dado el usuario ID:44, cree dos listas de películas recomendadas; la primera utilizando el algoritmo Most Popular y la segunda utilizando el algoritmo Slope One.\n",
        "\n",
        "**Pregunta:** Realice un analisis apreciativo de las similitudes y diferencias entre ambas recomendaciones.\n",
        "\n",
        "**Respuesta:** \\\\\n",
        "Lo que hice fue crear dos listas de recomendaciones utilizando estos dos algoritmos para los top 100 items, y después encontré a los items que tenían en común (además de las posiciones en estas listas de recomendaciones). Al parecer no eran tantos; solo tenían 5 películas en común. \\\\\n",
        "Most Popular solo le importa el total de ratings que tenga una película, sin importar si el rating final de esa película sea buena o no; mientras que en slope one se busca la diferencia entre pares de ratings, y por lo tanto, las predicciones se basan en encontrar películas que comparadas con otras nos de el mejor predicción. \\\\\n",
        "Supuestamente, slope one debería dar recomendaciones más personalizadas, ya que hay que considerar los ratings que ha hecho un usuario al compararlo con otros usuarios. Para probar esto, hice la misma comparación de modelos de Most Popular y Slope one, pero con otro usuario (usuario ID: 45). Posteriormente a esto, encuentro los id de las películas en común en las recomendaciones hechas por Most Popular para los dos usuarios, y lo mismo para Slope One. Se puede ver que Slope One recomendó 76 películas en común entre los usuarios, y Most Popular 81 películas en común, lo que valida mi hipótesis. "
      ]
    },
    {
      "cell_type": "code",
      "metadata": {
        "id": "Rxk9ySLQiMC4"
      },
      "source": [
        "# Primero creamos el modelo para Most Popular\n",
        "most_popular = pyreclab.MostPopular(dataset='u1.base',\n",
        "                   dlmchar=b'\\t',\n",
        "                   header=False,\n",
        "                   usercol=0,\n",
        "                   itemcol=1,\n",
        "                   ratingcol=2)\n",
        "\n",
        "most_popular.train() # y lo \"entrenamos\""
      ],
      "execution_count": 50,
      "outputs": []
    },
    {
      "cell_type": "code",
      "metadata": {
        "colab": {
          "base_uri": "https://localhost:8080/"
        },
        "id": "cl648pQg3MUd",
        "outputId": "f2fee35d-5cb4-4706-9c48-6871310d3ba0"
      },
      "source": [
        "user_id = \"44\"\n",
        "top_n = 100\n",
        "\n",
        "print('Lista de items según ID para most popular:', most_popular.recommend(user_id, top_n, includeRated=False))\n",
        "print('Lista de items según ID para slope one:', mySlopeOne.recommend(user_id, top_n))\n",
        "\n",
        "same = []\n",
        "\n",
        "MPList1 =  most_popular.recommend(user_id, top_n, includeRated=False)\n",
        "SOList1 = mySlopeOne.recommend(user_id, top_n)\n",
        "\n",
        "for i in MPList1:\n",
        "  if i in SOList1:\n",
        "    same.append([i, MPList1.index(i), SOList1.index(i)])\n",
        "  \n",
        "print(\"Ids de películas en común entre los modelos\")\n",
        "print(same)"
      ],
      "execution_count": 75,
      "outputs": [
        {
          "output_type": "stream",
          "name": "stdout",
          "text": [
            "Lista de items según ID para most popular: ['50', '100', '181', '286', '1', '121', '300', '127', '7', '98', '172', '56', '237', '117', '222', '204', '313', '173', '79', '151', '210', '269', '69', '748', '96', '22', '9', '168', '195', '328', '302', '118', '183', '276', '202', '423', '25', '15', '234', '64', '28', '176', '275', '289', '268', '82', '135', '89', '111', '238', '357', '196', '12', '153', '125', '144', '228', '333', '475', '245', '323', '496', '194', '197', '483', '185', '282', '182', '322', '180', '71', '427', '143', '8', '161', '179', '11', '215', '187', '235', '4', '95', '678', '200', '88', '603', '508', '597', '208', '134', '271', '307', '272', '588', '393', '211', '230', '403', '474', '250']\n",
            "Lista de items según ID para slope one: ['1656', '1064', '1625', '1599', '1512', '1536', '1500', '1463', '1367', '1293', '814', '48', '47', '46', '45', '44', '43', '41', '39', '36', '35', '33', '29', '28', '27', '16', '14', '13', '12', '10', '1642', '1651', '1650', '1645', '1636', '1585', '868', '1450', '1623', '1592', '1467', '1398', '1643', '1418', '1589', '1523', '1368', '1201', '1449', '1458', '1452', '1653', '1122', '1639', '1558', '1495', '296', '1498', '1492', '119', '1629', '1080', '1396', '1472', '1251', '1524', '1131', '113', '884', '1189', '1130', '114', '1389', '1431', '408', '169', '1604', '1547', '923', '1143', '1024', '483', '1506', '1137', '1361', '285', '513', '134', '1443', '1169', '613', '1233', '127', '701', '1466', '867', '915', '1380', '896', '963']\n",
            "Ids de películas en común entre los modelos\n",
            "[['127', 7, 92], ['28', 40, 23], ['12', 52, 28], ['483', 64, 81], ['134', 89, 87]]\n"
          ]
        }
      ]
    },
    {
      "cell_type": "code",
      "metadata": {
        "colab": {
          "base_uri": "https://localhost:8080/"
        },
        "id": "ix7pPUyy3gfE",
        "outputId": "a94a8b2d-04ce-411a-e8c0-2af84628b3f5"
      },
      "source": [
        "user_id = \"45\"\n",
        "top_n = 100\n",
        "\n",
        "print('Lista de items según ID para most popular:', most_popular.recommend(user_id, top_n, includeRated=False))\n",
        "print('Lista de items según ID para slope one:', mySlopeOne.recommend(user_id, top_n))\n",
        "\n",
        "same = []\n",
        "\n",
        "MPList2 =  most_popular.recommend(user_id, top_n, includeRated=False)\n",
        "SOList2 = mySlopeOne.recommend(user_id, top_n)\n",
        "\n",
        "for i in MPList2:\n",
        "  if i in SOList2:\n",
        "    same.append([i, MPList2.index(i), SOList2.index(i)])\n",
        "  \n",
        "print(\"Ids de películas en común entre los modelos\")\n",
        "print(same)"
      ],
      "execution_count": 76,
      "outputs": [
        {
          "output_type": "stream",
          "name": "stdout",
          "text": [
            "Lista de items según ID para most popular: ['50', '100', '258', '181', '286', '288', '1', '121', '300', '127', '7', '98', '172', '56', '237', '204', '313', '173', '405', '79', '151', '210', '269', '69', '748', '96', '22', '9', '168', '195', '328', '302', '257', '118', '183', '276', '202', '318', '216', '423', '25', '15', '234', '64', '28', '742', '176', '275', '191', '289', '268', '82', '135', '89', '111', '238', '357', '196', '12', '153', '125', '186', '144', '228', '333', '475', '97', '546', '245', '70', '323', '496', '471', '301', '132', '194', '483', '568', '185', '282', '655', '182', '180', '427', '143', '8', '161', '179', '11', '385', '187', '435', '235', '4', '95', '200', '88', '603', '508', '597']\n",
            "Lista de items según ID para slope one: ['1064', '1651', '1650', '1645', '1636', '1585', '1623', '1472', '1599', '1512', '1450', '1536', '1523', '1467', '1463', '1449', '1418', '1201', '814', '48', '47', '46', '45', '44', '42', '41', '39', '36', '35', '33', '31', '29', '28', '27', '16', '14', '13', '12', '11', '10', '1500', '1642', '1398', '1639', '1656', '1589', '1080', '1592', '1389', '1643', '119', '1458', '1452', '1130', '701', '1405', '1396', '1233', '1629', '1148', '1495', '613', '868', '1431', '923', '1005', '113', '1131', '114', '1189', '1193', '1372', '1194', '1251', '958', '1524', '1402', '513', '169', '408', '57', '714', '1506', '963', '1466', '483', '64', '493', '318', '512', '698', '1331', '656', '134', '1019', '1631', '1103', '285', '1674', '611']\n",
            "Ids de películas en común entre los modelos\n",
            "[['318', 37, 88], ['64', 43, 86], ['28', 44, 32], ['12', 58, 37], ['483', 76, 85], ['11', 88, 38]]\n"
          ]
        }
      ]
    },
    {
      "cell_type": "code",
      "metadata": {
        "colab": {
          "base_uri": "https://localhost:8080/"
        },
        "id": "qIKDh4Eo9fpD",
        "outputId": "2e4cbb8d-32e0-4802-f9f6-8fba50c2d3b7"
      },
      "source": [
        "sameMP = []\n",
        "for i in MPList2:\n",
        "  if i in MPList1:\n",
        "    sameMP.append(i)\n",
        "\n",
        "sameSO = []\n",
        "for i in SOList2:\n",
        "  if i in SOList1:\n",
        "    sameSO.append(i)\n",
        "\n",
        "print(f\"ID de {len(sameMP)} peliculas iguales en Most popular para usarios 44 y 45\")\n",
        "print(sameMP)\n",
        "\n",
        "print(f\"ID de {len(sameSO)} peliculas iguales en Slope One para usarios 44 y 45\")\n",
        "print(sameSO)"
      ],
      "execution_count": 81,
      "outputs": [
        {
          "output_type": "stream",
          "name": "stdout",
          "text": [
            "ID de 81 peliculas iguales en Most popular para usarios 44 y 45\n",
            "['50', '100', '181', '286', '1', '121', '300', '127', '7', '98', '172', '56', '237', '204', '313', '173', '79', '151', '210', '269', '69', '748', '96', '22', '9', '168', '195', '328', '302', '118', '183', '276', '202', '423', '25', '15', '234', '64', '28', '176', '275', '289', '268', '82', '135', '89', '111', '238', '357', '196', '12', '153', '125', '144', '228', '333', '475', '245', '323', '496', '194', '483', '185', '282', '182', '180', '427', '143', '8', '161', '179', '11', '187', '235', '4', '95', '200', '88', '603', '508', '597']\n",
            "ID de 75 peliculas iguales en Slope One para usarios 44 y 45\n",
            "['1064', '1651', '1650', '1645', '1636', '1585', '1623', '1472', '1599', '1512', '1450', '1536', '1523', '1467', '1463', '1449', '1418', '1201', '814', '48', '47', '46', '45', '44', '41', '39', '36', '35', '33', '29', '28', '27', '16', '14', '13', '12', '10', '1500', '1642', '1398', '1639', '1656', '1589', '1080', '1592', '1389', '1643', '119', '1458', '1452', '1130', '701', '1396', '1233', '1629', '1495', '613', '868', '1431', '923', '113', '1131', '114', '1189', '1251', '1524', '513', '169', '408', '1506', '963', '1466', '483', '134', '285']\n"
          ]
        }
      ]
    },
    {
      "cell_type": "code",
      "metadata": {
        "id": "ZwWsbKT5-von"
      },
      "source": [
        ""
      ],
      "execution_count": null,
      "outputs": []
    }
  ]
}