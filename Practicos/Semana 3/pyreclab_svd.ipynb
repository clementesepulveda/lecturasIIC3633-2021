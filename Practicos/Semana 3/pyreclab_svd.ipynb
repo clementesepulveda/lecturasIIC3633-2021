{
  "nbformat": 4,
  "nbformat_minor": 0,
  "metadata": {
    "colab": {
      "name": "pyreclab_svd.ipynb",
      "provenance": [],
      "collapsed_sections": []
    },
    "kernelspec": {
      "display_name": "Python 3",
      "language": "python",
      "name": "python3"
    },
    "language_info": {
      "codemirror_mode": {
        "name": "ipython",
        "version": 3
      },
      "file_extension": ".py",
      "mimetype": "text/x-python",
      "name": "python",
      "nbconvert_exporter": "python",
      "pygments_lexer": "ipython3",
      "version": "3.6.0"
    },
    "toc": {
      "base_numbering": 1,
      "nav_menu": {},
      "number_sections": true,
      "sideBar": true,
      "skip_h1_title": false,
      "title_cell": "Table of Contents",
      "title_sidebar": "Contents",
      "toc_cell": false,
      "toc_position": {},
      "toc_section_display": true,
      "toc_window_display": false
    }
  },
  "cells": [
    {
      "cell_type": "markdown",
      "metadata": {
        "id": "NC-ceGb8LRLT"
      },
      "source": [
        "# Práctica de Sistemas Recomendadores: pyreclab - Funk's SVD"
      ]
    },
    {
      "cell_type": "markdown",
      "metadata": {
        "id": "mACJbcW8T35p"
      },
      "source": [
        "En este práctico implementaremos un recomendador basado en un algoritmo de factorización matricial propuesto por [Simon Funk](https://sifter.org/simon/journal/20061211.html).\n",
        "\n",
        "Volveremos a utilizar la biblioteca de Python [pyreclab](https://github.com/gasevi/pyreclab), desarrollado por los Laboratorios IALab y SocVis de la Pontificia Universidad Católica de Chile.\n",
        "\n",
        "**Adaptado por**: Vladimir Araujo\n",
        "\n",
        "**Material original de**: Denis Parra, Gabriel Sepúlveda, Antonio Ossa, Manuel Cartagena\n"
      ]
    },
    {
      "cell_type": "markdown",
      "metadata": {
        "id": "IFpEoacrMwQx"
      },
      "source": [
        "## Configuración inicial"
      ]
    },
    {
      "cell_type": "markdown",
      "metadata": {
        "id": "6h0SmnfSIHH_"
      },
      "source": [
        "**Paso 1:** Descargue directamente a Colab los archivos del dataset ejecutando las siguientes 3 celdas:"
      ]
    },
    {
      "cell_type": "code",
      "metadata": {
        "colab": {
          "base_uri": "https://localhost:8080/"
        },
        "id": "sUlFGZprHneQ",
        "outputId": "11f881d2-84db-4441-e1a5-c0e8c570803c"
      },
      "source": [
        "!curl -L -o \"u2.base\" \"https://drive.google.com/uc?export=download&id=1bGweNw7NbOHoJz11v6ld7ymLR8MLvBsA\""
      ],
      "execution_count": 1,
      "outputs": [
        {
          "output_type": "stream",
          "name": "stdout",
          "text": [
            "  % Total    % Received % Xferd  Average Speed   Time    Time     Time  Current\n",
            "                                 Dload  Upload   Total   Spent    Left  Speed\n",
            "100   388    0   388    0     0   1732      0 --:--:-- --:--:-- --:--:--  1739\n",
            "100 1546k  100 1546k    0     0  3483k      0 --:--:-- --:--:-- --:--:-- 3483k\n"
          ]
        }
      ]
    },
    {
      "cell_type": "code",
      "metadata": {
        "colab": {
          "base_uri": "https://localhost:8080/"
        },
        "id": "BN0P2xxrH0z8",
        "outputId": "2fbaa04a-6296-4338-c739-112cc7d280f8"
      },
      "source": [
        "!curl -L -o \"u2.test\" \"https://drive.google.com/uc?export=download&id=1f_HwJWC_1HFzgAjKAWKwkuxgjkhkXrVg\""
      ],
      "execution_count": 2,
      "outputs": [
        {
          "output_type": "stream",
          "name": "stdout",
          "text": [
            "  % Total    % Received % Xferd  Average Speed   Time    Time     Time  Current\n",
            "                                 Dload  Upload   Total   Spent    Left  Speed\n",
            "100   388    0   388    0     0   1486      0 --:--:-- --:--:-- --:--:--  1480\n",
            "100  385k  100  385k    0     0   804k      0 --:--:-- --:--:-- --:--:--  804k\n"
          ]
        }
      ]
    },
    {
      "cell_type": "code",
      "metadata": {
        "colab": {
          "base_uri": "https://localhost:8080/"
        },
        "id": "PKo1OuqlH8sQ",
        "outputId": "413d803c-1dbe-4d07-f38d-40afcaa7f4c9"
      },
      "source": [
        "!curl -L -o \"u.item\" \"https://drive.google.com/uc?export=download&id=10YLhxkO2-M_flQtyo9OYV4nT9IvSESuz\""
      ],
      "execution_count": 3,
      "outputs": [
        {
          "output_type": "stream",
          "name": "stdout",
          "text": [
            "  % Total    % Received % Xferd  Average Speed   Time    Time     Time  Current\n",
            "                                 Dload  Upload   Total   Spent    Left  Speed\n",
            "100   388    0   388    0     0   1099      0 --:--:-- --:--:-- --:--:--  1099\n",
            "100  230k  100  230k    0     0   405k      0 --:--:-- --:--:-- --:--:-- 7445k\n"
          ]
        }
      ]
    },
    {
      "cell_type": "markdown",
      "metadata": {
        "id": "TJon9T5ZMwRG"
      },
      "source": [
        "**Paso 2**: Instalamos [`pyreclab`](https://github.com/gasevi/pyreclab) y [`seaborn`](https://seaborn.pydata.org/index.html) utilizando `pip`."
      ]
    },
    {
      "cell_type": "code",
      "metadata": {
        "colab": {
          "base_uri": "https://localhost:8080/"
        },
        "id": "rtscg3KuMwRL",
        "outputId": "e4baa36d-f569-432f-acb3-7e43091e5115"
      },
      "source": [
        "!pip install pyreclab --upgrade\n",
        "!pip install seaborn --upgrade"
      ],
      "execution_count": 4,
      "outputs": [
        {
          "output_type": "stream",
          "name": "stdout",
          "text": [
            "Requirement already satisfied: pyreclab in /usr/local/lib/python3.7/dist-packages (0.1.15)\n",
            "Requirement already satisfied: seaborn in /usr/local/lib/python3.7/dist-packages (0.11.2)\n",
            "Requirement already satisfied: matplotlib>=2.2 in /usr/local/lib/python3.7/dist-packages (from seaborn) (3.2.2)\n",
            "Requirement already satisfied: scipy>=1.0 in /usr/local/lib/python3.7/dist-packages (from seaborn) (1.4.1)\n",
            "Requirement already satisfied: pandas>=0.23 in /usr/local/lib/python3.7/dist-packages (from seaborn) (1.1.5)\n",
            "Requirement already satisfied: numpy>=1.15 in /usr/local/lib/python3.7/dist-packages (from seaborn) (1.19.5)\n",
            "Requirement already satisfied: cycler>=0.10 in /usr/local/lib/python3.7/dist-packages (from matplotlib>=2.2->seaborn) (0.10.0)\n",
            "Requirement already satisfied: pyparsing!=2.0.4,!=2.1.2,!=2.1.6,>=2.0.1 in /usr/local/lib/python3.7/dist-packages (from matplotlib>=2.2->seaborn) (2.4.7)\n",
            "Requirement already satisfied: python-dateutil>=2.1 in /usr/local/lib/python3.7/dist-packages (from matplotlib>=2.2->seaborn) (2.8.2)\n",
            "Requirement already satisfied: kiwisolver>=1.0.1 in /usr/local/lib/python3.7/dist-packages (from matplotlib>=2.2->seaborn) (1.3.2)\n",
            "Requirement already satisfied: six in /usr/local/lib/python3.7/dist-packages (from cycler>=0.10->matplotlib>=2.2->seaborn) (1.15.0)\n",
            "Requirement already satisfied: pytz>=2017.2 in /usr/local/lib/python3.7/dist-packages (from pandas>=0.23->seaborn) (2018.9)\n"
          ]
        }
      ]
    },
    {
      "cell_type": "code",
      "metadata": {
        "id": "3Ii2pB-LO0Xy"
      },
      "source": [
        "import pandas as pd\n",
        "import pyreclab\n",
        "import seaborn as sns\n",
        "import numpy as np\n",
        "import scipy.sparse as sparse\n",
        "import matplotlib.pyplot as plt\n",
        "\n",
        "%matplotlib inline\n",
        "sns.set(style=\"whitegrid\")"
      ],
      "execution_count": 5,
      "outputs": []
    },
    {
      "cell_type": "markdown",
      "metadata": {
        "id": "YZRtWriRMwRX"
      },
      "source": [
        "## Antes de recomendar"
      ]
    },
    {
      "cell_type": "markdown",
      "metadata": {
        "id": "Bb_uBopzMwRY"
      },
      "source": [
        "**Paso 3**: Los archivos `u2.base` y `u2.test` tienen tuplas (usuario, item, rating, timestamp), que es la información de preferencias de usuarios sobre películas en una muestra del dataset [MovieLens](https://grouplens.org/datasets/movielens/). Revisemos cómo es uno de estos archivos y luego haremos gráficos que nos permitan sacar conclusiones a partir del mismo."
      ]
    },
    {
      "cell_type": "code",
      "metadata": {
        "colab": {
          "base_uri": "https://localhost:8080/",
          "height": 204
        },
        "id": "zT11_REYOyFO",
        "outputId": "05a58f11-a549-4ae0-e0ab-3453ac6522fa"
      },
      "source": [
        "# Primero creamos el dataframe con los datos\n",
        "df_train = pd.read_csv('u2.base',\n",
        "                         sep='\\t',\n",
        "                         names=['userid', 'itemid', 'rating', 'timestamp'],\n",
        "                         header=None)\n",
        "df_train.head()"
      ],
      "execution_count": 6,
      "outputs": [
        {
          "output_type": "execute_result",
          "data": {
            "text/html": [
              "<div>\n",
              "<style scoped>\n",
              "    .dataframe tbody tr th:only-of-type {\n",
              "        vertical-align: middle;\n",
              "    }\n",
              "\n",
              "    .dataframe tbody tr th {\n",
              "        vertical-align: top;\n",
              "    }\n",
              "\n",
              "    .dataframe thead th {\n",
              "        text-align: right;\n",
              "    }\n",
              "</style>\n",
              "<table border=\"1\" class=\"dataframe\">\n",
              "  <thead>\n",
              "    <tr style=\"text-align: right;\">\n",
              "      <th></th>\n",
              "      <th>userid</th>\n",
              "      <th>itemid</th>\n",
              "      <th>rating</th>\n",
              "      <th>timestamp</th>\n",
              "    </tr>\n",
              "  </thead>\n",
              "  <tbody>\n",
              "    <tr>\n",
              "      <th>0</th>\n",
              "      <td>1</td>\n",
              "      <td>3</td>\n",
              "      <td>4</td>\n",
              "      <td>878542960</td>\n",
              "    </tr>\n",
              "    <tr>\n",
              "      <th>1</th>\n",
              "      <td>1</td>\n",
              "      <td>4</td>\n",
              "      <td>3</td>\n",
              "      <td>876893119</td>\n",
              "    </tr>\n",
              "    <tr>\n",
              "      <th>2</th>\n",
              "      <td>1</td>\n",
              "      <td>5</td>\n",
              "      <td>3</td>\n",
              "      <td>889751712</td>\n",
              "    </tr>\n",
              "    <tr>\n",
              "      <th>3</th>\n",
              "      <td>1</td>\n",
              "      <td>6</td>\n",
              "      <td>5</td>\n",
              "      <td>887431973</td>\n",
              "    </tr>\n",
              "    <tr>\n",
              "      <th>4</th>\n",
              "      <td>1</td>\n",
              "      <td>7</td>\n",
              "      <td>4</td>\n",
              "      <td>875071561</td>\n",
              "    </tr>\n",
              "  </tbody>\n",
              "</table>\n",
              "</div>"
            ],
            "text/plain": [
              "   userid  itemid  rating  timestamp\n",
              "0       1       3       4  878542960\n",
              "1       1       4       3  876893119\n",
              "2       1       5       3  889751712\n",
              "3       1       6       5  887431973\n",
              "4       1       7       4  875071561"
            ]
          },
          "metadata": {},
          "execution_count": 6
        }
      ]
    },
    {
      "cell_type": "code",
      "metadata": {
        "colab": {
          "base_uri": "https://localhost:8080/",
          "height": 296
        },
        "id": "PybXBQ_RjrZ0",
        "outputId": "0b38f6dc-b914-433c-920b-c8c53b1c4b0a"
      },
      "source": [
        "# Ahora queremos realizar una observación rápida de los datos\n",
        "df_train.describe()"
      ],
      "execution_count": 7,
      "outputs": [
        {
          "output_type": "execute_result",
          "data": {
            "text/html": [
              "<div>\n",
              "<style scoped>\n",
              "    .dataframe tbody tr th:only-of-type {\n",
              "        vertical-align: middle;\n",
              "    }\n",
              "\n",
              "    .dataframe tbody tr th {\n",
              "        vertical-align: top;\n",
              "    }\n",
              "\n",
              "    .dataframe thead th {\n",
              "        text-align: right;\n",
              "    }\n",
              "</style>\n",
              "<table border=\"1\" class=\"dataframe\">\n",
              "  <thead>\n",
              "    <tr style=\"text-align: right;\">\n",
              "      <th></th>\n",
              "      <th>userid</th>\n",
              "      <th>itemid</th>\n",
              "      <th>rating</th>\n",
              "      <th>timestamp</th>\n",
              "    </tr>\n",
              "  </thead>\n",
              "  <tbody>\n",
              "    <tr>\n",
              "      <th>count</th>\n",
              "      <td>80000.000000</td>\n",
              "      <td>80000.000000</td>\n",
              "      <td>80000.000000</td>\n",
              "      <td>8.000000e+04</td>\n",
              "    </tr>\n",
              "    <tr>\n",
              "      <th>mean</th>\n",
              "      <td>494.508137</td>\n",
              "      <td>424.990487</td>\n",
              "      <td>3.526463</td>\n",
              "      <td>8.835467e+08</td>\n",
              "    </tr>\n",
              "    <tr>\n",
              "      <th>std</th>\n",
              "      <td>276.879511</td>\n",
              "      <td>330.564093</td>\n",
              "      <td>1.124429</td>\n",
              "      <td>5.379549e+06</td>\n",
              "    </tr>\n",
              "    <tr>\n",
              "      <th>min</th>\n",
              "      <td>1.000000</td>\n",
              "      <td>1.000000</td>\n",
              "      <td>1.000000</td>\n",
              "      <td>8.747247e+08</td>\n",
              "    </tr>\n",
              "    <tr>\n",
              "      <th>25%</th>\n",
              "      <td>269.000000</td>\n",
              "      <td>174.000000</td>\n",
              "      <td>3.000000</td>\n",
              "      <td>8.794471e+08</td>\n",
              "    </tr>\n",
              "    <tr>\n",
              "      <th>50%</th>\n",
              "      <td>500.000000</td>\n",
              "      <td>321.000000</td>\n",
              "      <td>4.000000</td>\n",
              "      <td>8.828278e+08</td>\n",
              "    </tr>\n",
              "    <tr>\n",
              "      <th>75%</th>\n",
              "      <td>744.000000</td>\n",
              "      <td>630.000000</td>\n",
              "      <td>4.000000</td>\n",
              "      <td>8.884652e+08</td>\n",
              "    </tr>\n",
              "    <tr>\n",
              "      <th>max</th>\n",
              "      <td>943.000000</td>\n",
              "      <td>1682.000000</td>\n",
              "      <td>5.000000</td>\n",
              "      <td>8.932866e+08</td>\n",
              "    </tr>\n",
              "  </tbody>\n",
              "</table>\n",
              "</div>"
            ],
            "text/plain": [
              "             userid        itemid        rating     timestamp\n",
              "count  80000.000000  80000.000000  80000.000000  8.000000e+04\n",
              "mean     494.508137    424.990487      3.526463  8.835467e+08\n",
              "std      276.879511    330.564093      1.124429  5.379549e+06\n",
              "min        1.000000      1.000000      1.000000  8.747247e+08\n",
              "25%      269.000000    174.000000      3.000000  8.794471e+08\n",
              "50%      500.000000    321.000000      4.000000  8.828278e+08\n",
              "75%      744.000000    630.000000      4.000000  8.884652e+08\n",
              "max      943.000000   1682.000000      5.000000  8.932866e+08"
            ]
          },
          "metadata": {},
          "execution_count": 7
        }
      ]
    },
    {
      "cell_type": "markdown",
      "metadata": {
        "id": "BKOrcfaiEdqM"
      },
      "source": [
        "Por otra parte, para obtener información adicional de cada película tal como **título**, **fecha de lanzamiento**, **género**, etc., cargaremos el archivo de items descargado (`u.item`) para poder mapear cada identificador de ítem al conjunto de datos que lo describe. Revisemos el contenido de este archivo"
      ]
    },
    {
      "cell_type": "code",
      "metadata": {
        "id": "JGxmaexNPv3p"
      },
      "source": [
        "columns = ['movieid', 'title', 'release_date', 'video_release_date', \\\n",
        "           'IMDb_URL', 'unknown', 'Action', 'Adventure', 'Animation', \\\n",
        "           'Children', 'Comedy', 'Crime', 'Documentary', 'Drama', 'Fantasy', \\\n",
        "           'Film-Noir', 'Horror', 'Musical', 'Mystery', 'Romance', 'Sci-Fi', \\\n",
        "           'Thriller', 'War', 'Western']"
      ],
      "execution_count": 8,
      "outputs": []
    },
    {
      "cell_type": "code",
      "metadata": {
        "colab": {
          "base_uri": "https://localhost:8080/",
          "height": 390
        },
        "id": "ThhWLfrwPA_5",
        "outputId": "f646bc25-db0d-44b5-a510-993bca599d35"
      },
      "source": [
        "# Cargamos el dataset con los items\n",
        "df_items = pd.read_csv('u.item',\n",
        "                        sep='|',\n",
        "                        index_col=0,\n",
        "                        names = columns,\n",
        "                        header=None, \n",
        "                        encoding='latin-1')\n",
        "df_items.head()"
      ],
      "execution_count": 9,
      "outputs": [
        {
          "output_type": "execute_result",
          "data": {
            "text/html": [
              "<div>\n",
              "<style scoped>\n",
              "    .dataframe tbody tr th:only-of-type {\n",
              "        vertical-align: middle;\n",
              "    }\n",
              "\n",
              "    .dataframe tbody tr th {\n",
              "        vertical-align: top;\n",
              "    }\n",
              "\n",
              "    .dataframe thead th {\n",
              "        text-align: right;\n",
              "    }\n",
              "</style>\n",
              "<table border=\"1\" class=\"dataframe\">\n",
              "  <thead>\n",
              "    <tr style=\"text-align: right;\">\n",
              "      <th></th>\n",
              "      <th>title</th>\n",
              "      <th>release_date</th>\n",
              "      <th>video_release_date</th>\n",
              "      <th>IMDb_URL</th>\n",
              "      <th>unknown</th>\n",
              "      <th>Action</th>\n",
              "      <th>Adventure</th>\n",
              "      <th>Animation</th>\n",
              "      <th>Children</th>\n",
              "      <th>Comedy</th>\n",
              "      <th>Crime</th>\n",
              "      <th>Documentary</th>\n",
              "      <th>Drama</th>\n",
              "      <th>Fantasy</th>\n",
              "      <th>Film-Noir</th>\n",
              "      <th>Horror</th>\n",
              "      <th>Musical</th>\n",
              "      <th>Mystery</th>\n",
              "      <th>Romance</th>\n",
              "      <th>Sci-Fi</th>\n",
              "      <th>Thriller</th>\n",
              "      <th>War</th>\n",
              "      <th>Western</th>\n",
              "    </tr>\n",
              "    <tr>\n",
              "      <th>movieid</th>\n",
              "      <th></th>\n",
              "      <th></th>\n",
              "      <th></th>\n",
              "      <th></th>\n",
              "      <th></th>\n",
              "      <th></th>\n",
              "      <th></th>\n",
              "      <th></th>\n",
              "      <th></th>\n",
              "      <th></th>\n",
              "      <th></th>\n",
              "      <th></th>\n",
              "      <th></th>\n",
              "      <th></th>\n",
              "      <th></th>\n",
              "      <th></th>\n",
              "      <th></th>\n",
              "      <th></th>\n",
              "      <th></th>\n",
              "      <th></th>\n",
              "      <th></th>\n",
              "      <th></th>\n",
              "      <th></th>\n",
              "    </tr>\n",
              "  </thead>\n",
              "  <tbody>\n",
              "    <tr>\n",
              "      <th>1</th>\n",
              "      <td>Toy Story (1995)</td>\n",
              "      <td>01-Jan-1995</td>\n",
              "      <td>NaN</td>\n",
              "      <td>http://us.imdb.com/M/title-exact?Toy%20Story%2...</td>\n",
              "      <td>0</td>\n",
              "      <td>0</td>\n",
              "      <td>0</td>\n",
              "      <td>1</td>\n",
              "      <td>1</td>\n",
              "      <td>1</td>\n",
              "      <td>0</td>\n",
              "      <td>0</td>\n",
              "      <td>0</td>\n",
              "      <td>0</td>\n",
              "      <td>0</td>\n",
              "      <td>0</td>\n",
              "      <td>0</td>\n",
              "      <td>0</td>\n",
              "      <td>0</td>\n",
              "      <td>0</td>\n",
              "      <td>0</td>\n",
              "      <td>0</td>\n",
              "      <td>0</td>\n",
              "    </tr>\n",
              "    <tr>\n",
              "      <th>2</th>\n",
              "      <td>GoldenEye (1995)</td>\n",
              "      <td>01-Jan-1995</td>\n",
              "      <td>NaN</td>\n",
              "      <td>http://us.imdb.com/M/title-exact?GoldenEye%20(...</td>\n",
              "      <td>0</td>\n",
              "      <td>1</td>\n",
              "      <td>1</td>\n",
              "      <td>0</td>\n",
              "      <td>0</td>\n",
              "      <td>0</td>\n",
              "      <td>0</td>\n",
              "      <td>0</td>\n",
              "      <td>0</td>\n",
              "      <td>0</td>\n",
              "      <td>0</td>\n",
              "      <td>0</td>\n",
              "      <td>0</td>\n",
              "      <td>0</td>\n",
              "      <td>0</td>\n",
              "      <td>0</td>\n",
              "      <td>1</td>\n",
              "      <td>0</td>\n",
              "      <td>0</td>\n",
              "    </tr>\n",
              "    <tr>\n",
              "      <th>3</th>\n",
              "      <td>Four Rooms (1995)</td>\n",
              "      <td>01-Jan-1995</td>\n",
              "      <td>NaN</td>\n",
              "      <td>http://us.imdb.com/M/title-exact?Four%20Rooms%...</td>\n",
              "      <td>0</td>\n",
              "      <td>0</td>\n",
              "      <td>0</td>\n",
              "      <td>0</td>\n",
              "      <td>0</td>\n",
              "      <td>0</td>\n",
              "      <td>0</td>\n",
              "      <td>0</td>\n",
              "      <td>0</td>\n",
              "      <td>0</td>\n",
              "      <td>0</td>\n",
              "      <td>0</td>\n",
              "      <td>0</td>\n",
              "      <td>0</td>\n",
              "      <td>0</td>\n",
              "      <td>0</td>\n",
              "      <td>1</td>\n",
              "      <td>0</td>\n",
              "      <td>0</td>\n",
              "    </tr>\n",
              "    <tr>\n",
              "      <th>4</th>\n",
              "      <td>Get Shorty (1995)</td>\n",
              "      <td>01-Jan-1995</td>\n",
              "      <td>NaN</td>\n",
              "      <td>http://us.imdb.com/M/title-exact?Get%20Shorty%...</td>\n",
              "      <td>0</td>\n",
              "      <td>1</td>\n",
              "      <td>0</td>\n",
              "      <td>0</td>\n",
              "      <td>0</td>\n",
              "      <td>1</td>\n",
              "      <td>0</td>\n",
              "      <td>0</td>\n",
              "      <td>1</td>\n",
              "      <td>0</td>\n",
              "      <td>0</td>\n",
              "      <td>0</td>\n",
              "      <td>0</td>\n",
              "      <td>0</td>\n",
              "      <td>0</td>\n",
              "      <td>0</td>\n",
              "      <td>0</td>\n",
              "      <td>0</td>\n",
              "      <td>0</td>\n",
              "    </tr>\n",
              "    <tr>\n",
              "      <th>5</th>\n",
              "      <td>Copycat (1995)</td>\n",
              "      <td>01-Jan-1995</td>\n",
              "      <td>NaN</td>\n",
              "      <td>http://us.imdb.com/M/title-exact?Copycat%20(1995)</td>\n",
              "      <td>0</td>\n",
              "      <td>0</td>\n",
              "      <td>0</td>\n",
              "      <td>0</td>\n",
              "      <td>0</td>\n",
              "      <td>0</td>\n",
              "      <td>1</td>\n",
              "      <td>0</td>\n",
              "      <td>1</td>\n",
              "      <td>0</td>\n",
              "      <td>0</td>\n",
              "      <td>0</td>\n",
              "      <td>0</td>\n",
              "      <td>0</td>\n",
              "      <td>0</td>\n",
              "      <td>0</td>\n",
              "      <td>1</td>\n",
              "      <td>0</td>\n",
              "      <td>0</td>\n",
              "    </tr>\n",
              "  </tbody>\n",
              "</table>\n",
              "</div>"
            ],
            "text/plain": [
              "                     title release_date  ...  War Western\n",
              "movieid                                  ...             \n",
              "1         Toy Story (1995)  01-Jan-1995  ...    0       0\n",
              "2         GoldenEye (1995)  01-Jan-1995  ...    0       0\n",
              "3        Four Rooms (1995)  01-Jan-1995  ...    0       0\n",
              "4        Get Shorty (1995)  01-Jan-1995  ...    0       0\n",
              "5           Copycat (1995)  01-Jan-1995  ...    0       0\n",
              "\n",
              "[5 rows x 23 columns]"
            ]
          },
          "metadata": {},
          "execution_count": 9
        }
      ]
    },
    {
      "cell_type": "code",
      "metadata": {
        "colab": {
          "base_uri": "https://localhost:8080/"
        },
        "id": "KFyf6y02P1S0",
        "outputId": "25a43ea7-8ad1-47c4-c1fa-e4e1f45ffa8f"
      },
      "source": [
        "# Realizamos una inspección sobre estos datos (.info())\n",
        "df_items.info()"
      ],
      "execution_count": 10,
      "outputs": [
        {
          "output_type": "stream",
          "name": "stdout",
          "text": [
            "<class 'pandas.core.frame.DataFrame'>\n",
            "Int64Index: 1682 entries, 1 to 1682\n",
            "Data columns (total 23 columns):\n",
            " #   Column              Non-Null Count  Dtype  \n",
            "---  ------              --------------  -----  \n",
            " 0   title               1682 non-null   object \n",
            " 1   release_date        1681 non-null   object \n",
            " 2   video_release_date  0 non-null      float64\n",
            " 3   IMDb_URL            1679 non-null   object \n",
            " 4   unknown             1682 non-null   int64  \n",
            " 5   Action              1682 non-null   int64  \n",
            " 6   Adventure           1682 non-null   int64  \n",
            " 7   Animation           1682 non-null   int64  \n",
            " 8   Children            1682 non-null   int64  \n",
            " 9   Comedy              1682 non-null   int64  \n",
            " 10  Crime               1682 non-null   int64  \n",
            " 11  Documentary         1682 non-null   int64  \n",
            " 12  Drama               1682 non-null   int64  \n",
            " 13  Fantasy             1682 non-null   int64  \n",
            " 14  Film-Noir           1682 non-null   int64  \n",
            " 15  Horror              1682 non-null   int64  \n",
            " 16  Musical             1682 non-null   int64  \n",
            " 17  Mystery             1682 non-null   int64  \n",
            " 18  Romance             1682 non-null   int64  \n",
            " 19  Sci-Fi              1682 non-null   int64  \n",
            " 20  Thriller            1682 non-null   int64  \n",
            " 21  War                 1682 non-null   int64  \n",
            " 22  Western             1682 non-null   int64  \n",
            "dtypes: float64(1), int64(19), object(3)\n",
            "memory usage: 315.4+ KB\n"
          ]
        }
      ]
    },
    {
      "cell_type": "code",
      "metadata": {
        "colab": {
          "base_uri": "https://localhost:8080/"
        },
        "id": "KXGzs31dQFXl",
        "outputId": "e43111fe-f4cb-4c32-8f06-c5decc28a941"
      },
      "source": [
        "# Ejemplo de cómo visualizar titulos de peliculas en base a sus IDs\n",
        "pelis = [5,4,1]\n",
        "df_items.loc[pelis]['title']"
      ],
      "execution_count": 11,
      "outputs": [
        {
          "output_type": "execute_result",
          "data": {
            "text/plain": [
              "movieid\n",
              "5       Copycat (1995)\n",
              "4    Get Shorty (1995)\n",
              "1     Toy Story (1995)\n",
              "Name: title, dtype: object"
            ]
          },
          "metadata": {},
          "execution_count": 11
        }
      ]
    },
    {
      "cell_type": "markdown",
      "metadata": {
        "id": "_tjnQ5koSAup"
      },
      "source": [
        "**Paso 4:** Generemos algunos gráficos en relación a las películas."
      ]
    },
    {
      "cell_type": "code",
      "metadata": {
        "colab": {
          "base_uri": "https://localhost:8080/",
          "height": 286
        },
        "id": "VI_GVUCs30si",
        "outputId": "474cc97a-7134-46c2-f5e5-32d206f04e58"
      },
      "source": [
        "#Ignorar el warning\n",
        "genre_columns = ['unknown', 'Action', 'Adventure', 'Animation', \\\n",
        "           'Children', 'Comedy', 'Crime', 'Documentary', 'Drama', 'Fantasy', \\\n",
        "           'Film-Noir', 'Horror', 'Musical', 'Mystery', 'Romance', 'Sci-Fi', \\\n",
        "           'Thriller', 'War', 'Western']\n",
        "\n",
        "genre_count = df_items[genre_columns].sum().sort_values()\n",
        "\n",
        "sns.barplot(x=genre_count.values, y=genre_count.index, label=\"Total\", palette=\"Blues_d\")"
      ],
      "execution_count": 12,
      "outputs": [
        {
          "output_type": "execute_result",
          "data": {
            "text/plain": [
              "<matplotlib.axes._subplots.AxesSubplot at 0x7f0c751044d0>"
            ]
          },
          "metadata": {},
          "execution_count": 12
        },
        {
          "output_type": "display_data",
          "data": {
            "image/png": "[encoded data removed]",
            "text/plain": [
              "<Figure size 432x288 with 1 Axes>"
            ]
          },
          "metadata": {}
        }
      ]
    },
    {
      "cell_type": "markdown",
      "metadata": {
        "id": "_-C6oFzvgOJM"
      },
      "source": [
        "Antes de trabajar con SVD, responda las siguientes preguntas."
      ]
    },
    {
      "cell_type": "markdown",
      "metadata": {
        "id": "uKAqmo5IdQFI"
      },
      "source": [
        "**Pregunta:** Explique cómo funciona SVD (como modelo, no piense en la implementación), y cómo funciona el método `train()` en  `pyreclab`\n",
        "\n",
        "\n",
        "\n"
      ]
    },
    {
      "cell_type": "markdown",
      "metadata": {
        "id": "VvDxjWvUdcv8"
      },
      "source": [
        "**Respuesta:** SVD, o singular value decomposition, es una descomposición matricial de una matriz R de tipo R = $M \\Sigma U^T$, en el cual M y U son ortogonales y $\\Sigma$ es la matriz diagonal de valores singulares. Con estas matrices calculadas, para predecir el rating que un usuario le daría a un item, entonces podemos multiplicar los vectores asociados a estos elementos en las matrices M y U. "
      ]
    },
    {
      "cell_type": "markdown",
      "metadata": {
        "id": "cKYbD4T-OCtj"
      },
      "source": [
        "## SVD"
      ]
    },
    {
      "cell_type": "markdown",
      "metadata": {
        "id": "jxjJyiSnMwRe"
      },
      "source": [
        "**Paso 5**: Tome un usuario, cualquiera, del dataset y reporte parte de sus gustos explícitamente (es decir, nombre de las películas, género, etc., no id). Para este mismo usuario, revise explícitamente las recomendaciones al llegar a la parametrización que reporta las mejores métricas."
      ]
    },
    {
      "cell_type": "code",
      "metadata": {
        "colab": {
          "base_uri": "https://localhost:8080/",
          "height": 1000
        },
        "id": "gDBwx73_XNGF",
        "outputId": "209a2f90-e291-4b73-8a82-2e73933f8861"
      },
      "source": [
        "user_id = 2\n",
        "user_df = df_train[df_train['userid'] == user_id]\n",
        "\n",
        "df_items.loc[user_df['itemid'].values][[\"title\",\"release_date\", \"IMDb_URL\"]]"
      ],
      "execution_count": 13,
      "outputs": [
        {
          "output_type": "execute_result",
          "data": {
            "text/html": [
              "<div>\n",
              "<style scoped>\n",
              "    .dataframe tbody tr th:only-of-type {\n",
              "        vertical-align: middle;\n",
              "    }\n",
              "\n",
              "    .dataframe tbody tr th {\n",
              "        vertical-align: top;\n",
              "    }\n",
              "\n",
              "    .dataframe thead th {\n",
              "        text-align: right;\n",
              "    }\n",
              "</style>\n",
              "<table border=\"1\" class=\"dataframe\">\n",
              "  <thead>\n",
              "    <tr style=\"text-align: right;\">\n",
              "      <th></th>\n",
              "      <th>title</th>\n",
              "      <th>release_date</th>\n",
              "      <th>IMDb_URL</th>\n",
              "    </tr>\n",
              "    <tr>\n",
              "      <th>movieid</th>\n",
              "      <th></th>\n",
              "      <th></th>\n",
              "      <th></th>\n",
              "    </tr>\n",
              "  </thead>\n",
              "  <tbody>\n",
              "    <tr>\n",
              "      <th>13</th>\n",
              "      <td>Mighty Aphrodite (1995)</td>\n",
              "      <td>30-Oct-1995</td>\n",
              "      <td>http://us.imdb.com/M/title-exact?Mighty%20Aphr...</td>\n",
              "    </tr>\n",
              "    <tr>\n",
              "      <th>19</th>\n",
              "      <td>Antonia's Line (1995)</td>\n",
              "      <td>01-Jan-1995</td>\n",
              "      <td>http://us.imdb.com/M/title-exact?Antonia%20(1995)</td>\n",
              "    </tr>\n",
              "    <tr>\n",
              "      <th>50</th>\n",
              "      <td>Star Wars (1977)</td>\n",
              "      <td>01-Jan-1977</td>\n",
              "      <td>http://us.imdb.com/M/title-exact?Star%20Wars%2...</td>\n",
              "    </tr>\n",
              "    <tr>\n",
              "      <th>100</th>\n",
              "      <td>Fargo (1996)</td>\n",
              "      <td>14-Feb-1997</td>\n",
              "      <td>http://us.imdb.com/M/title-exact?Fargo%20(1996)</td>\n",
              "    </tr>\n",
              "    <tr>\n",
              "      <th>127</th>\n",
              "      <td>Godfather, The (1972)</td>\n",
              "      <td>01-Jan-1972</td>\n",
              "      <td>http://us.imdb.com/M/title-exact?Godfather,%20...</td>\n",
              "    </tr>\n",
              "    <tr>\n",
              "      <th>237</th>\n",
              "      <td>Jerry Maguire (1996)</td>\n",
              "      <td>13-Dec-1996</td>\n",
              "      <td>http://us.imdb.com/M/title-exact?Jerry%20Magui...</td>\n",
              "    </tr>\n",
              "    <tr>\n",
              "      <th>251</th>\n",
              "      <td>Shall We Dance? (1996)</td>\n",
              "      <td>11-Jul-1997</td>\n",
              "      <td>http://us.imdb.com/M/title-exact?Shall%20we%20...</td>\n",
              "    </tr>\n",
              "    <tr>\n",
              "      <th>255</th>\n",
              "      <td>My Best Friend's Wedding (1997)</td>\n",
              "      <td>20-Jun-1997</td>\n",
              "      <td>http://us.imdb.com/M/title-exact?My+Best+Frien...</td>\n",
              "    </tr>\n",
              "    <tr>\n",
              "      <th>257</th>\n",
              "      <td>Men in Black (1997)</td>\n",
              "      <td>04-Jul-1997</td>\n",
              "      <td>http://us.imdb.com/M/title-exact?Men+in+Black+...</td>\n",
              "    </tr>\n",
              "    <tr>\n",
              "      <th>269</th>\n",
              "      <td>Full Monty, The (1997)</td>\n",
              "      <td>01-Jan-1997</td>\n",
              "      <td>http://us.imdb.com/M/title-exact?Full+Monty%2C...</td>\n",
              "    </tr>\n",
              "    <tr>\n",
              "      <th>272</th>\n",
              "      <td>Good Will Hunting (1997)</td>\n",
              "      <td>01-Jan-1997</td>\n",
              "      <td>http://us.imdb.com/M/title-exact?imdb-title-11...</td>\n",
              "    </tr>\n",
              "    <tr>\n",
              "      <th>274</th>\n",
              "      <td>Sabrina (1995)</td>\n",
              "      <td>01-Jan-1995</td>\n",
              "      <td>http://us.imdb.com/M/title-exact?Sabrina%20(1995)</td>\n",
              "    </tr>\n",
              "    <tr>\n",
              "      <th>275</th>\n",
              "      <td>Sense and Sensibility (1995)</td>\n",
              "      <td>01-Jan-1995</td>\n",
              "      <td>http://us.imdb.com/M/title-exact?Sense%20and%2...</td>\n",
              "    </tr>\n",
              "    <tr>\n",
              "      <th>278</th>\n",
              "      <td>Bed of Roses (1996)</td>\n",
              "      <td>01-Jan-1996</td>\n",
              "      <td>http://us.imdb.com/M/title-exact?Bed%20of%20Ro...</td>\n",
              "    </tr>\n",
              "    <tr>\n",
              "      <th>279</th>\n",
              "      <td>Once Upon a Time... When We Were Colored (1995)</td>\n",
              "      <td>01-Jan-1995</td>\n",
              "      <td>http://us.imdb.com/M/title-exact?Once%20Upon%2...</td>\n",
              "    </tr>\n",
              "    <tr>\n",
              "      <th>280</th>\n",
              "      <td>Up Close and Personal (1996)</td>\n",
              "      <td>01-Mar-1996</td>\n",
              "      <td>http://us.imdb.com/M/title-exact?Up%20Close%20...</td>\n",
              "    </tr>\n",
              "    <tr>\n",
              "      <th>281</th>\n",
              "      <td>River Wild, The (1994)</td>\n",
              "      <td>01-Jan-1994</td>\n",
              "      <td>http://us.imdb.com/M/title-exact?River%20Wild,...</td>\n",
              "    </tr>\n",
              "    <tr>\n",
              "      <th>284</th>\n",
              "      <td>Tin Cup (1996)</td>\n",
              "      <td>16-Aug-1996</td>\n",
              "      <td>http://us.imdb.com/M/title-exact?Tin%20Cup%20(...</td>\n",
              "    </tr>\n",
              "    <tr>\n",
              "      <th>285</th>\n",
              "      <td>Secrets &amp; Lies (1996)</td>\n",
              "      <td>04-Oct-1996</td>\n",
              "      <td>http://us.imdb.com/M/title-exact?Secrets%20&amp;%2...</td>\n",
              "    </tr>\n",
              "    <tr>\n",
              "      <th>286</th>\n",
              "      <td>English Patient, The (1996)</td>\n",
              "      <td>15-Nov-1996</td>\n",
              "      <td>http://us.imdb.com/M/title-exact?English%20Pat...</td>\n",
              "    </tr>\n",
              "    <tr>\n",
              "      <th>288</th>\n",
              "      <td>Scream (1996)</td>\n",
              "      <td>20-Dec-1996</td>\n",
              "      <td>http://us.imdb.com/M/title-exact?Scream%20(1996)</td>\n",
              "    </tr>\n",
              "    <tr>\n",
              "      <th>289</th>\n",
              "      <td>Evita (1996)</td>\n",
              "      <td>25-Dec-1996</td>\n",
              "      <td>http://us.imdb.com/M/title-exact?Evita%20(1996)</td>\n",
              "    </tr>\n",
              "    <tr>\n",
              "      <th>290</th>\n",
              "      <td>Fierce Creatures (1997)</td>\n",
              "      <td>10-Jan-1997</td>\n",
              "      <td>http://us.imdb.com/M/title-exact?Fierce%20Crea...</td>\n",
              "    </tr>\n",
              "    <tr>\n",
              "      <th>292</th>\n",
              "      <td>Rosewood (1997)</td>\n",
              "      <td>21-Feb-1997</td>\n",
              "      <td>http://us.imdb.com/M/title-exact?Rosewood%20(1...</td>\n",
              "    </tr>\n",
              "    <tr>\n",
              "      <th>296</th>\n",
              "      <td>Promesse, La (1996)</td>\n",
              "      <td>16-May-1997</td>\n",
              "      <td>http://us.imdb.com/M/title-exact?Promesse%2C%2...</td>\n",
              "    </tr>\n",
              "    <tr>\n",
              "      <th>297</th>\n",
              "      <td>Ulee's Gold (1997)</td>\n",
              "      <td>01-Jan-1997</td>\n",
              "      <td>http://us.imdb.com/M/title-exact?Ulee%27s+Gold...</td>\n",
              "    </tr>\n",
              "    <tr>\n",
              "      <th>298</th>\n",
              "      <td>Face/Off (1997)</td>\n",
              "      <td>27-Jun-1997</td>\n",
              "      <td>http://us.imdb.com/M/title-exact?Face/Off+(1997)</td>\n",
              "    </tr>\n",
              "    <tr>\n",
              "      <th>299</th>\n",
              "      <td>Hoodlum (1997)</td>\n",
              "      <td>22-Aug-1997</td>\n",
              "      <td>http://us.imdb.com/M/title-exact?Hoodlum+(1997)</td>\n",
              "    </tr>\n",
              "    <tr>\n",
              "      <th>300</th>\n",
              "      <td>Air Force One (1997)</td>\n",
              "      <td>01-Jan-1997</td>\n",
              "      <td>http://us.imdb.com/M/title-exact?Air+Force+One...</td>\n",
              "    </tr>\n",
              "    <tr>\n",
              "      <th>301</th>\n",
              "      <td>In &amp; Out (1997)</td>\n",
              "      <td>19-Sep-1997</td>\n",
              "      <td>http://us.imdb.com/Title?In+%26+Out+(1997)</td>\n",
              "    </tr>\n",
              "    <tr>\n",
              "      <th>302</th>\n",
              "      <td>L.A. Confidential (1997)</td>\n",
              "      <td>01-Jan-1997</td>\n",
              "      <td>http://us.imdb.com/M/title-exact?L%2EA%2E+Conf...</td>\n",
              "    </tr>\n",
              "    <tr>\n",
              "      <th>303</th>\n",
              "      <td>Ulee's Gold (1997)</td>\n",
              "      <td>01-Jan-1997</td>\n",
              "      <td>http://us.imdb.com/M/title-exact?Ulee%27s+Gold...</td>\n",
              "    </tr>\n",
              "    <tr>\n",
              "      <th>304</th>\n",
              "      <td>Fly Away Home (1996)</td>\n",
              "      <td>13-Sep-1996</td>\n",
              "      <td>http://us.imdb.com/M/title-exact?Fly%20Away%20...</td>\n",
              "    </tr>\n",
              "    <tr>\n",
              "      <th>307</th>\n",
              "      <td>Devil's Advocate, The (1997)</td>\n",
              "      <td>01-Jan-1997</td>\n",
              "      <td>http://us.imdb.com/M/title-exact?Devil's+Advoc...</td>\n",
              "    </tr>\n",
              "    <tr>\n",
              "      <th>308</th>\n",
              "      <td>FairyTale: A True Story (1997)</td>\n",
              "      <td>01-Jan-1997</td>\n",
              "      <td>http://us.imdb.com/M/title-exact?Fairytale:+A+...</td>\n",
              "    </tr>\n",
              "    <tr>\n",
              "      <th>311</th>\n",
              "      <td>Wings of the Dove, The (1997)</td>\n",
              "      <td>01-Jan-1997</td>\n",
              "      <td>http://us.imdb.com/M/title-exact?Wings+of+the+...</td>\n",
              "    </tr>\n",
              "    <tr>\n",
              "      <th>312</th>\n",
              "      <td>Midnight in the Garden of Good and Evil (1997)</td>\n",
              "      <td>01-Jan-1997</td>\n",
              "      <td>http://us.imdb.com/M/title-exact?Midnight+in+t...</td>\n",
              "    </tr>\n",
              "    <tr>\n",
              "      <th>313</th>\n",
              "      <td>Titanic (1997)</td>\n",
              "      <td>01-Jan-1997</td>\n",
              "      <td>http://us.imdb.com/M/title-exact?imdb-title-12...</td>\n",
              "    </tr>\n",
              "    <tr>\n",
              "      <th>314</th>\n",
              "      <td>3 Ninjas: High Noon At Mega Mountain (1998)</td>\n",
              "      <td>01-Jan-1997</td>\n",
              "      <td>http://us.imdb.com/M/title-exact?imdb-title-11...</td>\n",
              "    </tr>\n",
              "    <tr>\n",
              "      <th>315</th>\n",
              "      <td>Apt Pupil (1998)</td>\n",
              "      <td>23-Oct-1998</td>\n",
              "      <td>http://us.imdb.com/Title?Apt+Pupil+(1998)</td>\n",
              "    </tr>\n",
              "    <tr>\n",
              "      <th>316</th>\n",
              "      <td>As Good As It Gets (1997)</td>\n",
              "      <td>23-Dec-1997</td>\n",
              "      <td>http://us.imdb.com/Title?As+Good+As+It+Gets+(1...</td>\n",
              "    </tr>\n",
              "  </tbody>\n",
              "</table>\n",
              "</div>"
            ],
            "text/plain": [
              "                                                   title  ...                                           IMDb_URL\n",
              "movieid                                                   ...                                                   \n",
              "13                               Mighty Aphrodite (1995)  ...  http://us.imdb.com/M/title-exact?Mighty%20Aphr...\n",
              "19                                 Antonia's Line (1995)  ...  http://us.imdb.com/M/title-exact?Antonia%20(1995)\n",
              "50                                      Star Wars (1977)  ...  http://us.imdb.com/M/title-exact?Star%20Wars%2...\n",
              "100                                         Fargo (1996)  ...    http://us.imdb.com/M/title-exact?Fargo%20(1996)\n",
              "127                                Godfather, The (1972)  ...  http://us.imdb.com/M/title-exact?Godfather,%20...\n",
              "237                                 Jerry Maguire (1996)  ...  http://us.imdb.com/M/title-exact?Jerry%20Magui...\n",
              "251                               Shall We Dance? (1996)  ...  http://us.imdb.com/M/title-exact?Shall%20we%20...\n",
              "255                      My Best Friend's Wedding (1997)  ...  http://us.imdb.com/M/title-exact?My+Best+Frien...\n",
              "257                                  Men in Black (1997)  ...  http://us.imdb.com/M/title-exact?Men+in+Black+...\n",
              "269                               Full Monty, The (1997)  ...  http://us.imdb.com/M/title-exact?Full+Monty%2C...\n",
              "272                             Good Will Hunting (1997)  ...  http://us.imdb.com/M/title-exact?imdb-title-11...\n",
              "274                                       Sabrina (1995)  ...  http://us.imdb.com/M/title-exact?Sabrina%20(1995)\n",
              "275                         Sense and Sensibility (1995)  ...  http://us.imdb.com/M/title-exact?Sense%20and%2...\n",
              "278                                  Bed of Roses (1996)  ...  http://us.imdb.com/M/title-exact?Bed%20of%20Ro...\n",
              "279      Once Upon a Time... When We Were Colored (1995)  ...  http://us.imdb.com/M/title-exact?Once%20Upon%2...\n",
              "280                         Up Close and Personal (1996)  ...  http://us.imdb.com/M/title-exact?Up%20Close%20...\n",
              "281                               River Wild, The (1994)  ...  http://us.imdb.com/M/title-exact?River%20Wild,...\n",
              "284                                       Tin Cup (1996)  ...  http://us.imdb.com/M/title-exact?Tin%20Cup%20(...\n",
              "285                                Secrets & Lies (1996)  ...  http://us.imdb.com/M/title-exact?Secrets%20&%2...\n",
              "286                          English Patient, The (1996)  ...  http://us.imdb.com/M/title-exact?English%20Pat...\n",
              "288                                        Scream (1996)  ...   http://us.imdb.com/M/title-exact?Scream%20(1996)\n",
              "289                                         Evita (1996)  ...    http://us.imdb.com/M/title-exact?Evita%20(1996)\n",
              "290                              Fierce Creatures (1997)  ...  http://us.imdb.com/M/title-exact?Fierce%20Crea...\n",
              "292                                      Rosewood (1997)  ...  http://us.imdb.com/M/title-exact?Rosewood%20(1...\n",
              "296                                  Promesse, La (1996)  ...  http://us.imdb.com/M/title-exact?Promesse%2C%2...\n",
              "297                                   Ulee's Gold (1997)  ...  http://us.imdb.com/M/title-exact?Ulee%27s+Gold...\n",
              "298                                      Face/Off (1997)  ...   http://us.imdb.com/M/title-exact?Face/Off+(1997)\n",
              "299                                       Hoodlum (1997)  ...    http://us.imdb.com/M/title-exact?Hoodlum+(1997)\n",
              "300                                 Air Force One (1997)  ...  http://us.imdb.com/M/title-exact?Air+Force+One...\n",
              "301                                      In & Out (1997)  ...         http://us.imdb.com/Title?In+%26+Out+(1997)\n",
              "302                             L.A. Confidential (1997)  ...  http://us.imdb.com/M/title-exact?L%2EA%2E+Conf...\n",
              "303                                   Ulee's Gold (1997)  ...  http://us.imdb.com/M/title-exact?Ulee%27s+Gold...\n",
              "304                                 Fly Away Home (1996)  ...  http://us.imdb.com/M/title-exact?Fly%20Away%20...\n",
              "307                         Devil's Advocate, The (1997)  ...  http://us.imdb.com/M/title-exact?Devil's+Advoc...\n",
              "308                       FairyTale: A True Story (1997)  ...  http://us.imdb.com/M/title-exact?Fairytale:+A+...\n",
              "311                        Wings of the Dove, The (1997)  ...  http://us.imdb.com/M/title-exact?Wings+of+the+...\n",
              "312       Midnight in the Garden of Good and Evil (1997)  ...  http://us.imdb.com/M/title-exact?Midnight+in+t...\n",
              "313                                       Titanic (1997)  ...  http://us.imdb.com/M/title-exact?imdb-title-12...\n",
              "314          3 Ninjas: High Noon At Mega Mountain (1998)  ...  http://us.imdb.com/M/title-exact?imdb-title-11...\n",
              "315                                     Apt Pupil (1998)  ...          http://us.imdb.com/Title?Apt+Pupil+(1998)\n",
              "316                            As Good As It Gets (1997)  ...  http://us.imdb.com/Title?As+Good+As+It+Gets+(1...\n",
              "\n",
              "[41 rows x 3 columns]"
            ]
          },
          "metadata": {},
          "execution_count": 13
        }
      ]
    },
    {
      "cell_type": "code",
      "metadata": {
        "id": "wdlRP7CDUVuj"
      },
      "source": [
        "# Definicion de objeto svd\n",
        "svd = pyreclab.SVD(dataset='u2.base',\n",
        "                   dlmchar=b'\\t',\n",
        "                   header=False,\n",
        "                   usercol=0,\n",
        "                   itemcol=1,\n",
        "                   ratingcol=2)\n",
        "\n",
        "# Entrenamiento del modelo\n",
        "svd.train(factors=100, maxiter=100, lr=0.01, lamb=0.1)"
      ],
      "execution_count": 14,
      "outputs": []
    },
    {
      "cell_type": "code",
      "metadata": {
        "colab": {
          "base_uri": "https://localhost:8080/"
        },
        "id": "Kfa_xg-hWNRV",
        "outputId": "617495e7-6fa3-4e1b-e478-098eb13b5a61"
      },
      "source": [
        "# Testing de predicciones\n",
        "predlist, mae, rmse = svd.test(input_file='u2.test',\n",
        "                               dlmchar=b'\\t',\n",
        "                               header=False,\n",
        "                               usercol=0,\n",
        "                               itemcol=1,\n",
        "                               ratingcol=2)\n",
        "\n",
        "print('MAE: {}\\nRMSE: {}'.format(mae, rmse))"
      ],
      "execution_count": 15,
      "outputs": [
        {
          "output_type": "stream",
          "name": "stdout",
          "text": [
            "MAE: 0.7206474264476331\n",
            "RMSE: 0.9142927656291666\n"
          ]
        }
      ]
    },
    {
      "cell_type": "code",
      "metadata": {
        "colab": {
          "base_uri": "https://localhost:8080/"
        },
        "id": "84Mhz6COZEWJ",
        "outputId": "a5d68254-c4cd-455c-f2d8-a7a8f8668247"
      },
      "source": [
        "# Testing de recomendaciones\n",
        "top_n = 20\n",
        "\n",
        "recommendList, maprec, ndcg = svd.testrec(input_file='u2.test',\n",
        "                                          dlmchar=b'\\t',\n",
        "                                          header=False,\n",
        "                                          usercol=0,\n",
        "                                          itemcol=1,\n",
        "                                          ratingcol=2,\n",
        "                                          topn=top_n,\n",
        "                                          relevance_threshold=2,\n",
        "                                          includeRated=False)\n",
        "\n",
        "print('MAP: {}\\nNDCG@{}: {}'.format(maprec, top_n, ndcg))"
      ],
      "execution_count": 16,
      "outputs": [
        {
          "output_type": "stream",
          "name": "stdout",
          "text": [
            "MAP: 0.11174573000932395\n",
            "NDCG@20: 0.05995203402373199\n"
          ]
        }
      ]
    },
    {
      "cell_type": "code",
      "metadata": {
        "colab": {
          "base_uri": "https://localhost:8080/"
        },
        "id": "ajYeu3G1ZuJR",
        "outputId": "d18c626d-ab81-4ac3-951e-b6cc0ebb624c"
      },
      "source": [
        "# Calcular las recomendaciones para el usuario escogido\n",
        "ranking = [int(r) for r in svd.recommend(str(user_id), top_n, includeRated=False)]\n",
        "print('Recommendation for user {}: {}'.format(user_id, ranking))"
      ],
      "execution_count": 17,
      "outputs": [
        {
          "output_type": "stream",
          "name": "stdout",
          "text": [
            "Recommendation for user 2: [1449, 1512, 1398, 169, 1367, 318, 64, 1137, 408, 483, 1642, 1639, 963, 12, 114, 1536, 134, 480, 189, 1558]\n"
          ]
        }
      ]
    },
    {
      "cell_type": "code",
      "metadata": {
        "colab": {
          "base_uri": "https://localhost:8080/",
          "height": 1000
        },
        "id": "rXA_8K1zaEHx",
        "outputId": "30e14583-a167-4892-d9d8-a11520f4046f"
      },
      "source": [
        "# Ver explicitamente las recomendaciones para un usuario\n",
        "df_items.loc[ranking]"
      ],
      "execution_count": 18,
      "outputs": [
        {
          "output_type": "execute_result",
          "data": {
            "text/html": [
              "<div>\n",
              "<style scoped>\n",
              "    .dataframe tbody tr th:only-of-type {\n",
              "        vertical-align: middle;\n",
              "    }\n",
              "\n",
              "    .dataframe tbody tr th {\n",
              "        vertical-align: top;\n",
              "    }\n",
              "\n",
              "    .dataframe thead th {\n",
              "        text-align: right;\n",
              "    }\n",
              "</style>\n",
              "<table border=\"1\" class=\"dataframe\">\n",
              "  <thead>\n",
              "    <tr style=\"text-align: right;\">\n",
              "      <th></th>\n",
              "      <th>title</th>\n",
              "      <th>release_date</th>\n",
              "      <th>video_release_date</th>\n",
              "      <th>IMDb_URL</th>\n",
              "      <th>unknown</th>\n",
              "      <th>Action</th>\n",
              "      <th>Adventure</th>\n",
              "      <th>Animation</th>\n",
              "      <th>Children</th>\n",
              "      <th>Comedy</th>\n",
              "      <th>Crime</th>\n",
              "      <th>Documentary</th>\n",
              "      <th>Drama</th>\n",
              "      <th>Fantasy</th>\n",
              "      <th>Film-Noir</th>\n",
              "      <th>Horror</th>\n",
              "      <th>Musical</th>\n",
              "      <th>Mystery</th>\n",
              "      <th>Romance</th>\n",
              "      <th>Sci-Fi</th>\n",
              "      <th>Thriller</th>\n",
              "      <th>War</th>\n",
              "      <th>Western</th>\n",
              "    </tr>\n",
              "    <tr>\n",
              "      <th>movieid</th>\n",
              "      <th></th>\n",
              "      <th></th>\n",
              "      <th></th>\n",
              "      <th></th>\n",
              "      <th></th>\n",
              "      <th></th>\n",
              "      <th></th>\n",
              "      <th></th>\n",
              "      <th></th>\n",
              "      <th></th>\n",
              "      <th></th>\n",
              "      <th></th>\n",
              "      <th></th>\n",
              "      <th></th>\n",
              "      <th></th>\n",
              "      <th></th>\n",
              "      <th></th>\n",
              "      <th></th>\n",
              "      <th></th>\n",
              "      <th></th>\n",
              "      <th></th>\n",
              "      <th></th>\n",
              "      <th></th>\n",
              "    </tr>\n",
              "  </thead>\n",
              "  <tbody>\n",
              "    <tr>\n",
              "      <th>1449</th>\n",
              "      <td>Pather Panchali (1955)</td>\n",
              "      <td>22-Mar-1996</td>\n",
              "      <td>NaN</td>\n",
              "      <td>http://us.imdb.com/M/title-exact?Pather%20Panc...</td>\n",
              "      <td>0</td>\n",
              "      <td>0</td>\n",
              "      <td>0</td>\n",
              "      <td>0</td>\n",
              "      <td>0</td>\n",
              "      <td>0</td>\n",
              "      <td>0</td>\n",
              "      <td>0</td>\n",
              "      <td>1</td>\n",
              "      <td>0</td>\n",
              "      <td>0</td>\n",
              "      <td>0</td>\n",
              "      <td>0</td>\n",
              "      <td>0</td>\n",
              "      <td>0</td>\n",
              "      <td>0</td>\n",
              "      <td>0</td>\n",
              "      <td>0</td>\n",
              "      <td>0</td>\n",
              "    </tr>\n",
              "    <tr>\n",
              "      <th>1512</th>\n",
              "      <td>World of Apu, The (Apur Sansar) (1959)</td>\n",
              "      <td>05-Apr-1996</td>\n",
              "      <td>NaN</td>\n",
              "      <td>http://us.imdb.com/M/title-exact?Apur%20Sansar...</td>\n",
              "      <td>0</td>\n",
              "      <td>0</td>\n",
              "      <td>0</td>\n",
              "      <td>0</td>\n",
              "      <td>0</td>\n",
              "      <td>0</td>\n",
              "      <td>0</td>\n",
              "      <td>0</td>\n",
              "      <td>1</td>\n",
              "      <td>0</td>\n",
              "      <td>0</td>\n",
              "      <td>0</td>\n",
              "      <td>0</td>\n",
              "      <td>0</td>\n",
              "      <td>0</td>\n",
              "      <td>0</td>\n",
              "      <td>0</td>\n",
              "      <td>0</td>\n",
              "      <td>0</td>\n",
              "    </tr>\n",
              "    <tr>\n",
              "      <th>1398</th>\n",
              "      <td>Anna (1996)</td>\n",
              "      <td>13-Nov-1996</td>\n",
              "      <td>NaN</td>\n",
              "      <td>http://us.imdb.com/M/title-exact?Anna%20(1996)</td>\n",
              "      <td>0</td>\n",
              "      <td>0</td>\n",
              "      <td>0</td>\n",
              "      <td>0</td>\n",
              "      <td>0</td>\n",
              "      <td>0</td>\n",
              "      <td>0</td>\n",
              "      <td>0</td>\n",
              "      <td>1</td>\n",
              "      <td>0</td>\n",
              "      <td>0</td>\n",
              "      <td>0</td>\n",
              "      <td>0</td>\n",
              "      <td>0</td>\n",
              "      <td>0</td>\n",
              "      <td>0</td>\n",
              "      <td>0</td>\n",
              "      <td>0</td>\n",
              "      <td>0</td>\n",
              "    </tr>\n",
              "    <tr>\n",
              "      <th>169</th>\n",
              "      <td>Wrong Trousers, The (1993)</td>\n",
              "      <td>01-Jan-1993</td>\n",
              "      <td>NaN</td>\n",
              "      <td>http://us.imdb.com/M/title-exact?Wrong%20Trous...</td>\n",
              "      <td>0</td>\n",
              "      <td>0</td>\n",
              "      <td>0</td>\n",
              "      <td>1</td>\n",
              "      <td>0</td>\n",
              "      <td>1</td>\n",
              "      <td>0</td>\n",
              "      <td>0</td>\n",
              "      <td>0</td>\n",
              "      <td>0</td>\n",
              "      <td>0</td>\n",
              "      <td>0</td>\n",
              "      <td>0</td>\n",
              "      <td>0</td>\n",
              "      <td>0</td>\n",
              "      <td>0</td>\n",
              "      <td>0</td>\n",
              "      <td>0</td>\n",
              "      <td>0</td>\n",
              "    </tr>\n",
              "    <tr>\n",
              "      <th>1367</th>\n",
              "      <td>Faust (1994)</td>\n",
              "      <td>01-Jan-1994</td>\n",
              "      <td>NaN</td>\n",
              "      <td>http://us.imdb.com/M/title-exact?Faust%20%2819...</td>\n",
              "      <td>0</td>\n",
              "      <td>0</td>\n",
              "      <td>0</td>\n",
              "      <td>1</td>\n",
              "      <td>0</td>\n",
              "      <td>0</td>\n",
              "      <td>0</td>\n",
              "      <td>0</td>\n",
              "      <td>0</td>\n",
              "      <td>0</td>\n",
              "      <td>0</td>\n",
              "      <td>0</td>\n",
              "      <td>0</td>\n",
              "      <td>0</td>\n",
              "      <td>0</td>\n",
              "      <td>0</td>\n",
              "      <td>0</td>\n",
              "      <td>0</td>\n",
              "      <td>0</td>\n",
              "    </tr>\n",
              "    <tr>\n",
              "      <th>318</th>\n",
              "      <td>Schindler's List (1993)</td>\n",
              "      <td>01-Jan-1993</td>\n",
              "      <td>NaN</td>\n",
              "      <td>http://us.imdb.com/M/title-exact?Schindler's%2...</td>\n",
              "      <td>0</td>\n",
              "      <td>0</td>\n",
              "      <td>0</td>\n",
              "      <td>0</td>\n",
              "      <td>0</td>\n",
              "      <td>0</td>\n",
              "      <td>0</td>\n",
              "      <td>0</td>\n",
              "      <td>1</td>\n",
              "      <td>0</td>\n",
              "      <td>0</td>\n",
              "      <td>0</td>\n",
              "      <td>0</td>\n",
              "      <td>0</td>\n",
              "      <td>0</td>\n",
              "      <td>0</td>\n",
              "      <td>0</td>\n",
              "      <td>1</td>\n",
              "      <td>0</td>\n",
              "    </tr>\n",
              "    <tr>\n",
              "      <th>64</th>\n",
              "      <td>Shawshank Redemption, The (1994)</td>\n",
              "      <td>01-Jan-1994</td>\n",
              "      <td>NaN</td>\n",
              "      <td>http://us.imdb.com/M/title-exact?Shawshank%20R...</td>\n",
              "      <td>0</td>\n",
              "      <td>0</td>\n",
              "      <td>0</td>\n",
              "      <td>0</td>\n",
              "      <td>0</td>\n",
              "      <td>0</td>\n",
              "      <td>0</td>\n",
              "      <td>0</td>\n",
              "      <td>1</td>\n",
              "      <td>0</td>\n",
              "      <td>0</td>\n",
              "      <td>0</td>\n",
              "      <td>0</td>\n",
              "      <td>0</td>\n",
              "      <td>0</td>\n",
              "      <td>0</td>\n",
              "      <td>0</td>\n",
              "      <td>0</td>\n",
              "      <td>0</td>\n",
              "    </tr>\n",
              "    <tr>\n",
              "      <th>1137</th>\n",
              "      <td>Beautiful Thing (1996)</td>\n",
              "      <td>09-Oct-1996</td>\n",
              "      <td>NaN</td>\n",
              "      <td>http://us.imdb.com/M/title-exact?Beautiful%20T...</td>\n",
              "      <td>0</td>\n",
              "      <td>0</td>\n",
              "      <td>0</td>\n",
              "      <td>0</td>\n",
              "      <td>0</td>\n",
              "      <td>0</td>\n",
              "      <td>0</td>\n",
              "      <td>0</td>\n",
              "      <td>1</td>\n",
              "      <td>0</td>\n",
              "      <td>0</td>\n",
              "      <td>0</td>\n",
              "      <td>0</td>\n",
              "      <td>0</td>\n",
              "      <td>1</td>\n",
              "      <td>0</td>\n",
              "      <td>0</td>\n",
              "      <td>0</td>\n",
              "      <td>0</td>\n",
              "    </tr>\n",
              "    <tr>\n",
              "      <th>408</th>\n",
              "      <td>Close Shave, A (1995)</td>\n",
              "      <td>28-Apr-1996</td>\n",
              "      <td>NaN</td>\n",
              "      <td>http://us.imdb.com/M/title-exact?Close%20Shave...</td>\n",
              "      <td>0</td>\n",
              "      <td>0</td>\n",
              "      <td>0</td>\n",
              "      <td>1</td>\n",
              "      <td>0</td>\n",
              "      <td>1</td>\n",
              "      <td>0</td>\n",
              "      <td>0</td>\n",
              "      <td>0</td>\n",
              "      <td>0</td>\n",
              "      <td>0</td>\n",
              "      <td>0</td>\n",
              "      <td>0</td>\n",
              "      <td>0</td>\n",
              "      <td>0</td>\n",
              "      <td>0</td>\n",
              "      <td>1</td>\n",
              "      <td>0</td>\n",
              "      <td>0</td>\n",
              "    </tr>\n",
              "    <tr>\n",
              "      <th>483</th>\n",
              "      <td>Casablanca (1942)</td>\n",
              "      <td>01-Jan-1942</td>\n",
              "      <td>NaN</td>\n",
              "      <td>http://us.imdb.com/M/title-exact?Casablanca%20...</td>\n",
              "      <td>0</td>\n",
              "      <td>0</td>\n",
              "      <td>0</td>\n",
              "      <td>0</td>\n",
              "      <td>0</td>\n",
              "      <td>0</td>\n",
              "      <td>0</td>\n",
              "      <td>0</td>\n",
              "      <td>1</td>\n",
              "      <td>0</td>\n",
              "      <td>0</td>\n",
              "      <td>0</td>\n",
              "      <td>0</td>\n",
              "      <td>0</td>\n",
              "      <td>1</td>\n",
              "      <td>0</td>\n",
              "      <td>0</td>\n",
              "      <td>1</td>\n",
              "      <td>0</td>\n",
              "    </tr>\n",
              "    <tr>\n",
              "      <th>1642</th>\n",
              "      <td>Some Mother's Son (1996)</td>\n",
              "      <td>27-Dec-1996</td>\n",
              "      <td>NaN</td>\n",
              "      <td>http://us.imdb.com/M/title-exact?Some%20Mother...</td>\n",
              "      <td>0</td>\n",
              "      <td>0</td>\n",
              "      <td>0</td>\n",
              "      <td>0</td>\n",
              "      <td>0</td>\n",
              "      <td>0</td>\n",
              "      <td>0</td>\n",
              "      <td>0</td>\n",
              "      <td>1</td>\n",
              "      <td>0</td>\n",
              "      <td>0</td>\n",
              "      <td>0</td>\n",
              "      <td>0</td>\n",
              "      <td>0</td>\n",
              "      <td>0</td>\n",
              "      <td>0</td>\n",
              "      <td>0</td>\n",
              "      <td>0</td>\n",
              "      <td>0</td>\n",
              "    </tr>\n",
              "    <tr>\n",
              "      <th>1639</th>\n",
              "      <td>Bitter Sugar (Azucar Amargo) (1996)</td>\n",
              "      <td>22-Nov-1996</td>\n",
              "      <td>NaN</td>\n",
              "      <td>http://us.imdb.com/M/title-exact?Bitter%20Suga...</td>\n",
              "      <td>0</td>\n",
              "      <td>0</td>\n",
              "      <td>0</td>\n",
              "      <td>0</td>\n",
              "      <td>0</td>\n",
              "      <td>0</td>\n",
              "      <td>0</td>\n",
              "      <td>0</td>\n",
              "      <td>1</td>\n",
              "      <td>0</td>\n",
              "      <td>0</td>\n",
              "      <td>0</td>\n",
              "      <td>0</td>\n",
              "      <td>0</td>\n",
              "      <td>0</td>\n",
              "      <td>0</td>\n",
              "      <td>0</td>\n",
              "      <td>0</td>\n",
              "      <td>0</td>\n",
              "    </tr>\n",
              "    <tr>\n",
              "      <th>963</th>\n",
              "      <td>Some Folks Call It a Sling Blade (1993)</td>\n",
              "      <td>01-Jan-1993</td>\n",
              "      <td>NaN</td>\n",
              "      <td>http://us.imdb.com/M/title-exact?Some%20Folks%...</td>\n",
              "      <td>0</td>\n",
              "      <td>0</td>\n",
              "      <td>0</td>\n",
              "      <td>0</td>\n",
              "      <td>0</td>\n",
              "      <td>0</td>\n",
              "      <td>0</td>\n",
              "      <td>0</td>\n",
              "      <td>1</td>\n",
              "      <td>0</td>\n",
              "      <td>0</td>\n",
              "      <td>0</td>\n",
              "      <td>0</td>\n",
              "      <td>0</td>\n",
              "      <td>0</td>\n",
              "      <td>0</td>\n",
              "      <td>1</td>\n",
              "      <td>0</td>\n",
              "      <td>0</td>\n",
              "    </tr>\n",
              "    <tr>\n",
              "      <th>12</th>\n",
              "      <td>Usual Suspects, The (1995)</td>\n",
              "      <td>14-Aug-1995</td>\n",
              "      <td>NaN</td>\n",
              "      <td>http://us.imdb.com/M/title-exact?Usual%20Suspe...</td>\n",
              "      <td>0</td>\n",
              "      <td>0</td>\n",
              "      <td>0</td>\n",
              "      <td>0</td>\n",
              "      <td>0</td>\n",
              "      <td>0</td>\n",
              "      <td>1</td>\n",
              "      <td>0</td>\n",
              "      <td>0</td>\n",
              "      <td>0</td>\n",
              "      <td>0</td>\n",
              "      <td>0</td>\n",
              "      <td>0</td>\n",
              "      <td>0</td>\n",
              "      <td>0</td>\n",
              "      <td>0</td>\n",
              "      <td>1</td>\n",
              "      <td>0</td>\n",
              "      <td>0</td>\n",
              "    </tr>\n",
              "    <tr>\n",
              "      <th>114</th>\n",
              "      <td>Wallace &amp; Gromit: The Best of Aardman Animatio...</td>\n",
              "      <td>05-Apr-1996</td>\n",
              "      <td>NaN</td>\n",
              "      <td>http://us.imdb.com/Title?Wallace+%26+Gromit%3A...</td>\n",
              "      <td>0</td>\n",
              "      <td>0</td>\n",
              "      <td>0</td>\n",
              "      <td>1</td>\n",
              "      <td>0</td>\n",
              "      <td>0</td>\n",
              "      <td>0</td>\n",
              "      <td>0</td>\n",
              "      <td>0</td>\n",
              "      <td>0</td>\n",
              "      <td>0</td>\n",
              "      <td>0</td>\n",
              "      <td>0</td>\n",
              "      <td>0</td>\n",
              "      <td>0</td>\n",
              "      <td>0</td>\n",
              "      <td>0</td>\n",
              "      <td>0</td>\n",
              "      <td>0</td>\n",
              "    </tr>\n",
              "    <tr>\n",
              "      <th>1536</th>\n",
              "      <td>Aiqing wansui (1994)</td>\n",
              "      <td>22-Jul-1996</td>\n",
              "      <td>NaN</td>\n",
              "      <td>http://us.imdb.com/M/title-exact?Aiqing%20Wans...</td>\n",
              "      <td>0</td>\n",
              "      <td>0</td>\n",
              "      <td>0</td>\n",
              "      <td>0</td>\n",
              "      <td>0</td>\n",
              "      <td>0</td>\n",
              "      <td>0</td>\n",
              "      <td>0</td>\n",
              "      <td>1</td>\n",
              "      <td>0</td>\n",
              "      <td>0</td>\n",
              "      <td>0</td>\n",
              "      <td>0</td>\n",
              "      <td>0</td>\n",
              "      <td>0</td>\n",
              "      <td>0</td>\n",
              "      <td>0</td>\n",
              "      <td>0</td>\n",
              "      <td>0</td>\n",
              "    </tr>\n",
              "    <tr>\n",
              "      <th>134</th>\n",
              "      <td>Citizen Kane (1941)</td>\n",
              "      <td>01-Jan-1941</td>\n",
              "      <td>NaN</td>\n",
              "      <td>http://us.imdb.com/M/title-exact?Citizen%20Kan...</td>\n",
              "      <td>0</td>\n",
              "      <td>0</td>\n",
              "      <td>0</td>\n",
              "      <td>0</td>\n",
              "      <td>0</td>\n",
              "      <td>0</td>\n",
              "      <td>0</td>\n",
              "      <td>0</td>\n",
              "      <td>1</td>\n",
              "      <td>0</td>\n",
              "      <td>0</td>\n",
              "      <td>0</td>\n",
              "      <td>0</td>\n",
              "      <td>0</td>\n",
              "      <td>0</td>\n",
              "      <td>0</td>\n",
              "      <td>0</td>\n",
              "      <td>0</td>\n",
              "      <td>0</td>\n",
              "    </tr>\n",
              "    <tr>\n",
              "      <th>480</th>\n",
              "      <td>North by Northwest (1959)</td>\n",
              "      <td>01-Jan-1959</td>\n",
              "      <td>NaN</td>\n",
              "      <td>http://us.imdb.com/M/title-exact?North%20by%20...</td>\n",
              "      <td>0</td>\n",
              "      <td>0</td>\n",
              "      <td>0</td>\n",
              "      <td>0</td>\n",
              "      <td>0</td>\n",
              "      <td>1</td>\n",
              "      <td>0</td>\n",
              "      <td>0</td>\n",
              "      <td>0</td>\n",
              "      <td>0</td>\n",
              "      <td>0</td>\n",
              "      <td>0</td>\n",
              "      <td>0</td>\n",
              "      <td>0</td>\n",
              "      <td>0</td>\n",
              "      <td>0</td>\n",
              "      <td>1</td>\n",
              "      <td>0</td>\n",
              "      <td>0</td>\n",
              "    </tr>\n",
              "    <tr>\n",
              "      <th>189</th>\n",
              "      <td>Grand Day Out, A (1992)</td>\n",
              "      <td>01-Jan-1992</td>\n",
              "      <td>NaN</td>\n",
              "      <td>http://us.imdb.com/M/title-exact?Grand%20Day%2...</td>\n",
              "      <td>0</td>\n",
              "      <td>0</td>\n",
              "      <td>0</td>\n",
              "      <td>1</td>\n",
              "      <td>0</td>\n",
              "      <td>1</td>\n",
              "      <td>0</td>\n",
              "      <td>0</td>\n",
              "      <td>0</td>\n",
              "      <td>0</td>\n",
              "      <td>0</td>\n",
              "      <td>0</td>\n",
              "      <td>0</td>\n",
              "      <td>0</td>\n",
              "      <td>0</td>\n",
              "      <td>0</td>\n",
              "      <td>0</td>\n",
              "      <td>0</td>\n",
              "      <td>0</td>\n",
              "    </tr>\n",
              "    <tr>\n",
              "      <th>1558</th>\n",
              "      <td>Aparajito (1956)</td>\n",
              "      <td>29-Mar-1996</td>\n",
              "      <td>NaN</td>\n",
              "      <td>http://us.imdb.com/M/title-exact?Aparajito%20(...</td>\n",
              "      <td>0</td>\n",
              "      <td>0</td>\n",
              "      <td>0</td>\n",
              "      <td>0</td>\n",
              "      <td>0</td>\n",
              "      <td>0</td>\n",
              "      <td>0</td>\n",
              "      <td>0</td>\n",
              "      <td>1</td>\n",
              "      <td>0</td>\n",
              "      <td>0</td>\n",
              "      <td>0</td>\n",
              "      <td>0</td>\n",
              "      <td>0</td>\n",
              "      <td>0</td>\n",
              "      <td>0</td>\n",
              "      <td>0</td>\n",
              "      <td>0</td>\n",
              "      <td>0</td>\n",
              "    </tr>\n",
              "  </tbody>\n",
              "</table>\n",
              "</div>"
            ],
            "text/plain": [
              "                                                     title  ... Western\n",
              "movieid                                                     ...        \n",
              "1449                                Pather Panchali (1955)  ...       0\n",
              "1512                World of Apu, The (Apur Sansar) (1959)  ...       0\n",
              "1398                                           Anna (1996)  ...       0\n",
              "169                             Wrong Trousers, The (1993)  ...       0\n",
              "1367                                          Faust (1994)  ...       0\n",
              "318                                Schindler's List (1993)  ...       0\n",
              "64                        Shawshank Redemption, The (1994)  ...       0\n",
              "1137                                Beautiful Thing (1996)  ...       0\n",
              "408                                  Close Shave, A (1995)  ...       0\n",
              "483                                      Casablanca (1942)  ...       0\n",
              "1642                              Some Mother's Son (1996)  ...       0\n",
              "1639                   Bitter Sugar (Azucar Amargo) (1996)  ...       0\n",
              "963                Some Folks Call It a Sling Blade (1993)  ...       0\n",
              "12                              Usual Suspects, The (1995)  ...       0\n",
              "114      Wallace & Gromit: The Best of Aardman Animatio...  ...       0\n",
              "1536                                  Aiqing wansui (1994)  ...       0\n",
              "134                                    Citizen Kane (1941)  ...       0\n",
              "480                              North by Northwest (1959)  ...       0\n",
              "189                                Grand Day Out, A (1992)  ...       0\n",
              "1558                                      Aparajito (1956)  ...       0\n",
              "\n",
              "[20 rows x 23 columns]"
            ]
          },
          "metadata": {},
          "execution_count": 18
        }
      ]
    },
    {
      "cell_type": "markdown",
      "metadata": {
        "id": "ny4E5JcYZiyW"
      },
      "source": [
        "**Paso 6:** Pruebe distintos valores de los parámetros de entrenamiento del algoritmo SVD:\n",
        "- Número de factores\n",
        "- Número de iteraciones máxima\n",
        "- Learning rate\n",
        "- Lambda\n",
        "\n",
        "Describa cómo estos afectan las métricas y las recomendaciones hechas para el usuario que escogió. \n",
        "Para ver como afecta los distintos valores de los parámetros del entrenamiento, vamos a dejar todos los parametros constantes, menos uno (el que estamos estudiando)."
      ]
    },
    {
      "cell_type": "markdown",
      "metadata": {
        "id": "CPMvBzNzBkbt"
      },
      "source": [
        "Primero, vamos a ver como afecta el número de factores latentes. Al correr el siguiente código, nos damos cuenta que al aumentar la cantidad de factores latentes entonces el modelo se demoró más en entrenarse. Desde el factor latente inicial, podemos ver que el error aumenta si es que disminuimos la cantidad de factores latentes, y disminuye si aumentamos la cantidad de factores latentes. Esto puede verse como tener más informacion (más factores latentes) para expresar la información, y por lo tanto, se entiende este comportamiento). Sin embargo, este error no disminuye tanto, y se puede ver en las recomendaciones que estas no varían mucho. Por ejemplo, con los factores latentes usados, estos 3 modelos comparten un poco más de la mitad de las recomendaciones. "
      ]
    },
    {
      "cell_type": "code",
      "metadata": {
        "colab": {
          "base_uri": "https://localhost:8080/"
        },
        "id": "QR_BhSeVY3S9",
        "outputId": "16f21194-6a19-4418-968d-205ee1fd1777"
      },
      "source": [
        "user_id = 2\n",
        "top_n = 10\n",
        "factores_latentes = [70, 100, 600]\n",
        "\n",
        "\n",
        "for f in factores_latentes:\n",
        "  svd.train(factors=f, maxiter=100, lr=0.01, lamb=0.1)\n",
        "  predlist, mae, rmse = svd.test(input_file='u2.test',\n",
        "                               dlmchar=b'\\t',\n",
        "                               header=False,\n",
        "                               usercol=0,\n",
        "                               itemcol=1,\n",
        "                               ratingcol=2)\n",
        "\n",
        "  print('MAE: {}\\nRMSE: {}'.format(mae, rmse))\n",
        "\n",
        "  ranking = [int(r) for r in svd.recommend(str(user_id), top_n, includeRated=False)]\n",
        "  print('Recommendation for user {}: {}'.format(user_id, ranking))"
      ],
      "execution_count": 21,
      "outputs": [
        {
          "output_type": "stream",
          "name": "stdout",
          "text": [
            "MAE: 0.720318840565555\n",
            "RMSE: 0.9149262009048256\n",
            "Recommendation for user 2: [1512, 1449, 1500, 12, 408, 169, 64, 1450, 134, 174]\n",
            "MAE: 0.7198261140212939\n",
            "RMSE: 0.9138938007266001\n",
            "Recommendation for user 2: [1512, 1449, 1642, 169, 189, 1536, 408, 1467, 12, 483]\n",
            "MAE: 0.7199437303926951\n",
            "RMSE: 0.9128049993116037\n",
            "Recommendation for user 2: [1449, 1512, 169, 408, 64, 480, 318, 483, 12, 134]\n"
          ]
        }
      ]
    },
    {
      "cell_type": "markdown",
      "metadata": {
        "id": "Pl5kksF_Dnmf"
      },
      "source": [
        "En el caso de cambiar el valor de iteraciones, se puede ver que el error aumenta con la cantidad de iteraciones. Esto podría ser debido a un over-fitting, lo que significa que el modelo se está \"aprendiendo\" la data de entrenamiento y no lo generaliza para el momento de predecir con un usuario y un item completamente nuevo. En el caso de las recommendaciones, estas no cambian mucho, excepto por el orden de algunos items. "
      ]
    },
    {
      "cell_type": "code",
      "metadata": {
        "id": "X9jMEAnXDn_N",
        "outputId": "2aa5746e-2d01-4315-ec94-0558e3998266",
        "colab": {
          "base_uri": "https://localhost:8080/"
        }
      },
      "source": [
        "user_id = 2\n",
        "top_n = 10\n",
        "iteraciones = [50, 100, 300]\n",
        "\n",
        "\n",
        "for i in iteraciones:\n",
        "  svd.train(factors=100, maxiter=i, lr=0.01, lamb=0.1)\n",
        "  predlist, mae, rmse = svd.test(input_file='u2.test',\n",
        "                               dlmchar=b'\\t',\n",
        "                               header=False,\n",
        "                               usercol=0,\n",
        "                               itemcol=1,\n",
        "                               ratingcol=2)\n",
        "\n",
        "  print('MAE: {}\\nRMSE: {}'.format(mae, rmse))\n",
        "\n",
        "\n",
        "\n",
        "  ranking = [int(r) for r in svd.recommend(str(user_id), top_n, includeRated=False)]\n",
        "  print('Recommendation for user {}: {}'.format(user_id, ranking))"
      ],
      "execution_count": 20,
      "outputs": [
        {
          "output_type": "stream",
          "name": "stdout",
          "text": [
            "MAE: 0.7202190384430145\n",
            "RMSE: 0.9136620619332905\n",
            "Recommendation for user 2: [1449, 1512, 408, 169, 1367, 114, 483, 480, 64, 613]\n",
            "MAE: 0.7203045736339435\n",
            "RMSE: 0.9137234851528688\n",
            "Recommendation for user 2: [1449, 1512, 169, 408, 1467, 318, 513, 963, 12, 64]\n",
            "MAE: 0.7219743035777766\n",
            "RMSE: 0.9159098317575893\n",
            "Recommendation for user 2: [1512, 1449, 1398, 1064, 1467, 963, 169, 1463, 408, 1642]\n"
          ]
        }
      ]
    },
    {
      "cell_type": "markdown",
      "metadata": {
        "id": "Wy4vhtobHR8X"
      },
      "source": [
        "Al cambiar el learning rate, aumentarlo o disminuirlo, esto aumentaría el error. Si el learning rate se disminuye, puede pasar que no sea suficiente para encontrar converger en el modelo óptimo, y por lo tanto, se tendría que aumentar. Si el learning rate es muy alto, entonces puede pasar que al entrenar el modelo se esté pasando de la solución optima. Al mirar las recomendaciones que nos dan, estas son muy distintas, y entonces se necesitaría un mejor análisis de este parametro para ver su óptimo valor (ya que su valor default es relativamente chico, tal vez los valores que puse fueron muy drásticos). "
      ]
    },
    {
      "cell_type": "code",
      "metadata": {
        "id": "MgC7k59XHRxp",
        "outputId": "c5e35688-6390-4dbf-862a-dc5199341172",
        "colab": {
          "base_uri": "https://localhost:8080/"
        }
      },
      "source": [
        "user_id = 2\n",
        "top_n = 10\n",
        "learning_rates = [0.005, 0.01, 0.02]\n",
        "\n",
        "\n",
        "for l in learning_rates:\n",
        "  svd.train(factors=100, maxiter=100, lr=l, lamb=0.1)\n",
        "  predlist, mae, rmse = svd.test(input_file='u2.test',\n",
        "                               dlmchar=b'\\t',\n",
        "                               header=False,\n",
        "                               usercol=0,\n",
        "                               itemcol=1,\n",
        "                               ratingcol=2)\n",
        "\n",
        "  print('MAE: {}\\nRMSE: {}'.format(mae, rmse))\n",
        "\n",
        "\n",
        "\n",
        "  ranking = [int(r) for r in svd.recommend(str(user_id), top_n, includeRated=False)]\n",
        "  print('Recommendation for user {}: {}'.format(user_id, ranking))"
      ],
      "execution_count": 22,
      "outputs": [
        {
          "output_type": "stream",
          "name": "stdout",
          "text": [
            "MAE: 0.7185077006727978\n",
            "RMSE: 0.9120925266356067\n",
            "Recommendation for user 2: [1449, 1512, 483, 603, 169, 12, 408, 134, 318, 1467]\n",
            "MAE: 0.7204494636852027\n",
            "RMSE: 0.9142529424858745\n",
            "Recommendation for user 2: [169, 408, 1449, 1367, 1398, 1512, 64, 1467, 114, 1645]\n",
            "MAE: 0.7245300379484596\n",
            "RMSE: 0.9183978666950469\n",
            "Recommendation for user 2: [1536, 1398, 1512, 1449, 169, 1558, 64, 408, 12, 963]\n"
          ]
        }
      ]
    },
    {
      "cell_type": "markdown",
      "metadata": {
        "id": "qsYRbmPIHVT0"
      },
      "source": [
        "Al igual que el learning rate, el lambda (o el parametro de regularizaion) tambien aumenta el error si es que lo disminuimos o lo aumentamos. Por la misma razón, esto puede ser debido a que la variación debería ser mucho menos a lo que yo hice. A simple vista, las recomendaciones que se dan son bastantes similares, aparte del orden en que se dan algunas recomendaciones. "
      ]
    },
    {
      "cell_type": "code",
      "metadata": {
        "id": "Wjn6G5PZHVg9",
        "outputId": "45a70fbd-d481-4b86-857e-d3f94a914065",
        "colab": {
          "base_uri": "https://localhost:8080/"
        }
      },
      "source": [
        "user_id = 2\n",
        "top_n = 10\n",
        "lambdas = [0.5, 0.1, 0.2]\n",
        "\n",
        "\n",
        "for l in lambdas:\n",
        "  svd.train(factors=100, maxiter=100, lr=0.01, lamb=l)\n",
        "  predlist, mae, rmse = svd.test(input_file='u2.test',\n",
        "                               dlmchar=b'\\t',\n",
        "                               header=False,\n",
        "                               usercol=0,\n",
        "                               itemcol=1,\n",
        "                               ratingcol=2)\n",
        "\n",
        "  print('MAE: {}\\nRMSE: {}'.format(mae, rmse))\n",
        "\n",
        "\n",
        "\n",
        "  ranking = [int(r) for r in svd.recommend(str(user_id), top_n, includeRated=False)]\n",
        "  print('Recommendation for user {}: {}'.format(user_id, ranking))"
      ],
      "execution_count": 23,
      "outputs": [
        {
          "output_type": "stream",
          "name": "stdout",
          "text": [
            "MAE: 0.7748419064885422\n",
            "RMSE: 0.9643936562649521\n",
            "Recommendation for user 2: [1512, 1467, 1500, 814, 1536, 1449, 1189, 1450, 1064, 1293]\n",
            "MAE: 0.7209613252353383\n",
            "RMSE: 0.9144914501240516\n",
            "Recommendation for user 2: [1467, 1512, 1449, 408, 169, 1367, 513, 64, 1558, 483]\n",
            "MAE: 0.7425317260451596\n",
            "RMSE: 0.9348785553183533\n",
            "Recommendation for user 2: [1512, 1449, 1467, 1500, 1536, 1367, 1642, 408, 169, 1398]\n"
          ]
        }
      ]
    },
    {
      "cell_type": "markdown",
      "metadata": {
        "id": "BZvaluMLg88m"
      },
      "source": [
        "**Paso 7:** Genere un gráfico explorando todos los parámetros que ofrece el modelo `SVD`, donde se grafiquen los valores probados para cada parámetro y el RMSE obtenido para cada uno. Debe probar una cantidad razonable de valores buscando la mejor parametrización y entregar el notebook con dicha parametrización.\n",
        "\n"
      ]
    },
    {
      "cell_type": "code",
      "metadata": {
        "colab": {
          "base_uri": "https://localhost:8080/"
        },
        "id": "Y_z52GrSax32",
        "outputId": "ed68b44e-e660-40f5-a7e4-243a4ce2628f"
      },
      "source": [
        "# Ejemplo\n",
        "factor_values = [100, 150, 200] # definir distintos numeros de factores\n",
        "mae_values = [] # para almacenar resultados de MAP\n",
        "rmse_values = [] # para almacenar valores de NDCG\n",
        "\n",
        "for f in factor_values:\n",
        "  svd.train(factors=f, maxiter=100, lr=0.01, lamb=0.1)\n",
        "  \n",
        "  predlist, mae, rmse = svd.test(input_file='u2.test',\n",
        "                                 dlmchar=b'\\t',\n",
        "                                 header=False,\n",
        "                                 usercol=0,\n",
        "                                 itemcol=1,\n",
        "                                 ratingcol=2)\n",
        "  \n",
        "  mae_values.append(mae)\n",
        "  rmse_values.append(rmse)\n",
        "\n",
        "print(mae_values)\n",
        "print(rmse_values)"
      ],
      "execution_count": 20,
      "outputs": [
        {
          "output_type": "stream",
          "name": "stdout",
          "text": [
            "[0.7204058439976143, 0.7200559956121918, 0.720391203270627]\n",
            "[0.9143904162164153, 0.9131474737526171, 0.9135860494070488]\n",
            "Recommendation for user 2: [1449, 1512, 169, 1367, 408, 64, 1398, 1642, 1589, 480]\n"
          ]
        }
      ]
    },
    {
      "cell_type": "code",
      "metadata": {
        "colab": {
          "base_uri": "https://localhost:8080/",
          "height": 268
        },
        "id": "UJdwjrMOTw5u",
        "outputId": "af3feeff-8185-41bc-9332-f91ecab87783"
      },
      "source": [
        "plt.plot(factor_values, mae_values, 'r-')\n",
        "plt.show()"
      ],
      "execution_count": null,
      "outputs": [
        {
          "data": {
            "image/png": "[encoded data removed]",
            "text/plain": [
              "<Figure size 432x288 with 1 Axes>"
            ]
          },
          "metadata": {
            "tags": []
          },
          "output_type": "display_data"
        }
      ]
    },
    {
      "cell_type": "code",
      "metadata": {
        "colab": {
          "base_uri": "https://localhost:8080/",
          "height": 268
        },
        "id": "LkNoTG92U7jC",
        "outputId": "9f23c315-e71d-4b36-e6a5-656f764160ea"
      },
      "source": [
        "plt.plot(factor_values, rmse_values, 'bo-')\n",
        "plt.show()"
      ],
      "execution_count": null,
      "outputs": [
        {
          "data": {
            "image/png": "[encoded data removed]",
            "text/plain": [
              "<Figure size 432x288 with 1 Axes>"
            ]
          },
          "metadata": {
            "tags": []
          },
          "output_type": "display_data"
        }
      ]
    },
    {
      "cell_type": "markdown",
      "metadata": {
        "id": "MbQAq2cQqLuW"
      },
      "source": [
        "**Paso 8:** Pruebe con otros valores y/o parámetros:"
      ]
    },
    {
      "cell_type": "markdown",
      "metadata": {
        "id": "xsoGEmIzPuwB"
      },
      "source": [
        "Al probar distintos valores para la cantidad de iteraciones, se puede ver en los gráficos de errores que el valor maxiter=50 nos dá el error más bajo. "
      ]
    },
    {
      "cell_type": "code",
      "metadata": {
        "colab": {
          "base_uri": "https://localhost:8080/"
        },
        "id": "tMFxAlJVUA35",
        "outputId": "c5694023-99a5-4818-abce-46f417bef7a9"
      },
      "source": [
        "iteraciones = [10, 25, 50, 100, 150]\n",
        "mae_values = [] # para almacenar resultados de MAP\n",
        "rmse_values = [] # para almacenar valores de NDCG\n",
        "\n",
        "for i in iteraciones:\n",
        "  svd.train(factors=100, maxiter=i, lr=0.01, lamb=0.1)\n",
        "  \n",
        "  predlist, mae, rmse = svd.test(input_file='u2.test',\n",
        "                                 dlmchar=b'\\t',\n",
        "                                 header=False,\n",
        "                                 usercol=0,\n",
        "                                 itemcol=1,\n",
        "                                 ratingcol=2)\n",
        "  \n",
        "  mae_values.append(mae)\n",
        "  rmse_values.append(rmse)\n",
        "\n",
        "print(mae_values)\n",
        "print(rmse_values)"
      ],
      "execution_count": 54,
      "outputs": [
        {
          "output_type": "stream",
          "name": "stdout",
          "text": [
            "[0.7459719683322195, 0.7255250448224531, 0.7195690208166124, 0.7207268244239342, 0.7214533693929478]\n",
            "[0.9438949333328714, 0.9199503710526125, 0.913596277472999, 0.9149619755097639, 0.9149554647510733]\n"
          ]
        }
      ]
    },
    {
      "cell_type": "code",
      "metadata": {
        "id": "bIPhZpYpP1wD",
        "outputId": "4156a49b-2eac-4cda-f107-0c693645b334",
        "colab": {
          "base_uri": "https://localhost:8080/",
          "height": 268
        }
      },
      "source": [
        "plt.plot(iteraciones, mae_values, 'r-')\n",
        "plt.show()"
      ],
      "execution_count": 55,
      "outputs": [
        {
          "output_type": "display_data",
          "data": {
            "image/png": "[encoded data removed]",
            "text/plain": [
              "<Figure size 432x288 with 1 Axes>"
            ]
          },
          "metadata": {}
        }
      ]
    },
    {
      "cell_type": "code",
      "metadata": {
        "id": "jiOUhtdJP14U",
        "outputId": "07695877-3d21-4b2b-b9bd-a71e52059d06",
        "colab": {
          "base_uri": "https://localhost:8080/",
          "height": 269
        }
      },
      "source": [
        "plt.plot(iteraciones, rmse_values, 'bo-')\n",
        "plt.show()"
      ],
      "execution_count": 56,
      "outputs": [
        {
          "output_type": "display_data",
          "data": {
            "image/png": "[encoded data removed]",
            "text/plain": [
              "<Figure size 432x288 with 1 Axes>"
            ]
          },
          "metadata": {}
        }
      ]
    },
    {
      "cell_type": "markdown",
      "metadata": {
        "id": "u5Az7m5VQKLS"
      },
      "source": [
        "En el caso de learning rates, fuí disminuyendo el valor para ver como se comportaban los errores. Para un valor de 0.008, de puede ver que MAE encuentra un valor mínimo. En el caso de RMSE, este tiene un comportamiento medio raro ya que aumenta o disminuye cada vez que cambiamos el valor. Esto puede ser porque RMSE se saca el cuadrado del error, y puede pasar que cuando se cambie el learning rate se inflen unos errores que no estaban presentes en los otros."
      ]
    },
    {
      "cell_type": "code",
      "metadata": {
        "id": "hG_4iObbQI6o",
        "outputId": "6413d438-005c-4d3f-aed0-9bfbebf5826b",
        "colab": {
          "base_uri": "https://localhost:8080/"
        }
      },
      "source": [
        "learning_rates = [0.003, 0.008, 0.01, 0.015]\n",
        "mae_values = [] # para almacenar resultados de MAP\n",
        "rmse_values = [] # para almacenar valores de NDCG\n",
        "\n",
        "for l in learning_rates:\n",
        "  svd.train(factors=100, maxiter=100, lr=l, lamb=0.1)\n",
        "  \n",
        "  predlist, mae, rmse = svd.test(input_file='u2.test',\n",
        "                                 dlmchar=b'\\t',\n",
        "                                 header=False,\n",
        "                                 usercol=0,\n",
        "                                 itemcol=1,\n",
        "                                 ratingcol=2)\n",
        "  \n",
        "  mae_values.append(mae)\n",
        "  rmse_values.append(rmse)\n",
        "\n",
        "print(mae_values)\n",
        "print(rmse_values)"
      ],
      "execution_count": 51,
      "outputs": [
        {
          "output_type": "stream",
          "name": "stdout",
          "text": [
            "[0.7203228472405393, 0.7202083086517168, 0.7206465478360673, 0.7228233992517742]\n",
            "[0.9136041133162133, 0.9145130638674432, 0.9143710138540334, 0.9169919238651432]\n"
          ]
        }
      ]
    },
    {
      "cell_type": "code",
      "metadata": {
        "id": "DPeq7UzTQK-n",
        "outputId": "9bf47367-0d07-4931-999a-d41d6c75e37f",
        "colab": {
          "base_uri": "https://localhost:8080/",
          "height": 268
        }
      },
      "source": [
        "plt.plot(learning_rates, mae_values, 'r-')\n",
        "plt.show()"
      ],
      "execution_count": 52,
      "outputs": [
        {
          "output_type": "display_data",
          "data": {
            "image/png": "[encoded data removed]",
            "text/plain": [
              "<Figure size 432x288 with 1 Axes>"
            ]
          },
          "metadata": {}
        }
      ]
    },
    {
      "cell_type": "code",
      "metadata": {
        "id": "Fd-Xq8cxQLKS",
        "outputId": "451bc40b-d47e-47c1-a446-b44e5835b30c",
        "colab": {
          "base_uri": "https://localhost:8080/",
          "height": 268
        }
      },
      "source": [
        "plt.plot(learning_rates, rmse_values, 'bo-')\n",
        "plt.show()"
      ],
      "execution_count": 53,
      "outputs": [
        {
          "output_type": "display_data",
          "data": {
            "image/png": "[encoded data removed]",
            "text/plain": [
              "<Figure size 432x288 with 1 Axes>"
            ]
          },
          "metadata": {}
        }
      ]
    },
    {
      "cell_type": "markdown",
      "metadata": {
        "id": "rnWEeqCSQLX8"
      },
      "source": [
        "Al probar con distintos valores para lambda, en los gráficos vemos que el error se hace mínimo cuando lambda=0.1, el cual es el valor por defecto. "
      ]
    },
    {
      "cell_type": "code",
      "metadata": {
        "id": "igFCMroPQLov",
        "outputId": "6d0bd7a3-b080-47dd-c8ad-e925687839fb",
        "colab": {
          "base_uri": "https://localhost:8080/"
        }
      },
      "source": [
        "lambdas = [0.08, 0.1, 0.15, 0.2]\n",
        "mae_values = [] # para almacenar resultados de MAP\n",
        "rmse_values = [] # para almacenar valores de NDCG\n",
        "\n",
        "for l in lambdas:\n",
        "  svd.train(factors=100, maxiter=100, lr=0.01, lamb=l)\n",
        "  \n",
        "  predlist, mae, rmse = svd.test(input_file='u2.test',\n",
        "                                 dlmchar=b'\\t',\n",
        "                                 header=False,\n",
        "                                 usercol=0,\n",
        "                                 itemcol=1,\n",
        "                                 ratingcol=2)\n",
        "  \n",
        "  mae_values.append(mae)\n",
        "  rmse_values.append(rmse)\n",
        "\n",
        "print(mae_values)\n",
        "print(rmse_values)"
      ],
      "execution_count": 45,
      "outputs": [
        {
          "output_type": "stream",
          "name": "stdout",
          "text": [
            "[0.7230204513173311, 0.7208218336594194, 0.7283325382386995, 0.7426342606429961]\n",
            "[0.9188290722187404, 0.9146498065543159, 0.920261168830956, 0.9349246106269076]\n"
          ]
        }
      ]
    },
    {
      "cell_type": "code",
      "metadata": {
        "id": "yhzQt1ExQLvx",
        "outputId": "a35957c0-16e3-4f4c-d216-12b349bfd292",
        "colab": {
          "base_uri": "https://localhost:8080/",
          "height": 268
        }
      },
      "source": [
        "plt.plot(lambdas, mae_values, 'r-')\n",
        "plt.show()"
      ],
      "execution_count": 46,
      "outputs": [
        {
          "output_type": "display_data",
          "data": {
            "image/png": "[encoded data removed]",
            "text/plain": [
              "<Figure size 432x288 with 1 Axes>"
            ]
          },
          "metadata": {}
        }
      ]
    },
    {
      "cell_type": "code",
      "metadata": {
        "id": "TA9QHFzRQL22",
        "outputId": "fe36a0c4-4471-4445-9393-8dc3f1f94a09",
        "colab": {
          "base_uri": "https://localhost:8080/",
          "height": 268
        }
      },
      "source": [
        "plt.plot(lambdas, rmse_values, 'bo-')\n",
        "plt.show()"
      ],
      "execution_count": 47,
      "outputs": [
        {
          "output_type": "display_data",
          "data": {
            "image/png": "[encoded data removed]",
            "text/plain": [
              "<Figure size 432x288 with 1 Axes>"
            ]
          },
          "metadata": {}
        }
      ]
    },
    {
      "cell_type": "code",
      "metadata": {
        "id": "L-kdPSJtRzqn"
      },
      "source": [
        ""
      ],
      "execution_count": null,
      "outputs": []
    }
  ]
}